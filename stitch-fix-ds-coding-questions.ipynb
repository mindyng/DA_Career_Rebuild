{
 "cells": [
  {
   "cell_type": "markdown",
   "id": "5aa23252",
   "metadata": {
    "papermill": {
     "duration": 0.011247,
     "end_time": "2024-02-29T20:55:52.219613",
     "exception": false,
     "start_time": "2024-02-29T20:55:52.208366",
     "status": "completed"
    },
    "tags": []
   },
   "source": [
    "# Make sure to practice in Codility"
   ]
  },
  {
   "cell_type": "code",
   "execution_count": 1,
   "id": "0ddb6ac7",
   "metadata": {
    "_cell_guid": "b1076dfc-b9ad-4769-8c92-a6c4dae69d19",
    "_uuid": "8f2839f25d086af736a60e9eeb907d3b93b6e0e5",
    "execution": {
     "iopub.execute_input": "2024-02-29T20:55:52.244057Z",
     "iopub.status.busy": "2024-02-29T20:55:52.243277Z",
     "iopub.status.idle": "2024-02-29T20:56:10.267511Z",
     "shell.execute_reply": "2024-02-29T20:56:10.265950Z"
    },
    "papermill": {
     "duration": 18.039675,
     "end_time": "2024-02-29T20:56:10.270438",
     "exception": false,
     "start_time": "2024-02-29T20:55:52.230763",
     "status": "completed"
    },
    "tags": []
   },
   "outputs": [],
   "source": [
    "!pip install duckdb jupysql --quiet"
   ]
  },
  {
   "cell_type": "code",
   "execution_count": 2,
   "id": "f2632acc",
   "metadata": {
    "execution": {
     "iopub.execute_input": "2024-02-29T20:56:10.294598Z",
     "iopub.status.busy": "2024-02-29T20:56:10.294192Z",
     "iopub.status.idle": "2024-02-29T20:56:14.126441Z",
     "shell.execute_reply": "2024-02-29T20:56:14.125327Z"
    },
    "papermill": {
     "duration": 3.847416,
     "end_time": "2024-02-29T20:56:14.129163",
     "exception": false,
     "start_time": "2024-02-29T20:56:10.281747",
     "status": "completed"
    },
    "tags": []
   },
   "outputs": [
    {
     "name": "stdout",
     "output_type": "stream",
     "text": [
      "Deploy FastAPI apps for free on Ploomber Cloud! Learn more: https://ploomber.io/s/signup\n"
     ]
    }
   ],
   "source": [
    "import numpy as np\n",
    "import pandas as pd\n",
    "from scipy import stats\n",
    "import scipy.stats\n",
    "import matplotlib.pyplot as plt\n",
    "import seaborn as sns\n",
    "\n",
    "import duckdb\n",
    "%load_ext sql\n",
    "conn = duckdb.connect()\n",
    "%sql conn --alias duckdb"
   ]
  },
  {
   "cell_type": "markdown",
   "id": "cd6a7ed0",
   "metadata": {
    "papermill": {
     "duration": 0.018295,
     "end_time": "2024-02-29T20:56:14.164986",
     "exception": false,
     "start_time": "2024-02-29T20:56:14.146691",
     "status": "completed"
    },
    "tags": []
   },
   "source": [
    "# What is the Python code for calculating the confidence intervals for a mean?"
   ]
  },
  {
   "cell_type": "code",
   "execution_count": 3,
   "id": "a573192a",
   "metadata": {
    "execution": {
     "iopub.execute_input": "2024-02-29T20:56:14.195667Z",
     "iopub.status.busy": "2024-02-29T20:56:14.195108Z",
     "iopub.status.idle": "2024-02-29T20:56:14.208477Z",
     "shell.execute_reply": "2024-02-29T20:56:14.207129Z"
    },
    "papermill": {
     "duration": 0.02842,
     "end_time": "2024-02-29T20:56:14.210692",
     "exception": false,
     "start_time": "2024-02-29T20:56:14.182272",
     "status": "completed"
    },
    "tags": []
   },
   "outputs": [
    {
     "name": "stdout",
     "output_type": "stream",
     "text": [
      "The confidence interval is: (3.3341494103866087, 7.665850589613392)\n"
     ]
    }
   ],
   "source": [
    "#ChatGPT 4.0 Turbo:\n",
    "\n",
    "# Let's assume you have some data in a Python list\n",
    "data = [1, 2, 3, 4, 5, 6, 7, 8, 9, 10]\n",
    "\n",
    "# Calculate the mean and standard error\n",
    "mean = np.mean(data)\n",
    "standard_error = scipy.stats.sem(data)\n",
    "\n",
    "# Define the confidence level to be 95%\n",
    "confidence_level = 0.95\n",
    "\n",
    "# Calculate the confidence interval\n",
    "confidence_interval = scipy.stats.t.interval(confidence_level, len(data)-1, loc=mean, scale=standard_error)\n",
    "\n",
    "print(f\"The confidence interval is: {confidence_interval}\")"
   ]
  },
  {
   "cell_type": "code",
   "execution_count": 4,
   "id": "afe7ad7e",
   "metadata": {
    "execution": {
     "iopub.execute_input": "2024-02-29T20:56:14.235258Z",
     "iopub.status.busy": "2024-02-29T20:56:14.234459Z",
     "iopub.status.idle": "2024-02-29T20:56:14.501727Z",
     "shell.execute_reply": "2024-02-29T20:56:14.500648Z"
    },
    "papermill": {
     "duration": 0.282112,
     "end_time": "2024-02-29T20:56:14.503989",
     "exception": false,
     "start_time": "2024-02-29T20:56:14.221877",
     "status": "completed"
    },
    "tags": []
   },
   "outputs": [
    {
     "data": {
      "image/png": "[encoded data removed]",
      "text/plain": [
       "<Figure size 640x480 with 1 Axes>"
      ]
     },
     "metadata": {},
     "output_type": "display_data"
    }
   ],
   "source": [
    "# Plot the CI intervals\n",
    "\n",
    "# Create a figure and a subplot\n",
    "fig, ax = plt.subplots()\n",
    "\n",
    "# Plot the mean as a red line\n",
    "ax.axhline(mean, color='red')\n",
    "\n",
    "# Plot the confidence interval as a blue band\n",
    "ax.fill_between(range(len(data)), confidence_interval[0], confidence_interval[1], color='blue', alpha=0.2)\n",
    "\n",
    "# Plot the data points\n",
    "ax.plot(data, 'ko')\n",
    "\n",
    "# Show the plot\n",
    "plt.show()"
   ]
  },
  {
   "cell_type": "markdown",
   "id": "b76b9474",
   "metadata": {
    "papermill": {
     "duration": 0.011049,
     "end_time": "2024-02-29T20:56:14.526430",
     "exception": false,
     "start_time": "2024-02-29T20:56:14.515381",
     "status": "completed"
    },
    "tags": []
   },
   "source": [
    "# How can you generate a dataset of 1000 normally distributed points with mean=x and variance=y, provide summary statistics, and plot the density?\n",
    "\n",
    "Origiinal Q: In R, how can you generate a dataset of 1000 normally distributed points with mean=x and variance=y, provide summary statistics, and plot the density? Also, replicate these steps in a Python script within Codility's editor."
   ]
  },
  {
   "cell_type": "code",
   "execution_count": 5,
   "id": "d2996d24",
   "metadata": {
    "execution": {
     "iopub.execute_input": "2024-02-29T20:56:14.552120Z",
     "iopub.status.busy": "2024-02-29T20:56:14.551005Z",
     "iopub.status.idle": "2024-02-29T20:56:15.019289Z",
     "shell.execute_reply": "2024-02-29T20:56:15.018239Z"
    },
    "papermill": {
     "duration": 0.483468,
     "end_time": "2024-02-29T20:56:15.021567",
     "exception": false,
     "start_time": "2024-02-29T20:56:14.538099",
     "status": "completed"
    },
    "tags": []
   },
   "outputs": [
    {
     "name": "stdout",
     "output_type": "stream",
     "text": [
      "              Data\n",
      "count  1000.000000\n",
      "mean     -0.007524\n",
      "std       1.022112\n",
      "min      -3.061308\n",
      "25%      -0.701913\n",
      "50%      -0.016044\n",
      "75%       0.685018\n",
      "max       3.207846\n"
     ]
    },
    {
     "name": "stderr",
     "output_type": "stream",
     "text": [
      "/opt/conda/lib/python3.10/site-packages/seaborn/_oldcore.py:1119: FutureWarning: use_inf_as_na option is deprecated and will be removed in a future version. Convert inf values to NaN before operating instead.\n",
      "  with pd.option_context('mode.use_inf_as_na', True):\n",
      "/opt/conda/lib/python3.10/site-packages/seaborn/_oldcore.py:1075: FutureWarning: When grouping with a length-1 list-like, you will need to pass a length-1 tuple to get_group in a future version of pandas. Pass `(name,)` instead of `name` to silence this warning.\n",
      "  data_subset = grouped_data.get_group(pd_key)\n",
      "/opt/conda/lib/python3.10/site-packages/seaborn/_oldcore.py:1075: FutureWarning: When grouping with a length-1 list-like, you will need to pass a length-1 tuple to get_group in a future version of pandas. Pass `(name,)` instead of `name` to silence this warning.\n",
      "  data_subset = grouped_data.get_group(pd_key)\n",
      "/opt/conda/lib/python3.10/site-packages/seaborn/_oldcore.py:1075: FutureWarning: When grouping with a length-1 list-like, you will need to pass a length-1 tuple to get_group in a future version of pandas. Pass `(name,)` instead of `name` to silence this warning.\n",
      "  data_subset = grouped_data.get_group(pd_key)\n"
     ]
    },
    {
     "data": {
      "image/png": "[encoded data removed]",
      "text/plain": [
       "<Figure size 1000x600 with 1 Axes>"
      ]
     },
     "metadata": {},
     "output_type": "display_data"
    }
   ],
   "source": [
    "# Completing above in Python\n",
    "import numpy as np\n",
    "import pandas as pd\n",
    "import matplotlib.pyplot as plt\n",
    "import seaborn as sns\n",
    "\n",
    "# Set the mean and variance\n",
    "mean = 0  # replace with your value\n",
    "variance = 1  # replace with your value\n",
    "std_dev = np.sqrt(variance)  # standard deviation is the square root of the variance\n",
    "\n",
    "# Generate the dataset\n",
    "data = np.random.normal(loc=mean, scale=std_dev, size=1000)\n",
    "\n",
    "# Convert to pandas DataFrame for easier handling\n",
    "df = pd.DataFrame(data, columns=['Data'])\n",
    "\n",
    "# Print summary statistics\n",
    "print(df.describe())\n",
    "\n",
    "# Plot the density\n",
    "plt.figure(figsize=(10, 6))\n",
    "sns.histplot(df, kde=True)\n",
    "plt.title('Density Plot')\n",
    "plt.xlabel('Data')\n",
    "plt.ylabel('Density')\n",
    "plt.show()"
   ]
  },
  {
   "cell_type": "markdown",
   "id": "43cdb171",
   "metadata": {
    "papermill": {
     "duration": 0.012009,
     "end_time": "2024-02-29T20:56:15.046116",
     "exception": false,
     "start_time": "2024-02-29T20:56:15.034107",
     "status": "completed"
    },
    "tags": []
   },
   "source": [
    "# Explain the concept of percentiles in statistics, and how you would go about finding the nth percentile of a dataset? Can you write a code for finding the nth percentile of a dataset."
   ]
  },
  {
   "cell_type": "markdown",
   "id": "2c88227f",
   "metadata": {
    "papermill": {
     "duration": 0.011967,
     "end_time": "2024-02-29T20:56:15.070334",
     "exception": false,
     "start_time": "2024-02-29T20:56:15.058367",
     "status": "completed"
    },
    "tags": []
   },
   "source": [
    "Simple explanation:\n",
    "\n",
    "Imagine you and your friends just had a race, and the times it took each of you to finish were written down. Now, if these times are arranged from fastest to slowest, the “percentile” is a way of saying what <span style=\"color:#FF0000\"> percentage of the times are less than or equal to a certain time<span>.\n",
    "\n",
    "For example, if your time is at the 50th percentile (also known as the median), that means <span style=\"color:#FF0000\"> you ran faster than or equal to 50% of your friends<span>.\n",
    "\n",
    "Now, let’s say we want to find the nth percentile of a list of numbers (like the race times). Here’s how you can do it with Python code:"
   ]
  },
  {
   "cell_type": "code",
   "execution_count": 6,
   "id": "55209adc",
   "metadata": {
    "execution": {
     "iopub.execute_input": "2024-02-29T20:56:15.096781Z",
     "iopub.status.busy": "2024-02-29T20:56:15.096404Z",
     "iopub.status.idle": "2024-02-29T20:56:15.103117Z",
     "shell.execute_reply": "2024-02-29T20:56:15.102134Z"
    },
    "papermill": {
     "duration": 0.022181,
     "end_time": "2024-02-29T20:56:15.105026",
     "exception": false,
     "start_time": "2024-02-29T20:56:15.082845",
     "status": "completed"
    },
    "tags": []
   },
   "outputs": [
    {
     "name": "stdout",
     "output_type": "stream",
     "text": [
      "The 50th percentile is 6.0\n"
     ]
    }
   ],
   "source": [
    "import numpy as np\n",
    "\n",
    "# Let's say these are the race times\n",
    "times = [5, 8, 4, 7, 6, 3, 7, 8, 5, 6]\n",
    "\n",
    "# And we want to find the 50th percentile (replace 50 with your desired percentile)\n",
    "percentile = 50\n",
    "\n",
    "# Use the numpy.percentile function to find the nth percentile\n",
    "nth_percentile = np.percentile(times, percentile)\n",
    "\n",
    "print(f\"The {percentile}th percentile is {nth_percentile}\")"
   ]
  },
  {
   "cell_type": "markdown",
   "id": "f45510da",
   "metadata": {
    "papermill": {
     "duration": 0.01207,
     "end_time": "2024-02-29T20:56:15.129469",
     "exception": false,
     "start_time": "2024-02-29T20:56:15.117399",
     "status": "completed"
    },
    "tags": []
   },
   "source": [
    "Technical explanation:\n",
    "\n",
    "In statistics, a percentile is a measure used to indicate the value below which a given percentage of observations in a group of observations falls. For example, the 20th percentile is the value (or score) below which 20% of the observations may be found.\n",
    "\n",
    "Percentiles are often used in academics to compare scores across different tests or subjects. They are also used in various fields such as finance, health, and more, to provide a relative standard of measurement.\n",
    "\n",
    "To find the nth percentile of a dataset, you would follow these steps:\n",
    "\n",
    "1. Sort the data in ascending order.\n",
    "2. Calculate the rank ® using the formula R = P/100 * (N + 1), where P is the desired percentile and N is the number of data points.\n",
    "3. \n",
    " * If R is an integer, the Pth percentile is the number at position R in the sorted list.\n",
    " * If R is not an integer, round it up and down to the nearest integers and take the average of the numbers at these two positions in the sorted list.\n",
    " \n",
    "In Python, you can use the numpy.percentile function to calculate percentiles. Here’s an example:"
   ]
  },
  {
   "cell_type": "code",
   "execution_count": 7,
   "id": "974e9284",
   "metadata": {
    "execution": {
     "iopub.execute_input": "2024-02-29T20:56:15.156072Z",
     "iopub.status.busy": "2024-02-29T20:56:15.155659Z",
     "iopub.status.idle": "2024-02-29T20:56:15.163081Z",
     "shell.execute_reply": "2024-02-29T20:56:15.162064Z"
    },
    "papermill": {
     "duration": 0.023053,
     "end_time": "2024-02-29T20:56:15.165123",
     "exception": false,
     "start_time": "2024-02-29T20:56:15.142070",
     "status": "completed"
    },
    "tags": []
   },
   "outputs": [
    {
     "name": "stdout",
     "output_type": "stream",
     "text": [
      "The 25th percentile is 3.25\n"
     ]
    }
   ],
   "source": [
    "import numpy as np\n",
    "\n",
    "# Assuming data is your dataset\n",
    "data = np.array([1, 2, 3, 4, 5, 6, 7, 8, 9, 10])\n",
    "\n",
    "# Calculate the 25th percentile\n",
    "p = 25\n",
    "percentile = np.percentile(data, p)\n",
    "\n",
    "print(f\"The {p}th percentile is {percentile}\")"
   ]
  },
  {
   "cell_type": "markdown",
   "id": "8e5690a8",
   "metadata": {
    "papermill": {
     "duration": 0.012115,
     "end_time": "2024-02-29T20:56:15.189697",
     "exception": false,
     "start_time": "2024-02-29T20:56:15.177582",
     "status": "completed"
    },
    "tags": []
   },
   "source": [
    "# What is the maximum likelihood of getting k heads when you tossed coin n times? Explain the math behind it."
   ]
  },
  {
   "cell_type": "markdown",
   "id": "b01f1a06",
   "metadata": {
    "papermill": {
     "duration": 0.011944,
     "end_time": "2024-02-29T20:56:15.213898",
     "exception": false,
     "start_time": "2024-02-29T20:56:15.201954",
     "status": "completed"
    },
    "tags": []
   },
   "source": [
    "Simple explanation:\n",
    "\n",
    "Imagine you have a fair coin (which means it’s just as likely to land on heads as it is to land on tails), and you flip it n times. Let’s say you get k heads. Now, you’re wondering: <span style=\"color:#FF0000\"> if I did this many times, how often would I get k heads? That’s what “maximum likelihood” is all about! <span>\n",
    "\n",
    "Here’s a simple way to think about it:\n",
    "\n",
    "Each time you flip the coin, there’s a 50% chance it lands on heads, and a 50% chance it lands on tails. That’s because it’s a fair coin.\n",
    "\n",
    "If you flip the coin n times, there are many different outcomes possible. For example, if n=3, you could get HHT, HTH, THH, TTH, THT, HTT, HHH, or TTT (where H represents heads and T represents tails).\n",
    "\n",
    "Out of all these outcomes, some of them have exactly k heads. The “maximum likelihood” is the <span style=\"color:#FF0000\"> most common outcome among these<span>.\n",
    "    \n",
    "In math terms, we use something called the binomial distribution to calculate this. But don’t worry about that for now - the important thing is that the maximum likelihood tells us the <span style=\"color:#FF0000\"> most common outcome if we repeat an experiment many times<span>.\n",
    "\n",
    "Technical explanation:\n",
    "\n",
    "In statistics, the concept of maximum likelihood estimation (MLE) is used to estimate the parameters of a statistical model. In the context of tossing a coin n times and getting k heads, we can use MLE to estimate the probability of getting a head (p).\n",
    "\n",
    "The likelihood of getting k heads in n tosses follows a Binomial distribution. The probability mass function of the Binomial distribution is given by:\n",
    "\n",
    "$$\n",
    "P(X=k) = C(n, k) \\cdot p^k \\cdot (1-p)^{n-k}\n",
    "$$\n",
    "\n",
    "where:\n",
    "- $P(X=k)$ is the probability of getting exactly k heads in n tosses,\n",
    "- $C(n, k)$ is the binomial coefficient, which is the number of ways to choose k heads from n tosses,\n",
    "- $p$ is the probability of getting a head in a single toss,\n",
    "- $n$ is the number of tosses,\n",
    "- $k$ is the number of heads.\n",
    "\n",
    "The MLE for p (probability of getting a head) is simply the sample mean, i.e., the number of heads divided by the number of tosses. So if you tossed a coin n times and observed k heads, your MLE for p would be $\\hat{p} = \\frac{k}{n}$.\n",
    "\n",
    "This is because the likelihood function $L(p; X=k)$ is maximized when $p = \\frac{k}{n}$. You can prove this by taking the derivative of the likelihood function with respect to p, setting it equal to zero, and solving for p. This gives you the value of p that maximizes the likelihood of observing the data given the model, which is the definition of MLE. \n",
    "\n",
    "So, in summary, the maximum likelihood of getting k heads when you tossed a coin n times is achieved when the probability of getting a head is estimated to be the ratio of the number of heads to the total number of tosses. This is a fundamental concept in statistics and is used in many areas of data science."
   ]
  },
  {
   "cell_type": "markdown",
   "id": "96ec4b30",
   "metadata": {
    "papermill": {
     "duration": 0.011948,
     "end_time": "2024-02-29T20:56:15.238164",
     "exception": false,
     "start_time": "2024-02-29T20:56:15.226216",
     "status": "completed"
    },
    "tags": []
   },
   "source": [
    "# What SQL technique would you use to obtain distinct conversation events from a database?"
   ]
  },
  {
   "cell_type": "code",
   "execution_count": 8,
   "id": "9ca3e56f",
   "metadata": {
    "execution": {
     "iopub.execute_input": "2024-02-29T20:56:15.264815Z",
     "iopub.status.busy": "2024-02-29T20:56:15.264426Z",
     "iopub.status.idle": "2024-02-29T20:56:15.268268Z",
     "shell.execute_reply": "2024-02-29T20:56:15.267336Z"
    },
    "papermill": {
     "duration": 0.019823,
     "end_time": "2024-02-29T20:56:15.270471",
     "exception": false,
     "start_time": "2024-02-29T20:56:15.250648",
     "status": "completed"
    },
    "tags": []
   },
   "outputs": [],
   "source": [
    "# SELECT DISTINCT conversation_id, event_type\n",
    "# FROM conversation_events;"
   ]
  },
  {
   "cell_type": "markdown",
   "id": "cc54bc01",
   "metadata": {
    "papermill": {
     "duration": 0.013502,
     "end_time": "2024-02-29T20:56:15.296988",
     "exception": false,
     "start_time": "2024-02-29T20:56:15.283486",
     "status": "completed"
    },
    "tags": []
   },
   "source": [
    "# How would you write a Python script to produce the Fibonacci series?"
   ]
  },
  {
   "cell_type": "code",
   "execution_count": 9,
   "id": "4e87085e",
   "metadata": {
    "execution": {
     "iopub.execute_input": "2024-02-29T20:56:15.323498Z",
     "iopub.status.busy": "2024-02-29T20:56:15.323125Z",
     "iopub.status.idle": "2024-02-29T20:56:15.330496Z",
     "shell.execute_reply": "2024-02-29T20:56:15.329569Z"
    },
    "papermill": {
     "duration": 0.02289,
     "end_time": "2024-02-29T20:56:15.332563",
     "exception": false,
     "start_time": "2024-02-29T20:56:15.309673",
     "status": "completed"
    },
    "tags": []
   },
   "outputs": [
    {
     "name": "stdout",
     "output_type": "stream",
     "text": [
      "[0, 1, 1, 2, 3, 5, 8, 13, 21, 34]\n"
     ]
    }
   ],
   "source": [
    "def fibonacci(n):\n",
    "    fib_sequence = [0, 1]\n",
    "    while len(fib_sequence) < n:\n",
    "        fib_sequence.append(fib_sequence[-1] + fib_sequence[-2])\n",
    "    return fib_sequence\n",
    "\n",
    "# Print the first 10 terms of the Fibonacci series\n",
    "print(fibonacci(10))"
   ]
  },
  {
   "cell_type": "markdown",
   "id": "0d78db0d",
   "metadata": {
    "papermill": {
     "duration": 0.01203,
     "end_time": "2024-02-29T20:56:15.356982",
     "exception": false,
     "start_time": "2024-02-29T20:56:15.344952",
     "status": "completed"
    },
    "tags": []
   },
   "source": [
    "# Can you write a Python function that yields a Bernoulli-distributed matrix and scales each element by the sum of its respective column?"
   ]
  },
  {
   "cell_type": "code",
   "execution_count": 10,
   "id": "626ca5da",
   "metadata": {
    "execution": {
     "iopub.execute_input": "2024-02-29T20:56:15.383533Z",
     "iopub.status.busy": "2024-02-29T20:56:15.383145Z",
     "iopub.status.idle": "2024-02-29T20:56:15.392885Z",
     "shell.execute_reply": "2024-02-29T20:56:15.392038Z"
    },
    "papermill": {
     "duration": 0.025511,
     "end_time": "2024-02-29T20:56:15.395027",
     "exception": false,
     "start_time": "2024-02-29T20:56:15.369516",
     "status": "completed"
    },
    "tags": []
   },
   "outputs": [
    {
     "data": {
      "text/plain": [
       "array([[0.5       , 0.        , 0.33333333],\n",
       "       [0.        , 0.5       , 0.33333333],\n",
       "       [0.5       , 0.5       , 0.33333333]])"
      ]
     },
     "execution_count": 10,
     "metadata": {},
     "output_type": "execute_result"
    }
   ],
   "source": [
    "def generate_and_scale_matrix(n_rows, n_cols, p=0.5):\n",
    "    # Generate a Bernoulli-distributed matrix\n",
    "    matrix = np.random.binomial(1, p, size=(n_rows, n_cols))\n",
    "    \n",
    "    # Calculate the column sums\n",
    "    col_sums = matrix.sum(axis=0)\n",
    "    \n",
    "    # To avoid division by zero, replace zero sums with a small number\n",
    "    col_sums[col_sums == 0] = 1e-10\n",
    "    \n",
    "    # Scale each element by the sum of its respective column\n",
    "    scaled_matrix = matrix / col_sums\n",
    "    \n",
    "    return scaled_matrix\n",
    "\n",
    "generate_and_scale_matrix(3,3)"
   ]
  },
  {
   "cell_type": "markdown",
   "id": "0046f619",
   "metadata": {
    "papermill": {
     "duration": 0.012697,
     "end_time": "2024-02-29T20:56:15.420440",
     "exception": false,
     "start_time": "2024-02-29T20:56:15.407743",
     "status": "completed"
    },
    "tags": []
   },
   "source": [
    "# Outline the development of a shuffle() function that employs roll() to ensure equal probability of permutations."
   ]
  },
  {
   "cell_type": "code",
   "execution_count": 11,
   "id": "67ac995d",
   "metadata": {
    "execution": {
     "iopub.execute_input": "2024-02-29T20:56:15.511214Z",
     "iopub.status.busy": "2024-02-29T20:56:15.510780Z",
     "iopub.status.idle": "2024-02-29T20:56:15.521105Z",
     "shell.execute_reply": "2024-02-29T20:56:15.520349Z"
    },
    "papermill": {
     "duration": 0.026328,
     "end_time": "2024-02-29T20:56:15.522980",
     "exception": false,
     "start_time": "2024-02-29T20:56:15.496652",
     "status": "completed"
    },
    "tags": []
   },
   "outputs": [
    {
     "data": {
      "text/plain": [
       "['3 of Spades',\n",
       " '2 of Clubs',\n",
       " '7 of Hearts',\n",
       " '4 of Diamonds',\n",
       " '7 of Spades',\n",
       " '7 of Clubs',\n",
       " 'King of Hearts',\n",
       " '8 of Hearts',\n",
       " 'King of Diamonds',\n",
       " '6 of Hearts',\n",
       " '10 of Hearts',\n",
       " '2 of Diamonds',\n",
       " '6 of Clubs',\n",
       " 'Jack of Diamonds',\n",
       " '8 of Spades',\n",
       " '6 of Spades',\n",
       " '4 of Clubs',\n",
       " '10 of Spades',\n",
       " 'Queen of Hearts',\n",
       " '8 of Diamonds',\n",
       " '5 of Spades',\n",
       " '9 of Hearts',\n",
       " '10 of Diamonds',\n",
       " '2 of Spades',\n",
       " 'Ace of Diamonds',\n",
       " '2 of Hearts',\n",
       " '5 of Clubs',\n",
       " 'Queen of Spades',\n",
       " 'Jack of Hearts',\n",
       " '7 of Diamonds',\n",
       " '3 of Clubs',\n",
       " '4 of Spades',\n",
       " '3 of Hearts',\n",
       " '3 of Diamonds',\n",
       " '5 of Hearts',\n",
       " '8 of Clubs',\n",
       " 'Queen of Clubs',\n",
       " 'Jack of Clubs',\n",
       " '6 of Diamonds',\n",
       " 'King of Clubs',\n",
       " 'Ace of Spades',\n",
       " '9 of Clubs',\n",
       " 'Queen of Diamonds',\n",
       " 'Jack of Spades',\n",
       " 'Ace of Hearts',\n",
       " '10 of Clubs',\n",
       " '9 of Spades',\n",
       " 'King of Spades',\n",
       " '5 of Diamonds',\n",
       " 'Ace of Clubs',\n",
       " '9 of Diamonds',\n",
       " '4 of Hearts']"
      ]
     },
     "execution_count": 11,
     "metadata": {},
     "output_type": "execute_result"
    }
   ],
   "source": [
    "import random\n",
    "\n",
    "def shuffle(deck):\n",
    "    # Go through each card in the deck\n",
    "    for i in range(len(deck)):\n",
    "        # Choose a random other card in the deck\n",
    "        j = random.randint(i, len(deck) - 1) # this and following line produces roll()\n",
    "        # Swap them\n",
    "        deck[i], deck[j] = deck[j], deck[i]\n",
    "    return deck\n",
    "\n",
    "deck = ['Ace of Spades', '2 of Spades', '3 of Spades', '4 of Spades', '5 of Spades', '6 of Spades', '7 of Spades', '8 of Spades', '9 of Spades', '10 of Spades', 'Jack of Spades', 'Queen of Spades', 'King of Spades',\n",
    "        'Ace of Hearts', '2 of Hearts', '3 of Hearts', '4 of Hearts', '5 of Hearts', '6 of Hearts', '7 of Hearts', '8 of Hearts', '9 of Hearts', '10 of Hearts', 'Jack of Hearts', 'Queen of Hearts', 'King of Hearts',\n",
    "        'Ace of Diamonds', '2 of Diamonds', '3 of Diamonds', '4 of Diamonds', '5 of Diamonds', '6 of Diamonds', '7 of Diamonds', '8 of Diamonds', '9 of Diamonds', '10 of Diamonds', 'Jack of Diamonds', 'Queen of Diamonds', 'King of Diamonds',\n",
    "        'Ace of Clubs', '2 of Clubs', '3 of Clubs', '4 of Clubs', '5 of Clubs', '6 of Clubs', '7 of Clubs', '8 of Clubs', '9 of Clubs', '10 of Clubs', 'Jack of Clubs', 'Queen of Clubs', 'King of Clubs']\n",
    "\n",
    "shuffle(deck)"
   ]
  },
  {
   "cell_type": "markdown",
   "id": "8ecf5336",
   "metadata": {
    "papermill": {
     "duration": 0.012641,
     "end_time": "2024-02-29T20:56:15.548620",
     "exception": false,
     "start_time": "2024-02-29T20:56:15.535979",
     "status": "completed"
    },
    "tags": []
   },
   "source": [
    "# Have you ever encountered a coin that you suspected to be biased? If so, what gave it away?"
   ]
  },
  {
   "cell_type": "markdown",
   "id": "12cdb80d",
   "metadata": {
    "papermill": {
     "duration": 0.012586,
     "end_time": "2024-02-29T20:56:15.574091",
     "exception": false,
     "start_time": "2024-02-29T20:56:15.561505",
     "status": "completed"
    },
    "tags": []
   },
   "source": [
    "A coin might be suspected of being biased if it consistently lands on one side more often than the other over a large number of flips (streaks). This could be due to its weight distribution, the way it’s flipped, or other factors. For example, if you <span style=\"color:#FF0000\"> flipped a coin 100 times<span> and it landed on heads <span style=\"color:#FF0000\">80 times<span>, you might suspect that the coin is biased towards heads.\n",
    "\n",
    "However, it’s important to remember that randomness can sometimes produce results that seem non-random. Even <span style=\"color:#FF0000\">a fair coin could, by chance, land on heads 80 times out of 100<span>. So, to be confident that a coin is biased, you would need to see a significant deviation from the expected 50/50 split of heads and tails over a large number of flips.\n",
    "\n",
    "Statistical tests, such as the <span style=\"color:#FF0000\">Chi-Square test<span>, can be used to determine if the difference between the observed results and the expected results is statistically significant. <span style=\"color:#FF0000\">If the test shows that the difference is statistically significant, it would give away that the coin is likely biased<span>."
   ]
  },
  {
   "cell_type": "markdown",
   "id": "68a07776",
   "metadata": {
    "papermill": {
     "duration": 0.01318,
     "end_time": "2024-02-29T20:56:15.600748",
     "exception": false,
     "start_time": "2024-02-29T20:56:15.587568",
     "status": "completed"
    },
    "tags": []
   },
   "source": [
    "# Assuming you have a container holding 4 red balls and 2 blue balls, what are the chances of selecting one red ball and one blue ball consecutively without returning the first pick?"
   ]
  },
  {
   "cell_type": "markdown",
   "id": "4d92b2d0",
   "metadata": {
    "papermill": {
     "duration": 0.012894,
     "end_time": "2024-02-29T20:56:15.626798",
     "exception": false,
     "start_time": "2024-02-29T20:56:15.613904",
     "status": "completed"
    },
    "tags": []
   },
   "source": [
    "First, let’s find the total number of balls. \n",
    "\n",
    "We have 4 red balls and 2 blue balls, so that’s 6 balls in total.\n",
    "If we want to pick one red ball first, there are 4 red balls out of 6 total balls. So the probability of picking a red ball first is 4 out of 6, or \n",
    "\n",
    "$\\frac{4}{6}$ = $\\frac{2}{3}$\n",
    ".\n",
    "\n",
    "After we’ve picked a red ball, we don’t put it back in the container. So now there are only 5 balls left in the container.\n",
    "\n",
    "Next, we want to pick a blue ball. There are 2 blue balls out of the 5 remaining balls. So the probability of picking a blue ball next is 2 out of 5, or \n",
    "\n",
    "$\\frac{2}{5}$\n",
    "​\n",
    ".\n",
    "To find the probability of both events happening in order (picking a red ball first and then a blue ball), we multiply the probabilities together:\n",
    "\n",
    "$\\frac{2}{3}$ x $\\frac{2}{5}$ = $\\frac{4}{15}$\n",
    "​\n",
    "\n",
    "So the chances of picking one red ball and then one blue ball consecutively without returning the first pick is \n",
    "\n",
    "$\\frac{4}{15}$​"
   ]
  },
  {
   "cell_type": "markdown",
   "id": "bbdbf809",
   "metadata": {
    "papermill": {
     "duration": 0.012617,
     "end_time": "2024-02-29T20:56:15.652474",
     "exception": false,
     "start_time": "2024-02-29T20:56:15.639857",
     "status": "completed"
    },
    "tags": []
   },
   "source": [
    "(Most likely will not be a plausible question given role, but including just in case)\n",
    "\n",
    "# Can you demonstrate how dynamic programming can be used to find an array's longest increasing sequence?"
   ]
  },
  {
   "cell_type": "code",
   "execution_count": 12,
   "id": "ffd6e1da",
   "metadata": {
    "execution": {
     "iopub.execute_input": "2024-02-29T20:56:15.680006Z",
     "iopub.status.busy": "2024-02-29T20:56:15.679616Z",
     "iopub.status.idle": "2024-02-29T20:56:15.687102Z",
     "shell.execute_reply": "2024-02-29T20:56:15.685923Z"
    },
    "papermill": {
     "duration": 0.023678,
     "end_time": "2024-02-29T20:56:15.689116",
     "exception": false,
     "start_time": "2024-02-29T20:56:15.665438",
     "status": "completed"
    },
    "tags": []
   },
   "outputs": [
    {
     "name": "stdout",
     "output_type": "stream",
     "text": [
      "Length of the longest increasing subsequence is 5\n"
     ]
    }
   ],
   "source": [
    "def longest_increasing_subsequence(arr):\n",
    "    n = len(arr)\n",
    "\n",
    "    # Initialize the list with 1, because a single character itself is a subsequence of length 1\n",
    "    lis = [1] * n\n",
    "\n",
    "    # Compute optimized LIS values in a bottom-up manner\n",
    "    for i in range (1, n):\n",
    "        for j in range(0, i):\n",
    "            if arr[i] > arr[j] and lis[i] < lis[j] + 1:\n",
    "                lis[i] = lis[j]+1\n",
    "\n",
    "    # Initialize maximum to 0 to get the maximum of all LIS\n",
    "    maximum = 0\n",
    "\n",
    "    # Pick maximum of all LIS values\n",
    "    for i in range(len(lis)):\n",
    "        maximum = max(maximum, lis[i])\n",
    "\n",
    "    return maximum\n",
    "\n",
    "# Test the function\n",
    "arr = [10, 22, 9, 33, 21, 50, 41, 60]\n",
    "print(\"Length of the longest increasing subsequence is\", longest_increasing_subsequence(arr))"
   ]
  },
  {
   "cell_type": "markdown",
   "id": "0bbd16ce",
   "metadata": {
    "papermill": {
     "duration": 0.01304,
     "end_time": "2024-02-29T20:56:15.715265",
     "exception": false,
     "start_time": "2024-02-29T20:56:15.702225",
     "status": "completed"
    },
    "tags": []
   },
   "source": [
    "# Can you walk me through the process of conducting an A/B test to compare the effectiveness of two product campaigns, with a goal of detecting a 3% improvement in performance?"
   ]
  },
  {
   "cell_type": "markdown",
   "id": "f7119f86",
   "metadata": {
    "execution": {
     "iopub.execute_input": "2024-02-28T19:51:25.220216Z",
     "iopub.status.busy": "2024-02-28T19:51:25.219880Z",
     "iopub.status.idle": "2024-02-28T19:51:25.284151Z",
     "shell.execute_reply": "2024-02-28T19:51:25.282465Z",
     "shell.execute_reply.started": "2024-02-28T19:51:25.220190Z"
    },
    "papermill": {
     "duration": 0.013284,
     "end_time": "2024-02-29T20:56:15.741906",
     "exception": false,
     "start_time": "2024-02-29T20:56:15.728622",
     "status": "completed"
    },
    "tags": []
   },
   "source": [
    "Refer to:\n",
    "1. DS Interview A/B Testing Question in INTERVIEW PREP\n",
    "2. A/B Testing Practicaly \n",
    "* Customize hypothesis statements\n",
    "* and MDE of 3%\n",
    "* CUPED to reduce variance, etc needed?"
   ]
  },
  {
   "cell_type": "markdown",
   "id": "8b65387c",
   "metadata": {
    "papermill": {
     "duration": 0.012691,
     "end_time": "2024-02-29T20:56:15.767861",
     "exception": false,
     "start_time": "2024-02-29T20:56:15.755170",
     "status": "completed"
    },
    "tags": []
   },
   "source": [
    "(Most likely will not be asked this, but still including)\n",
    "\n",
    "# Can you demonstrate an algorithm to combine two sorted arrays into one that remains sorted?"
   ]
  },
  {
   "cell_type": "code",
   "execution_count": 13,
   "id": "881eb27c",
   "metadata": {
    "execution": {
     "iopub.execute_input": "2024-02-29T20:56:15.795730Z",
     "iopub.status.busy": "2024-02-29T20:56:15.795374Z",
     "iopub.status.idle": "2024-02-29T20:56:15.801984Z",
     "shell.execute_reply": "2024-02-29T20:56:15.801272Z"
    },
    "papermill": {
     "duration": 0.023406,
     "end_time": "2024-02-29T20:56:15.804369",
     "exception": false,
     "start_time": "2024-02-29T20:56:15.780963",
     "status": "completed"
    },
    "tags": []
   },
   "outputs": [
    {
     "name": "stdout",
     "output_type": "stream",
     "text": [
      "[1, 2, 3, 4, 5, 6, 7, 8]\n"
     ]
    }
   ],
   "source": [
    "def merge_sorted_lists(list1, list2):\n",
    "    # Initialize an empty list to store the sorted elements\n",
    "    sorted_list = []\n",
    "    \n",
    "    # While both lists have elements\n",
    "    while list1 and list2:\n",
    "        # If the first element of list1 is smaller\n",
    "        if list1[0] < list2[0]:\n",
    "            # Append it to the sorted list and remove it from list1\n",
    "            sorted_list.append(list1.pop(0))\n",
    "        else:\n",
    "            # Otherwise, append the first element of list2 to the sorted list and remove it from list2\n",
    "            sorted_list.append(list2.pop(0))\n",
    "    \n",
    "    # If there are remaining elements in either list, add them to the sorted list\n",
    "    sorted_list += list1\n",
    "    sorted_list += list2\n",
    "    \n",
    "    return sorted_list\n",
    "\n",
    "list1 = [1, 3, 5, 7]\n",
    "list2 = [2, 4, 6, 8]\n",
    "merged_list = merge_sorted_lists(list1, list2)\n",
    "print(merged_list)  # Output: [1, 2, 3, 4, 5, 6, 7, 8]"
   ]
  },
  {
   "cell_type": "markdown",
   "id": "8b8db470",
   "metadata": {
    "papermill": {
     "duration": 0.013042,
     "end_time": "2024-02-29T20:56:15.830864",
     "exception": false,
     "start_time": "2024-02-29T20:56:15.817822",
     "status": "completed"
    },
    "tags": []
   },
   "source": [
    "(Might not be asked, but still including)\n",
    "\n",
    "# Could you architect a Python class that functions as an iterator for sequences?"
   ]
  },
  {
   "cell_type": "code",
   "execution_count": 14,
   "id": "77a17af9",
   "metadata": {
    "execution": {
     "iopub.execute_input": "2024-02-29T20:56:15.858828Z",
     "iopub.status.busy": "2024-02-29T20:56:15.858469Z",
     "iopub.status.idle": "2024-02-29T20:56:15.865472Z",
     "shell.execute_reply": "2024-02-29T20:56:15.864574Z"
    },
    "papermill": {
     "duration": 0.024048,
     "end_time": "2024-02-29T20:56:15.868009",
     "exception": false,
     "start_time": "2024-02-29T20:56:15.843961",
     "status": "completed"
    },
    "tags": []
   },
   "outputs": [
    {
     "name": "stdout",
     "output_type": "stream",
     "text": [
      "1\n",
      "2\n",
      "3\n",
      "4\n",
      "5\n"
     ]
    }
   ],
   "source": [
    "class SequenceIterator:\n",
    "    def __init__(self, sequence):\n",
    "        # The sequence to iterate over\n",
    "        self.sequence = sequence\n",
    "        # The current index of the sequence\n",
    "        self.index = 0\n",
    "\n",
    "    def __iter__(self):\n",
    "        # The __iter__ method returns the iterator object itself\n",
    "        return self\n",
    "\n",
    "    def __next__(self):\n",
    "        # The __next__ method returns the next value from the sequence\n",
    "        if self.index < len(self.sequence):\n",
    "            result = self.sequence[self.index]\n",
    "            self.index += 1\n",
    "            return result\n",
    "        else:\n",
    "            # Once all items have been returned, raise the StopIteration exception\n",
    "            raise StopIteration\n",
    "\n",
    "seq_iter = SequenceIterator([1, 2, 3, 4, 5])\n",
    "for item in seq_iter:\n",
    "    print(item)  # Output: 1, 2, 3, 4, 5 (on separate lines)"
   ]
  },
  {
   "cell_type": "markdown",
   "id": "26f844ce",
   "metadata": {
    "papermill": {
     "duration": 0.012921,
     "end_time": "2024-02-29T20:56:15.894854",
     "exception": false,
     "start_time": "2024-02-29T20:56:15.881933",
     "status": "completed"
    },
    "tags": []
   },
   "source": [
    "# What would be your advice for a product team if usage metrics show a decline leading up to a new product launch?"
   ]
  },
  {
   "cell_type": "markdown",
   "id": "dcdc303d",
   "metadata": {
    "execution": {
     "iopub.execute_input": "2024-02-28T22:53:08.903636Z",
     "iopub.status.busy": "2024-02-28T22:53:08.903215Z",
     "iopub.status.idle": "2024-02-28T22:53:08.941863Z",
     "shell.execute_reply": "2024-02-28T22:53:08.940105Z",
     "shell.execute_reply.started": "2024-02-28T22:53:08.903498Z"
    },
    "papermill": {
     "duration": 0.012646,
     "end_time": "2024-02-29T20:56:15.920767",
     "exception": false,
     "start_time": "2024-02-29T20:56:15.908121",
     "status": "completed"
    },
    "tags": []
   },
   "source": [
    "1. Ask some clarifying questions.\n",
    "* This is right after a full experiment run?\n",
    "* Competitor launched something?\n",
    "* Some change in local/gov't laws?\n",
    "\n",
    "\n",
    "* If key and guardrail metrics drop significantly and continuously then consider taking a step back and re-eval experiment for benefit of users and prod!\n",
    "\n",
    "* If there are SURPRISES(not stat sig pos result/stat sig neg result), delve deeper to understand why\n",
    "**  New/old users, channels, geographic regions assuming these were not used as invariant metrics\n",
    "* Usually, not having stat sig results due to INSUFFICIENT  STAT POWER\n",
    "*  Try other metrics with less variance\n",
    "** CUPED -  uses pre-experiment data to control for natural variation in an experiment’s north star metric. By removing natural variation, we can run statistical tests that require a smaller sample size. CUPED can be added to virtually any A/B testing framework; it’s computationally efficient and fairly straightforward to code.\n",
    "\n",
    "\n",
    "* Validity Checks-Did the experiment run soundly without errors or bias?\n",
    "\t* Flawed experiment design?\n",
    "\t* Instrumentation Effect- Guardrail metrics e.g. Latency time - bugs/glitches\n",
    "\t* External Factors- Holidays, Competition Launched something important, economic disruptions - COVID\n",
    "\t* Selection Bias - underlying dist between ctl and treatment before running test are homogenous--> run A/A test\n",
    "\t* Sample Ratio Mismatch- to ensure ratio between two user groups is sound (50/50 and not 49.51)-> Chi-Square Goodness of Fit Test \n",
    "\t* Novelty Effect- change to website, reaction to exposure to something new. Look at it by user segment; underlying diff in success metric in terms of new vs recurring users. If there is delta then presence of novelty effect--> run experiment in novelty group then run experiment again in recurring user group\n",
    "\n",
    "\n",
    "As a product data scientist, my advice would be to approach this situation systematically and objectively. Here are the steps I would recommend:\n",
    "\n",
    "1. **Understand the Metrics**: First, it's important to understand what the metrics are telling us. Is the decline across all user segments or specific to certain ones? Are there any patterns or trends that could explain this decline?\n",
    "\n",
    "2. **Investigate the Cause**: Once we have a better understanding of the metrics, the next step is to investigate potential causes. This could involve looking at user feedback, conducting user interviews, or analyzing product usage data.\n",
    "\n",
    "3. **Evaluate the New Feature**: It's also important to evaluate the new feature itself. Is it functioning as expected? Are there any bugs or issues that could be causing users to leave?\n",
    "\n",
    "4. **Conduct (another) A/B Testing**: If possible, conduct A/B testing to compare the performance of the new feature against the old one. This can provide valuable insights into whether the new feature is contributing to the decline in usage.\n",
    "\n",
    "5. **Develop a Plan**: Based on the findings from the above steps, develop a plan to address the issue. This could involve making changes to the new feature, improving user education and communication, or adjusting the product launch strategy.\n",
    "\n",
    "6. **Monitor and Iterate**: After implementing the plan, continue to monitor the usage metrics and iterate on the strategy as needed. Remember, product development is a continuous process of learning and improving.\n",
    "\n",
    "It's important to remember that a decline in usage metrics is not necessarily a bad thing. It could be a sign that users are not finding value in the current product, which is valuable information for the product team. The key is to understand why the decline is happening and use that information to make informed decisions about the product launch. Good luck! 😊"
   ]
  },
  {
   "cell_type": "markdown",
   "id": "ef4a8829",
   "metadata": {
    "papermill": {
     "duration": 0.01269,
     "end_time": "2024-02-29T20:56:15.946446",
     "exception": false,
     "start_time": "2024-02-29T20:56:15.933756",
     "status": "completed"
    },
    "tags": []
   },
   "source": [
    "# Can you share a probability distribution that deviates from the regular normal distribution? Also, can you give us some illustrations of an actual world situation where this distribution is applicable?"
   ]
  },
  {
   "cell_type": "markdown",
   "id": "ce6fb36f",
   "metadata": {
    "papermill": {
     "duration": 0.012749,
     "end_time": "2024-02-29T20:56:15.972100",
     "exception": false,
     "start_time": "2024-02-29T20:56:15.959351",
     "status": "completed"
    },
    "tags": []
   },
   "source": [
    "Sure, one example of a probability distribution that deviates from the normal distribution is the **Exponential Distribution**. \n",
    "\n",
    "The exponential distribution is often used to model the time between events in a Poisson point process, which is a process in which events occur continuously and independently at a constant average rate. It has a parameter λ called rate parameter, and its equation is:\n",
    "\n",
    "$$\n",
    "f(x|\\lambda) = \n",
    "\\begin{cases} \n",
    "\\lambda e^{-\\lambda x} & \\text{for } x \\geq 0, \\\\\n",
    "0 & \\text{for } x < 0.\n",
    "\\end{cases}\n",
    "$$\n",
    "\n",
    "Unlike the normal distribution, the exponential distribution is not symmetric and has a skew to the right, or positive skew. This makes it suitable for modeling phenomena where large values (outliers) are less likely than smaller ones, such as the <span style=\"color:#FF0000\">life span of an electronic device or the time between phone calls at a call center<span>.\n",
    "\n",
    "Remember, choosing the right distribution to model a phenomenon depends on the characteristics of the data and the nature of the phenomenon itself. It's always a good idea to understand the underlying assumptions and implications of the distribution you choose. 😊"
   ]
  },
  {
   "cell_type": "markdown",
   "id": "e3858756",
   "metadata": {
    "papermill": {
     "duration": 0.012904,
     "end_time": "2024-02-29T20:56:15.998029",
     "exception": false,
     "start_time": "2024-02-29T20:56:15.985125",
     "status": "completed"
    },
    "tags": []
   },
   "source": [
    "# Could you develop an algorithm to emulate rolling an X-sided dice with distinct probabilities for each side?"
   ]
  },
  {
   "cell_type": "code",
   "execution_count": 15,
   "id": "4c52b5f4",
   "metadata": {
    "execution": {
     "iopub.execute_input": "2024-02-29T20:56:16.027652Z",
     "iopub.status.busy": "2024-02-29T20:56:16.027285Z",
     "iopub.status.idle": "2024-02-29T20:56:16.034746Z",
     "shell.execute_reply": "2024-02-29T20:56:16.033617Z"
    },
    "papermill": {
     "duration": 0.025638,
     "end_time": "2024-02-29T20:56:16.037323",
     "exception": false,
     "start_time": "2024-02-29T20:56:16.011685",
     "status": "completed"
    },
    "tags": []
   },
   "outputs": [
    {
     "name": "stdout",
     "output_type": "stream",
     "text": [
      "You rolled a 4!\n"
     ]
    }
   ],
   "source": [
    "def roll_dice(n_sides, probabilities):\n",
    "    # Check if the probabilities sum up to 1\n",
    "    if round(sum(probabilities),2) != 1:\n",
    "        raise ValueError(\"Probabilities must sum up to 1.\")\n",
    "    \n",
    "    # Check if the number of probabilities matches the number of sides\n",
    "    if len(probabilities) != n_sides:\n",
    "        raise ValueError(\"Number of probabilities must match the number of sides.\")\n",
    "    \n",
    "    # Create a list of sides\n",
    "    sides = list(range(1, n_sides + 1))\n",
    "    \n",
    "    # Use numpy's random.choice to roll the dice\n",
    "    roll = np.random.choice(sides, p=probabilities)\n",
    "    \n",
    "    return roll\n",
    "\n",
    "n_sides = 6\n",
    "probabilities = [0.1, 0.2, 0.2, 0.2, 0.2, 0.1]\n",
    "roll = roll_dice(n_sides, probabilities)\n",
    "print(f\"You rolled a {roll}!\")"
   ]
  },
  {
   "cell_type": "markdown",
   "id": "2345b4ee",
   "metadata": {
    "papermill": {
     "duration": 0.013377,
     "end_time": "2024-02-29T20:56:16.064009",
     "exception": false,
     "start_time": "2024-02-29T20:56:16.050632",
     "status": "completed"
    },
    "tags": []
   },
   "source": [
    "# Can you provide a succinct explanation for the term embedding?"
   ]
  },
  {
   "cell_type": "markdown",
   "id": "b0b37b78",
   "metadata": {
    "papermill": {
     "duration": 0.01287,
     "end_time": "2024-02-29T20:56:16.090260",
     "exception": false,
     "start_time": "2024-02-29T20:56:16.077390",
     "status": "completed"
    },
    "tags": []
   },
   "source": [
    "In the context of machine learning, an embedding is\n",
    "* a learned representation for some set of items (like words, users, or products) where that representation is a vector in a continuous vector space. \n",
    "* The key idea is that similar items will have similar vectors, meaning they will be close together in the vector space. \n",
    "* This allows us to capture complex relationships between items, and use these vectors as input to machine learning models. \n",
    "* For example, in natural language processing, word embeddings are used to capture semantic meaning of words based on their context in a corpus of text."
   ]
  },
  {
   "cell_type": "markdown",
   "id": "797da1fa",
   "metadata": {
    "papermill": {
     "duration": 0.01273,
     "end_time": "2024-02-29T20:56:16.116171",
     "exception": false,
     "start_time": "2024-02-29T20:56:16.103441",
     "status": "completed"
    },
    "tags": []
   },
   "source": [
    "# How would you demystify the concept of P-value for a team member who isn't tech-savvy?"
   ]
  },
  {
   "cell_type": "markdown",
   "id": "8513e72d",
   "metadata": {
    "papermill": {
     "duration": 0.012703,
     "end_time": "2024-02-29T20:56:16.141994",
     "exception": false,
     "start_time": "2024-02-29T20:56:16.129291",
     "status": "completed"
    },
    "tags": []
   },
   "source": [
    "* not surprising results mean high value\n",
    "* surprising results mean low value \n",
    "\n",
    "Imagine you and your friend are playing a game of guessing the number of candies in a jar. Your friend guesses that there are 50 candies, but you think there are more. To prove your point, you both start counting the candies.\n",
    "\n",
    "The p-value is like a tool that helps you decide who is right. If you count the candies and find exactly 50, the p-value will be high, which means your friend was probably right. But if you find a lot more than 50 candies, the p-value will be low, which means you were probably right.\n",
    "\n",
    "So, in simple terms, a p-value is a measure of how surprised we should be by the result we see (like the number of candies in the jar). A low p-value means the result is surprising (and you were probably right), while a high p-value means the result is not surprising (and your friend was probably right).\n",
    "\n",
    "This one may help, but did not help me understand the concept better:\n",
    "\n",
    "Imagine you’re flipping a coin. Normally, you’d expect to get heads about 50% of the time, and tails about 50% of the time. But let’s say you flip the coin 100 times, and you get 75 heads. You might start to wonder if the coin is actually fair.\n",
    "\n",
    "This is where the p-value comes in. The p-value is a way of quantifying your skepticism. It’s the probability that you would see the result you have (or something more extreme) if the coin were actually fair.\n",
    "\n",
    "So, in this case, a low p-value (typically below 0.05) would mean that getting 75 heads in 100 flips is highly unlikely if the coin is fair. This might lead you to conclude that the coin is probably not fair.\n",
    "\n",
    "On the other hand, a high p-value would mean that getting 75 heads in 100 flips isn’t that surprising, and could easily happen by chance even if the coin is fair.\n",
    "\n",
    "In summary, the p-value is a tool we use in statistics to help us decide whether the results we see in an experiment are surprising enough that we should reject our initial assumptions (like the assumption that the coin is fair)"
   ]
  },
  {
   "cell_type": "markdown",
   "id": "73eb193e",
   "metadata": {
    "papermill": {
     "duration": 0.012804,
     "end_time": "2024-02-29T20:56:16.167955",
     "exception": false,
     "start_time": "2024-02-29T20:56:16.155151",
     "status": "completed"
    },
    "tags": []
   },
   "source": [
    "# Can you simplify the explanation of regression for someone without a stats background?"
   ]
  },
  {
   "cell_type": "markdown",
   "id": "d9710fa1",
   "metadata": {
    "papermill": {
     "duration": 0.012722,
     "end_time": "2024-02-29T20:56:16.193741",
     "exception": false,
     "start_time": "2024-02-29T20:56:16.181019",
     "status": "completed"
    },
    "tags": []
   },
   "source": [
    "Imagine you’re a lemonade stand owner and you notice that the number of lemonades you sell seems to depend on the temperature. On hot days, you sell more lemonades, and on cooler days, you sell fewer. You want to understand this relationship better, so you can predict how many lemonades you might sell on any given day, based on the temperature.\n",
    "\n",
    "This is where regression comes in. Regression is a way of finding a relationship between different things. In this case, you’re looking for a relationship between the temperature (which we call the “independent variable”) and the number of lemonades you sell (the “dependent variable”).\n",
    "\n",
    "When you perform a regression analysis, you’re essentially trying to find the best line that fits your data. This line is like a formula that you can use to predict the number of lemonades you’ll sell based on the temperature.\n",
    "\n",
    "So, in simple terms, regression is a tool that helps us understand the relationships between things and make predictions based on those relationships."
   ]
  },
  {
   "cell_type": "markdown",
   "id": "8b860aa8",
   "metadata": {
    "papermill": {
     "duration": 0.012883,
     "end_time": "2024-02-29T20:56:16.219806",
     "exception": false,
     "start_time": "2024-02-29T20:56:16.206923",
     "status": "completed"
    },
    "tags": []
   },
   "source": [
    "# What is the significance of the Wilk-Shapiro measure in detecting whether a dataset is normally distributed or not?"
   ]
  },
  {
   "cell_type": "markdown",
   "id": "79a37dfa",
   "metadata": {
    "papermill": {
     "duration": 0.013018,
     "end_time": "2024-02-29T20:56:16.245982",
     "exception": false,
     "start_time": "2024-02-29T20:56:16.232964",
     "status": "completed"
    },
    "tags": []
   },
   "source": [
    "by knowing if distribution is normal or not, able to rule out statistical tests that would work (if normal then t-test) or not  (right skewed then bootstrap/MWU)to test for statistical significance between 2 distributions from an A/B test"
   ]
  },
  {
   "cell_type": "markdown",
   "id": "27de7525",
   "metadata": {
    "papermill": {
     "duration": 0.012651,
     "end_time": "2024-02-29T20:56:16.271691",
     "exception": false,
     "start_time": "2024-02-29T20:56:16.259040",
     "status": "completed"
    },
    "tags": []
   },
   "source": [
    "The Shapiro-Wilk test, also known as the Wilk-Shapiro measure, is a statistical test that checks if a dataset is normally distributed. The test works by comparing your data to a normal distribution, and calculates a p-value.\n",
    "\n",
    "The p-value is a probability that measures the evidence against the null hypothesis. The null hypothesis for the Shapiro-Wilk test is that the data is normally distributed.\n",
    "\n",
    "- If the p-value is **less than 0.05** (a commonly used threshold), we reject the null hypothesis and conclude that the data is **not normally distributed**¹²⁴.\n",
    "- If the p-value is **greater than 0.05**, we do not reject the null hypothesis and conclude that the data **is normally distributed**³.\n",
    "\n",
    "So, the Shapiro-Wilk test helps us understand whether our data follows a normal distribution or not, which is a common assumption in many statistical tests and models¹⁵. It's important to note that like most statistical significance tests, if the sample size is sufficiently large this test may detect even trivial departures from the null hypothesis¹. Therefore, additional investigation of the effect size is typically advisable¹. \n",
    "\n",
    "Source: Conversation with Bing, 2/29/2024\n",
    "(1) Shapiro–Wilk test - Wikipedia. https://en.wikipedia.org/wiki/Shapiro%E2%80%93Wilk_test.\n",
    "(2) SPSS Shapiro-Wilk Test - The Ultimate Guide - SPSS Tutorials. https://www.spss-tutorials.com/spss-shapiro-wilk-test-for-normality/.\n",
    "(3) How to Perform a Shapiro-Wilk Test in SPSS - Statology. https://www.statology.org/shapiro-wilk-test-spss/.\n",
    "(4) Testing for Normality using SPSS Statistics - Laerd. https://statistics.laerd.com/spss-tutorials/testing-for-normality-using-spss-statistics.php.\n",
    "(5) An Introduction to the Shapiro-Wilk Test for Normality. https://builtin.com/data-science/shapiro-wilk-test.\n",
    "\n",
    "This actually answers the question of its significance with some parts noted as possibly not correct:\n",
    "\n",
    "The **Shapiro-Wilk test**, developed by Samuel Sanford Shapiro and Martin Wilk in 1965, is a statistical test used to assess whether a dataset follows a **normal distribution**. Let's delve into its significance, particularly in the context of **A/B testing**.\n",
    "\n",
    "1. **Testing Normality**:\n",
    "   - The null hypothesis of the Shapiro-Wilk test states that the sample data comes from a normally distributed population.\n",
    "   - If the **p-value** resulting from the test is **less than the chosen significance level (alpha)**, we reject the null hypothesis. This implies that the data is **not normally distributed**.\n",
    "   - Conversely, if the p-value is greater than alpha, we fail to reject the null hypothesis, suggesting that the data may come from a normally distributed population¹.\n",
    "\n",
    "2. **A/B Testing Context**:\n",
    "   - In A/B testing, we compare two versions (A and B) of a treatment (e.g., website design, marketing strategy, or product feature) to determine which one performs better.\n",
    "   - **Assumptions** play a crucial role in A/B testing. One common assumption is that the **outcome variable** (e.g., conversion rate, revenue) follows a normal distribution.\n",
    "   - If our data violates this assumption (i.e., it's not normally distributed), it can impact the validity of our statistical tests (e.g., t-tests, ANOVA) and confidence intervals.\n",
    "   - Here's where the Shapiro-Wilk test comes in:\n",
    "     - **Before A/B Testing**: We can use the test to check whether the data collected from both versions (A and B) follows a normal distribution.\n",
    "     - If both datasets pass the normality test, we can proceed with parametric tests confidently.\n",
    "     - If either dataset fails the test, we might consider using non-parametric tests or transforming the data.\n",
    "     - **During A/B Testing**: If we observe significant differences between A and B, we need to assess whether these differences are practically meaningful.\n",
    "     - The Shapiro-Wilk test helps us understand whether any observed effects are due to the treatment or simply due to deviations from normality.\n",
    "     - If the data is non-normal, we should (first determine the proper non-normal stat test to determine if there is a stat sig and then) also examine effect sizes and consider additional diagnostic plots (e.g., Q-Q plots) to interpret the results¹².\n",
    "\n",
    "3. **Effect Size Consideration**:\n",
    "   - While statistical significance (p-values) is essential, it's equally crucial to evaluate **effect sizes**.\n",
    "   - Even if the Shapiro-Wilk test detects a statistically significant departure from normality, the practical impact may be negligible. (actually, practical impact should be considered after: choosing appropriate non-normal data stat test and seeing if there is a stat sig)\n",
    "   - Therefore, alongside p-values, consider effect sizes (such as Cohen's d or other relevant measures) to assess the practical significance of any deviations from normality¹.\n",
    "\n",
    "In summary, the Shapiro-Wilk test helps ensure the validity of A/B testing by assessing whether the data adheres to the normal distribution assumption. \n",
    "\n",
    "However, always complement statistical significance with practical relevance when interpreting results in real-world scenarios.\n",
    "\n",
    "Source: Conversation with Bing, 2/29/2024\n",
    "(1) Shapiro–Wilk test - Wikipedia. https://en.wikipedia.org/wiki/Shapiro%E2%80%93Wilk_test.\n",
    "(2) An Introduction to the Shapiro-Wilk Test for Normality. https://builtin.com/data-science/shapiro-wilk-test.\n",
    "(3) Testing for Normality – WTF Statistics. https://wtfstatistics.com/index.php/66-2/single-variable-analysis/70-2/.\n",
    "(4) R. Dudley THE SHAPIRO–WILK TEST FOR NORMALITY - MIT Mathematics. https://math.mit.edu/~rmd/46512/shapiro.pdf.\n",
    "(5) SPSS Shapiro-Wilk Test - The Ultimate Guide - SPSS Tutorials. https://www.spss-tutorials.com/spss-shapiro-wilk-test-for-normality/."
   ]
  },
  {
   "cell_type": "markdown",
   "id": "982e7f75",
   "metadata": {
    "papermill": {
     "duration": 0.012676,
     "end_time": "2024-02-29T20:56:16.297377",
     "exception": false,
     "start_time": "2024-02-29T20:56:16.284701",
     "status": "completed"
    },
    "tags": []
   },
   "source": [
    "(Parametric Tests)\n",
    "Certainly! In **A/B testing**, we often use **statistical tests** to compare two groups (A and B) and determine whether any observed differences are statistically significant. Parametric tests assume certain properties about the data distribution, and they can provide powerful insights when these assumptions are met. Here are some widely used parametric tests for A/B testing:\n",
    "\n",
    "1. **Paired and Unpaired t-Tests**:\n",
    "   - **Paired t-test**: Compares means of paired samples (e.g., before and after measurements).\n",
    "   - **Unpaired (Independent) t-test**: Compares means of two independent groups (e.g., control vs. treatment).\n",
    "   - Assumptions: Normally distributed data, equal variances (for unpaired t-test).\n",
    "\n",
    "2. **Analysis of Variance (ANOVA)**:\n",
    "   - Used when comparing means across three or more groups.\n",
    "   - Assumptions: Normally distributed data, equal variances.\n",
    "\n",
    "3. **Pearson’s Product-Moment Correlation**:\n",
    "   - Measures linear association between two continuous variables.\n",
    "   - Assumptions: Normally distributed data, linear relationship.\n",
    "\n",
    "4. **Multiple Regression**:\n",
    "   - Examines relationships between a dependent variable and multiple independent variables.\n",
    "   - Assumptions: Linearity, normality, homoscedasticity (equal variance).\n",
    "\n",
    "Remember that parametric tests have stricter assumptions, including normality. However, they can yield robust results even with slightly nonnormal data, especially if sample sizes are adequate¹²³. Always consider the context and choose the appropriate test based on your data characteristics! 📊🔍.\n",
    "\n",
    "Source: Conversation with Bing, 2/29/2024\n",
    "(1) Nonparametric Tests vs. Parametric Tests - Statistics By Jim. https://statisticsbyjim.com/hypothesis-testing/nonparametric-parametric-tests/.\n",
    "(2) Parametric Tests: 4 Widely Used Tests to Discover Difference or .... https://simplyeducate.me/2020/09/19/parametric-tests/.\n",
    "(3) Choosing the Right Statistical Test | Types & Examples - Scribbr. https://www.scribbr.com/statistics/statistical-tests/.\n",
    "(4) Parametric Statistics, Tests and Data - Statistics How To. https://www.statisticshowto.com/parametric-statistics/.\n",
    "(5) Getty Images. https://www.gettyimages.com/detail/illustration/isometric-flat-vector-concept-of-ab-testing-royalty-free-illustration/1076637176."
   ]
  },
  {
   "cell_type": "markdown",
   "id": "baffb4cb",
   "metadata": {
    "papermill": {
     "duration": 0.012657,
     "end_time": "2024-02-29T20:56:16.322986",
     "exception": false,
     "start_time": "2024-02-29T20:56:16.310329",
     "status": "completed"
    },
    "tags": []
   },
   "source": [
    "(Non-parametric test)\n",
    "\n",
    "Certainly! In **A/B testing**, we often use both **parametric** and **non-parametric** statistical tests to compare two groups (A and B) and determine whether any observed differences are statistically significant. Non-parametric tests, also known as **distribution-free tests**, have advantages when our data doesn't meet the assumptions of normality. Let's explore some common non-parametric tests used in A/B testing:\n",
    "\n",
    "1. **Mann-Whitney U Test (Wilcoxon Rank-Sum Test)**:\n",
    "   - **Purpose**: Compares the **medians** of two independent groups (A and B).\n",
    "   - **Assumptions**: Does not assume normality or equal variances.\n",
    "   - Useful when the data is skewed or has outliers.\n",
    "   - Often used as an alternative to the independent t-test.\n",
    "   - **Example**: Comparing conversion rates between two website versions.\n",
    "\n",
    "2. **Wilcoxon Signed-Rank Test**:\n",
    "   - **Purpose**: Compares the **medians** of paired samples (e.g., before and after measurements).\n",
    "   - **Assumptions**: Does not assume normality.\n",
    "   - Useful for paired data when the distribution is not normal.\n",
    "   - **Example**: Assessing the impact of a new feature on user engagement.\n",
    "\n",
    "3. **Kruskal-Wallis Test**:\n",
    "   - **Purpose**: Compares the **medians** across three or more independent groups.\n",
    "   - **Assumptions**: Does not assume normality or equal variances.\n",
    "   - Useful when comparing multiple treatments or variations.\n",
    "   - **Example**: Evaluating different pricing strategies in an A/B/C test.\n",
    "\n",
    "4. **Friedman Test**:\n",
    "   - **Purpose**: Non-parametric version of one-way ANOVA for repeated measures.\n",
    "   - Compares the **medians** of related groups (e.g., multiple measurements over time).\n",
    "   - **Assumptions**: Does not assume normality.\n",
    "   - **Example**: Analyzing user satisfaction ratings across different app versions.\n",
    "\n",
    "Remember that non-parametric tests are robust to deviations from normality, making them valuable when our data violates parametric assumptions. However, always choose the appropriate test based on your specific context and data characteristics! 📊🔍¹²³.\n",
    "\n",
    "Source: Conversation with Bing, 2/29/2024\n",
    "(1) Nonparametric Tests vs. Parametric Tests - Statistics By Jim. https://statisticsbyjim.com/hypothesis-testing/nonparametric-parametric-tests/.\n",
    "(2) Interview Query | Non-parametric Tests - Statistics & AB Testing. https://www.interviewquery.com/learning-paths/statistics-and-ab-testing/hypothesis-testing/non-parametric-tests.\n",
    "(3) A/B Testing – Nonparametric tests – Data? Science?. https://www.ericfarng.com/ab-testing/ab-testing-nonparametric-tests/.\n",
    "(4) Nonparametric statistics - Wikipedia. https://en.wikipedia.org/wiki/Nonparametric_statistics."
   ]
  },
  {
   "cell_type": "markdown",
   "id": "5d757fc3",
   "metadata": {
    "papermill": {
     "duration": 0.012859,
     "end_time": "2024-02-29T20:56:16.349088",
     "exception": false,
     "start_time": "2024-02-29T20:56:16.336229",
     "status": "completed"
    },
    "tags": []
   },
   "source": [
    "(Maybe this will be asked since relates to normalizing data to use appropriate stat test to test for stat sig)\n",
    "\n",
    "# What approaches do you take when working with a dataset that has imbalanced distributions?"
   ]
  },
  {
   "cell_type": "markdown",
   "id": "9f713a61",
   "metadata": {
    "papermill": {
     "duration": 0.012745,
     "end_time": "2024-02-29T20:56:16.375003",
     "exception": false,
     "start_time": "2024-02-29T20:56:16.362258",
     "status": "completed"
    },
    "tags": []
   },
   "source": [
    "Handling **imbalanced datasets** is crucial for fair model performance in machine learning. When one class has significantly more observations than the other, it can lead to biased models and poor performance on the minority class. Here are several techniques to address this issue:\n",
    "\n",
    "1. **Resampling Techniques**:\n",
    "   - **Oversampling**: Create new instances of the minority class to balance the data. Techniques include:\n",
    "     - **Random Oversampling**: Duplicate minority class samples randomly.\n",
    "     - **SMOTE (Synthetic Minority Over-sampling Technique)**: Generate synthetic examples by interpolating between existing minority class examples.\n",
    "     - **ADASYN (Adaptive Synthetic Sampling)**: Similar to SMOTE but adapts to the data distribution.\n",
    "   - **Undersampling**: Reduce the size of the majority class to match the minority class. Techniques include:\n",
    "     - **Random Undersampling**: Randomly remove instances from the majority class.\n",
    "     - **NearMiss**: Select instances from the majority class that are closest to minority class samples.\n",
    "     - **Tomek Links**: Identify pairs of instances (one from each class) that are close to each other and remove the majority class instance.\n",
    "   - **Data Augmentation**: Create additional data points by modifying existing data (e.g., rotations, translations, flips).\n",
    "   - **Ensemble Techniques**: Combine multiple models (e.g., bagging, boosting, stacking) to improve performance.\n",
    "\n",
    "2. **Feature Selection**:\n",
    "   - Choose relevant features that contribute to class separation.\n",
    "   - Eliminate irrelevant or redundant features.\n",
    "\n",
    "3. **Algorithmic Adjustments**:\n",
    "   - Use specialized algorithms designed for imbalanced data:\n",
    "     - **Cost-sensitive Learning**: Assign different misclassification costs to different classes.\n",
    "     - **Anomaly Detection Algorithms**: Detect rare events (e.g., fraud detection).\n",
    "\n",
    "4. **Evaluation Metrics**:\n",
    "   - Avoid using accuracy as the sole metric. Instead, consider:\n",
    "     - **Precision**, **Recall**, **F1-score**: Focus on performance for the minority class.\n",
    "     - **Area Under the Receiver Operating Characteristic Curve (AUC-ROC)**: Measures overall model performance.\n",
    "\n",
    "Remember that the choice of technique depends on the specific problem and dataset. Experiment with different approaches to find the best solution for handling imbalanced data! 📊🤝⁹ [^10^] ¹¹..\n",
    "\n",
    "Source: Conversation with Bing, 2/29/2024\n",
    "(1) Handling imbalanced data: 7 innovative techniques for successful .... https://datasciencedojo.com/blog/techniques-to-handle-imbalanced-data/.\n",
    "(2) Handling Imbalanced Data for Classification - GeeksforGeeks. https://www.geeksforgeeks.org/handling-imbalanced-data-for-classification/.\n",
    "(3) The 5 Most Useful Techniques to Handle Imbalanced Datasets. https://www.kdnuggets.com/2020/01/5-most-useful-techniques-handle-imbalanced-datasets.html.\n",
    "(4) Imbalanced Data | Machine Learning | Google for Developers. https://developers.google.com/machine-learning/data-prep/construct/sampling-splitting/imbalanced-data.\n",
    "(5) 8 Tactics to Combat Imbalanced Classes in Your Machine Learning Dataset. https://machinelearningmastery.com/tactics-to-combat-imbalanced-classes-in-your-machine-learning-dataset/.\n",
    "(6) Sampling Approaches for Imbalanced Data Classification Problem in .... https://link.springer.com/chapter/10.1007/978-3-030-29407-6_17.\n",
    "(7) What is imbalanced data in Machine Learning?. https://ydata.ai/resources/a-comprehensive-guide-to-tackle-imbalanced-data-for-machine-learning.\n",
    "(8) Techniques for Handling Imbalanced Datasets in Machine Learning. https://medium.com/@philipokoampah/techniques-for-handling-imbalanced-datasets-in-machine-learning-7e560907af30.\n",
    "(9) 4.7. How to Handle imbalanced Dataset | Data Pre-Processing | Machine Learning Course. https://www.youtube.com/watch?v=tUNAuf8JdEE.\n",
    "(10) 5 ways to work with imbalanced data | Imbalanced dataset machine learning | Imbalanced data. https://www.youtube.com/watch?v=JisESsmQDS8.\n",
    "(11) Tutorial 45-Handling imbalanced Dataset using python- Part 1. https://www.youtube.com/watch?v=YMPMZmlH5Bo."
   ]
  },
  {
   "cell_type": "markdown",
   "id": "651e682a",
   "metadata": {
    "papermill": {
     "duration": 0.01278,
     "end_time": "2024-02-29T20:56:16.400914",
     "exception": false,
     "start_time": "2024-02-29T20:56:16.388134",
     "status": "completed"
    },
    "tags": []
   },
   "source": [
    "# Can you demystify Markov Chains for a general audience?"
   ]
  },
  {
   "cell_type": "markdown",
   "id": "efdf408d",
   "metadata": {
    "execution": {
     "iopub.execute_input": "2024-02-29T20:54:34.619998Z",
     "iopub.status.busy": "2024-02-29T20:54:34.618639Z",
     "iopub.status.idle": "2024-02-29T20:54:34.645874Z",
     "shell.execute_reply": "2024-02-29T20:54:34.644006Z",
     "shell.execute_reply.started": "2024-02-29T20:54:34.619952Z"
    },
    "papermill": {
     "duration": 0.01265,
     "end_time": "2024-02-29T20:56:16.426743",
     "exception": false,
     "start_time": "2024-02-29T20:56:16.414093",
     "status": "completed"
    },
    "tags": []
   },
   "source": [
    "Certainly! Let's demystify **Markov Chains** in a way that's easy to understand.\n",
    "\n",
    "1. **What Is a Markov Chain?**\n",
    "   - Imagine you're playing a game where you move from one state to another. Each state represents a situation or condition.\n",
    "   - A **Markov Chain** is like that game. It's a mathematical model that describes how things transition from one state to another over time.\n",
    "   - The cool part? The future states only depend on the current state, not on how you got there. It's like having a short memory—only the present matters!\n",
    "\n",
    "2. **Example: Weather Forecasting**\n",
    "   - Suppose we want to predict tomorrow's weather. We can create a Markov Chain with states like \"Sunny,\" \"Cloudy,\" and \"Rainy.\"\n",
    "   - If today is sunny, the chance of tomorrow being sunny might be high. But if it's rainy today, tomorrow could be cloudy or rainy.\n",
    "   - We use probabilities to move between states. For example, there's a 70% chance of staying sunny and a 30% chance of switching to cloudy.\n",
    "\n",
    "3. **Transition Matrix**\n",
    "   - Think of a **transition matrix** as a cheat sheet for our game. It tells us the probabilities of moving between states.\n",
    "   - In our weather example, the matrix might look like this:\n",
    "     ```\n",
    "     | Sunny   Cloudy   Rainy |\n",
    "     |------------------------|\n",
    "     | 0.7     0.2      0.1   |\n",
    "     | 0.3     0.6      0.1   |\n",
    "     | 0.1     0.3      0.6   |\n",
    "     ```\n",
    "     - Row 1: If it's sunny today, there's a 70% chance of staying sunny, 20% chance of becoming cloudy, and 10% chance of rain.\n",
    "     - Row 2: If it's cloudy, the probabilities are different.\n",
    "     - Row 3: And so on.\n",
    "\n",
    "4. **Applications**\n",
    "   - Markov Chains are everywhere:\n",
    "     - **Google's Autocomplete**: It predicts your next word based on what you've typed so far.\n",
    "     - **Stock Market**: Prices move from one state (up, down, flat) to another.\n",
    "     - **Language Models**: They generate realistic sentences by transitioning between words.\n",
    "     - **Game AI**: NPCs decide their next move based on the game state.\n",
    "\n",
    "5. **Why \"Markov\"?**\n",
    "   - Named after Russian mathematician Andrey Markov.\n",
    "   - He noticed patterns in how vowels appeared in Pushkin's poems. These patterns inspired the concept of Markov Chains.\n",
    "\n",
    "In summary, Markov Chains are like a memory game where the future depends only on the present. Whether it's predicting weather, stock prices, or autocomplete suggestions, Markov Chains are our secret weapon! 🎲🔍🌦️⁴⁵.\n",
    "\n",
    "Source: Conversation with Bing, 2/29/2024\n",
    "(1) Markov Chains | Brilliant Math & Science Wiki. https://brilliant.org/wiki/markov-chains/.\n",
    "(2) Markov Chain Explained | Built In. https://builtin.com/machine-learning/markov-chain.\n",
    "(3) Markov Chains Clearly Explained! Part - 1. https://www.youtube.com/watch?v=i3AkTO9HLXo.\n",
    "(4) Markov Chain 01| Introduction and Concept | Transition Probability Matrix with Examples| BeingGourav. https://www.youtube.com/watch?v=1UwUhhS1zdM.\n",
    "(5) Markov Chains - VISUALLY EXPLAINED + History!. https://www.youtube.com/watch?v=CIe869Rce2k.\n",
    "(6) A Brief Introduction to Markov Chains | by Rishabh Anand - Medium. https://medium.com/sigmoid/rl-markov-chains-dbf2f37e8b69."
   ]
  },
  {
   "cell_type": "code",
   "execution_count": null,
   "id": "6331bc11",
   "metadata": {
    "papermill": {
     "duration": 0.013104,
     "end_time": "2024-02-29T20:56:16.452908",
     "exception": false,
     "start_time": "2024-02-29T20:56:16.439804",
     "status": "completed"
    },
    "tags": []
   },
   "outputs": [],
   "source": []
  }
 ],
 "metadata": {
  "kaggle": {
   "accelerator": "none",
   "dataSources": [],
   "dockerImageVersionId": 30664,
   "isGpuEnabled": false,
   "isInternetEnabled": true,
   "language": "python",
   "sourceType": "notebook"
  },
  "kernelspec": {
   "display_name": "Python 3",
   "language": "python",
   "name": "python3"
  },
  "language_info": {
   "codemirror_mode": {
    "name": "ipython",
    "version": 3
   },
   "file_extension": ".py",
   "mimetype": "text/x-python",
   "name": "python",
   "nbconvert_exporter": "python",
   "pygments_lexer": "ipython3",
   "version": "3.10.13"
  },
  "papermill": {
   "default_parameters": {},
   "duration": 28.210943,
   "end_time": "2024-02-29T20:56:17.588544",
   "environment_variables": {},
   "exception": null,
   "input_path": "__notebook__.ipynb",
   "output_path": "__notebook__.ipynb",
   "parameters": {},
   "start_time": "2024-02-29T20:55:49.377601",
   "version": "2.5.0"
  }
 },
 "nbformat": 4,
 "nbformat_minor": 5
}
