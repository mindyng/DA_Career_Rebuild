{
 "cells": [
  {
   "cell_type": "markdown",
   "id": "037f5d81",
   "metadata": {
    "papermill": {
     "duration": 0.012036,
     "end_time": "2024-02-28T23:13:37.869808",
     "exception": false,
     "start_time": "2024-02-28T23:13:37.857772",
     "status": "completed"
    },
    "tags": []
   },
   "source": [
    "# Make sure to practice in Codility"
   ]
  },
  {
   "cell_type": "code",
   "execution_count": 1,
   "id": "d4c6528f",
   "metadata": {
    "_cell_guid": "b1076dfc-b9ad-4769-8c92-a6c4dae69d19",
    "_uuid": "8f2839f25d086af736a60e9eeb907d3b93b6e0e5",
    "execution": {
     "iopub.execute_input": "2024-02-28T23:13:37.894982Z",
     "iopub.status.busy": "2024-02-28T23:13:37.894482Z",
     "iopub.status.idle": "2024-02-28T23:13:57.893354Z",
     "shell.execute_reply": "2024-02-28T23:13:57.891803Z"
    },
    "papermill": {
     "duration": 20.014716,
     "end_time": "2024-02-28T23:13:57.896466",
     "exception": false,
     "start_time": "2024-02-28T23:13:37.881750",
     "status": "completed"
    },
    "tags": []
   },
   "outputs": [],
   "source": [
    "!pip install duckdb jupysql --quiet"
   ]
  },
  {
   "cell_type": "code",
   "execution_count": 2,
   "id": "29655de2",
   "metadata": {
    "execution": {
     "iopub.execute_input": "2024-02-28T23:13:57.921260Z",
     "iopub.status.busy": "2024-02-28T23:13:57.920845Z",
     "iopub.status.idle": "2024-02-28T23:14:02.295411Z",
     "shell.execute_reply": "2024-02-28T23:14:02.294235Z"
    },
    "papermill": {
     "duration": 4.390185,
     "end_time": "2024-02-28T23:14:02.298061",
     "exception": false,
     "start_time": "2024-02-28T23:13:57.907876",
     "status": "completed"
    },
    "tags": []
   },
   "outputs": [
    {
     "name": "stdout",
     "output_type": "stream",
     "text": [
      "Deploy Dash apps for free on Ploomber Cloud! Learn more: https://ploomber.io/s/signup\n"
     ]
    }
   ],
   "source": [
    "import numpy as np\n",
    "import pandas as pd\n",
    "from scipy import stats\n",
    "import scipy.stats\n",
    "import matplotlib.pyplot as plt\n",
    "import seaborn as sns\n",
    "\n",
    "import duckdb\n",
    "%load_ext sql\n",
    "conn = duckdb.connect()\n",
    "%sql conn --alias duckdb"
   ]
  },
  {
   "cell_type": "markdown",
   "id": "afc08dd0",
   "metadata": {
    "papermill": {
     "duration": 0.011035,
     "end_time": "2024-02-28T23:14:02.320755",
     "exception": false,
     "start_time": "2024-02-28T23:14:02.309720",
     "status": "completed"
    },
    "tags": []
   },
   "source": [
    "# What is the Python code for calculating the confidence intervals for a mean?"
   ]
  },
  {
   "cell_type": "code",
   "execution_count": 3,
   "id": "1fe925fc",
   "metadata": {
    "execution": {
     "iopub.execute_input": "2024-02-28T23:14:02.346232Z",
     "iopub.status.busy": "2024-02-28T23:14:02.345601Z",
     "iopub.status.idle": "2024-02-28T23:14:02.359884Z",
     "shell.execute_reply": "2024-02-28T23:14:02.358628Z"
    },
    "papermill": {
     "duration": 0.029737,
     "end_time": "2024-02-28T23:14:02.362430",
     "exception": false,
     "start_time": "2024-02-28T23:14:02.332693",
     "status": "completed"
    },
    "tags": []
   },
   "outputs": [
    {
     "name": "stdout",
     "output_type": "stream",
     "text": [
      "The confidence interval is: (3.3341494103866087, 7.665850589613392)\n"
     ]
    }
   ],
   "source": [
    "#ChatGPT 4.0 Turbo:\n",
    "\n",
    "# Let's assume you have some data in a Python list\n",
    "data = [1, 2, 3, 4, 5, 6, 7, 8, 9, 10]\n",
    "\n",
    "# Calculate the mean and standard error\n",
    "mean = np.mean(data)\n",
    "standard_error = scipy.stats.sem(data)\n",
    "\n",
    "# Define the confidence level to be 95%\n",
    "confidence_level = 0.95\n",
    "\n",
    "# Calculate the confidence interval\n",
    "confidence_interval = scipy.stats.t.interval(confidence_level, len(data)-1, loc=mean, scale=standard_error)\n",
    "\n",
    "print(f\"The confidence interval is: {confidence_interval}\")"
   ]
  },
  {
   "cell_type": "code",
   "execution_count": 4,
   "id": "47eb198d",
   "metadata": {
    "execution": {
     "iopub.execute_input": "2024-02-28T23:14:02.388250Z",
     "iopub.status.busy": "2024-02-28T23:14:02.386857Z",
     "iopub.status.idle": "2024-02-28T23:14:02.655563Z",
     "shell.execute_reply": "2024-02-28T23:14:02.654734Z"
    },
    "papermill": {
     "duration": 0.283709,
     "end_time": "2024-02-28T23:14:02.657773",
     "exception": false,
     "start_time": "2024-02-28T23:14:02.374064",
     "status": "completed"
    },
    "tags": []
   },
   "outputs": [
    {
     "data": {
      "image/png": "[encoded data removed]",
      "text/plain": [
       "<Figure size 640x480 with 1 Axes>"
      ]
     },
     "metadata": {},
     "output_type": "display_data"
    }
   ],
   "source": [
    "# Plot the CI intervals\n",
    "\n",
    "# Create a figure and a subplot\n",
    "fig, ax = plt.subplots()\n",
    "\n",
    "# Plot the mean as a red line\n",
    "ax.axhline(mean, color='red')\n",
    "\n",
    "# Plot the confidence interval as a blue band\n",
    "ax.fill_between(range(len(data)), confidence_interval[0], confidence_interval[1], color='blue', alpha=0.2)\n",
    "\n",
    "# Plot the data points\n",
    "ax.plot(data, 'ko')\n",
    "\n",
    "# Show the plot\n",
    "plt.show()"
   ]
  },
  {
   "cell_type": "markdown",
   "id": "80cfbde5",
   "metadata": {
    "papermill": {
     "duration": 0.013237,
     "end_time": "2024-02-28T23:14:02.683164",
     "exception": false,
     "start_time": "2024-02-28T23:14:02.669927",
     "status": "completed"
    },
    "tags": []
   },
   "source": [
    "# How can you generate a dataset of 1000 normally distributed points with mean=x and variance=y, provide summary statistics, and plot the density?\n",
    "\n",
    "Origiinal Q: In R, how can you generate a dataset of 1000 normally distributed points with mean=x and variance=y, provide summary statistics, and plot the density? Also, replicate these steps in a Python script within Codility's editor."
   ]
  },
  {
   "cell_type": "code",
   "execution_count": 5,
   "id": "43397f1a",
   "metadata": {
    "execution": {
     "iopub.execute_input": "2024-02-28T23:14:02.710920Z",
     "iopub.status.busy": "2024-02-28T23:14:02.710523Z",
     "iopub.status.idle": "2024-02-28T23:14:03.245281Z",
     "shell.execute_reply": "2024-02-28T23:14:03.243987Z"
    },
    "papermill": {
     "duration": 0.550875,
     "end_time": "2024-02-28T23:14:03.248148",
     "exception": false,
     "start_time": "2024-02-28T23:14:02.697273",
     "status": "completed"
    },
    "tags": []
   },
   "outputs": [
    {
     "name": "stdout",
     "output_type": "stream",
     "text": [
      "              Data\n",
      "count  1000.000000\n",
      "mean     -0.027029\n",
      "std       0.979126\n",
      "min      -3.266279\n",
      "25%      -0.658335\n",
      "50%      -0.041503\n",
      "75%       0.636838\n",
      "max       3.002434\n"
     ]
    },
    {
     "name": "stderr",
     "output_type": "stream",
     "text": [
      "/opt/conda/lib/python3.10/site-packages/seaborn/_oldcore.py:1119: FutureWarning: use_inf_as_na option is deprecated and will be removed in a future version. Convert inf values to NaN before operating instead.\n",
      "  with pd.option_context('mode.use_inf_as_na', True):\n",
      "/opt/conda/lib/python3.10/site-packages/seaborn/_oldcore.py:1075: FutureWarning: When grouping with a length-1 list-like, you will need to pass a length-1 tuple to get_group in a future version of pandas. Pass `(name,)` instead of `name` to silence this warning.\n",
      "  data_subset = grouped_data.get_group(pd_key)\n",
      "/opt/conda/lib/python3.10/site-packages/seaborn/_oldcore.py:1075: FutureWarning: When grouping with a length-1 list-like, you will need to pass a length-1 tuple to get_group in a future version of pandas. Pass `(name,)` instead of `name` to silence this warning.\n",
      "  data_subset = grouped_data.get_group(pd_key)\n",
      "/opt/conda/lib/python3.10/site-packages/seaborn/_oldcore.py:1075: FutureWarning: When grouping with a length-1 list-like, you will need to pass a length-1 tuple to get_group in a future version of pandas. Pass `(name,)` instead of `name` to silence this warning.\n",
      "  data_subset = grouped_data.get_group(pd_key)\n"
     ]
    },
    {
     "data": {
      "image/png": "[encoded data removed]",
      "text/plain": [
       "<Figure size 1000x600 with 1 Axes>"
      ]
     },
     "metadata": {},
     "output_type": "display_data"
    }
   ],
   "source": [
    "# Completing above in Python\n",
    "import numpy as np\n",
    "import pandas as pd\n",
    "import matplotlib.pyplot as plt\n",
    "import seaborn as sns\n",
    "\n",
    "# Set the mean and variance\n",
    "mean = 0  # replace with your value\n",
    "variance = 1  # replace with your value\n",
    "std_dev = np.sqrt(variance)  # standard deviation is the square root of the variance\n",
    "\n",
    "# Generate the dataset\n",
    "data = np.random.normal(loc=mean, scale=std_dev, size=1000)\n",
    "\n",
    "# Convert to pandas DataFrame for easier handling\n",
    "df = pd.DataFrame(data, columns=['Data'])\n",
    "\n",
    "# Print summary statistics\n",
    "print(df.describe())\n",
    "\n",
    "# Plot the density\n",
    "plt.figure(figsize=(10, 6))\n",
    "sns.histplot(df, kde=True)\n",
    "plt.title('Density Plot')\n",
    "plt.xlabel('Data')\n",
    "plt.ylabel('Density')\n",
    "plt.show()"
   ]
  },
  {
   "cell_type": "markdown",
   "id": "80e292d4",
   "metadata": {
    "papermill": {
     "duration": 0.012798,
     "end_time": "2024-02-28T23:14:03.274627",
     "exception": false,
     "start_time": "2024-02-28T23:14:03.261829",
     "status": "completed"
    },
    "tags": []
   },
   "source": [
    "# Explain the concept of percentiles in statistics, and how you would go about finding the nth percentile of a dataset? Can you write a code for finding the nth percentile of a dataset."
   ]
  },
  {
   "cell_type": "markdown",
   "id": "c63abb3f",
   "metadata": {
    "papermill": {
     "duration": 0.012556,
     "end_time": "2024-02-28T23:14:03.300124",
     "exception": false,
     "start_time": "2024-02-28T23:14:03.287568",
     "status": "completed"
    },
    "tags": []
   },
   "source": [
    "Simple explanation:\n",
    "\n",
    "Imagine you and your friends just had a race, and the times it took each of you to finish were written down. Now, if these times are arranged from fastest to slowest, the “percentile” is a way of saying what <span style=\"color:#FF0000\"> percentage of the times are less than or equal to a certain time<span>.\n",
    "\n",
    "For example, if your time is at the 50th percentile (also known as the median), that means <span style=\"color:#FF0000\"> you ran faster than or equal to 50% of your friends<span>.\n",
    "\n",
    "Now, let’s say we want to find the nth percentile of a list of numbers (like the race times). Here’s how you can do it with Python code:"
   ]
  },
  {
   "cell_type": "code",
   "execution_count": 6,
   "id": "cd033368",
   "metadata": {
    "execution": {
     "iopub.execute_input": "2024-02-28T23:14:03.327914Z",
     "iopub.status.busy": "2024-02-28T23:14:03.327544Z",
     "iopub.status.idle": "2024-02-28T23:14:03.335199Z",
     "shell.execute_reply": "2024-02-28T23:14:03.333816Z"
    },
    "papermill": {
     "duration": 0.024906,
     "end_time": "2024-02-28T23:14:03.337868",
     "exception": false,
     "start_time": "2024-02-28T23:14:03.312962",
     "status": "completed"
    },
    "tags": []
   },
   "outputs": [
    {
     "name": "stdout",
     "output_type": "stream",
     "text": [
      "The 50th percentile is 6.0\n"
     ]
    }
   ],
   "source": [
    "import numpy as np\n",
    "\n",
    "# Let's say these are the race times\n",
    "times = [5, 8, 4, 7, 6, 3, 7, 8, 5, 6]\n",
    "\n",
    "# And we want to find the 50th percentile (replace 50 with your desired percentile)\n",
    "percentile = 50\n",
    "\n",
    "# Use the numpy.percentile function to find the nth percentile\n",
    "nth_percentile = np.percentile(times, percentile)\n",
    "\n",
    "print(f\"The {percentile}th percentile is {nth_percentile}\")"
   ]
  },
  {
   "cell_type": "markdown",
   "id": "9ef7ec4b",
   "metadata": {
    "papermill": {
     "duration": 0.012966,
     "end_time": "2024-02-28T23:14:03.363897",
     "exception": false,
     "start_time": "2024-02-28T23:14:03.350931",
     "status": "completed"
    },
    "tags": []
   },
   "source": [
    "Technical explanation:\n",
    "\n",
    "In statistics, a percentile is a measure used to indicate the value below which a given percentage of observations in a group of observations falls. For example, the 20th percentile is the value (or score) below which 20% of the observations may be found.\n",
    "\n",
    "Percentiles are often used in academics to compare scores across different tests or subjects. They are also used in various fields such as finance, health, and more, to provide a relative standard of measurement.\n",
    "\n",
    "To find the nth percentile of a dataset, you would follow these steps:\n",
    "\n",
    "1. Sort the data in ascending order.\n",
    "2. Calculate the rank ® using the formula R = P/100 * (N + 1), where P is the desired percentile and N is the number of data points.\n",
    "3. \n",
    " * If R is an integer, the Pth percentile is the number at position R in the sorted list.\n",
    " * If R is not an integer, round it up and down to the nearest integers and take the average of the numbers at these two positions in the sorted list.\n",
    " \n",
    "In Python, you can use the numpy.percentile function to calculate percentiles. Here’s an example:"
   ]
  },
  {
   "cell_type": "code",
   "execution_count": 7,
   "id": "87b1559f",
   "metadata": {
    "execution": {
     "iopub.execute_input": "2024-02-28T23:14:03.391865Z",
     "iopub.status.busy": "2024-02-28T23:14:03.391492Z",
     "iopub.status.idle": "2024-02-28T23:14:03.398902Z",
     "shell.execute_reply": "2024-02-28T23:14:03.397751Z"
    },
    "papermill": {
     "duration": 0.024377,
     "end_time": "2024-02-28T23:14:03.401418",
     "exception": false,
     "start_time": "2024-02-28T23:14:03.377041",
     "status": "completed"
    },
    "tags": []
   },
   "outputs": [
    {
     "name": "stdout",
     "output_type": "stream",
     "text": [
      "The 25th percentile is 3.25\n"
     ]
    }
   ],
   "source": [
    "import numpy as np\n",
    "\n",
    "# Assuming data is your dataset\n",
    "data = np.array([1, 2, 3, 4, 5, 6, 7, 8, 9, 10])\n",
    "\n",
    "# Calculate the 25th percentile\n",
    "p = 25\n",
    "percentile = np.percentile(data, p)\n",
    "\n",
    "print(f\"The {p}th percentile is {percentile}\")"
   ]
  },
  {
   "cell_type": "markdown",
   "id": "4073debf",
   "metadata": {
    "papermill": {
     "duration": 0.012504,
     "end_time": "2024-02-28T23:14:03.426893",
     "exception": false,
     "start_time": "2024-02-28T23:14:03.414389",
     "status": "completed"
    },
    "tags": []
   },
   "source": [
    "# What is the maximum likelihood of getting k heads when you tossed coin n times? Explain the math behind it."
   ]
  },
  {
   "cell_type": "markdown",
   "id": "b8c8dd9d",
   "metadata": {
    "papermill": {
     "duration": 0.012855,
     "end_time": "2024-02-28T23:14:03.453105",
     "exception": false,
     "start_time": "2024-02-28T23:14:03.440250",
     "status": "completed"
    },
    "tags": []
   },
   "source": [
    "Simple explanation:\n",
    "\n",
    "Imagine you have a fair coin (which means it’s just as likely to land on heads as it is to land on tails), and you flip it n times. Let’s say you get k heads. Now, you’re wondering: <span style=\"color:#FF0000\"> if I did this many times, how often would I get k heads? That’s what “maximum likelihood” is all about! <span>\n",
    "\n",
    "Here’s a simple way to think about it:\n",
    "\n",
    "Each time you flip the coin, there’s a 50% chance it lands on heads, and a 50% chance it lands on tails. That’s because it’s a fair coin.\n",
    "\n",
    "If you flip the coin n times, there are many different outcomes possible. For example, if n=3, you could get HHT, HTH, THH, TTH, THT, HTT, HHH, or TTT (where H represents heads and T represents tails).\n",
    "\n",
    "Out of all these outcomes, some of them have exactly k heads. The “maximum likelihood” is the <span style=\"color:#FF0000\"> most common outcome among these<span>.\n",
    "    \n",
    "In math terms, we use something called the binomial distribution to calculate this. But don’t worry about that for now - the important thing is that the maximum likelihood tells us the <span style=\"color:#FF0000\"> most common outcome if we repeat an experiment many times<span>.\n",
    "\n",
    "Technical explanation:\n",
    "\n",
    "In statistics, the concept of maximum likelihood estimation (MLE) is used to estimate the parameters of a statistical model. In the context of tossing a coin n times and getting k heads, we can use MLE to estimate the probability of getting a head (p).\n",
    "\n",
    "The likelihood of getting k heads in n tosses follows a Binomial distribution. The probability mass function of the Binomial distribution is given by:\n",
    "\n",
    "$$\n",
    "P(X=k) = C(n, k) \\cdot p^k \\cdot (1-p)^{n-k}\n",
    "$$\n",
    "\n",
    "where:\n",
    "- $P(X=k)$ is the probability of getting exactly k heads in n tosses,\n",
    "- $C(n, k)$ is the binomial coefficient, which is the number of ways to choose k heads from n tosses,\n",
    "- $p$ is the probability of getting a head in a single toss,\n",
    "- $n$ is the number of tosses,\n",
    "- $k$ is the number of heads.\n",
    "\n",
    "The MLE for p (probability of getting a head) is simply the sample mean, i.e., the number of heads divided by the number of tosses. So if you tossed a coin n times and observed k heads, your MLE for p would be $\\hat{p} = \\frac{k}{n}$.\n",
    "\n",
    "This is because the likelihood function $L(p; X=k)$ is maximized when $p = \\frac{k}{n}$. You can prove this by taking the derivative of the likelihood function with respect to p, setting it equal to zero, and solving for p. This gives you the value of p that maximizes the likelihood of observing the data given the model, which is the definition of MLE. \n",
    "\n",
    "So, in summary, the maximum likelihood of getting k heads when you tossed a coin n times is achieved when the probability of getting a head is estimated to be the ratio of the number of heads to the total number of tosses. This is a fundamental concept in statistics and is used in many areas of data science."
   ]
  },
  {
   "cell_type": "markdown",
   "id": "08e9b575",
   "metadata": {
    "papermill": {
     "duration": 0.012464,
     "end_time": "2024-02-28T23:14:03.478489",
     "exception": false,
     "start_time": "2024-02-28T23:14:03.466025",
     "status": "completed"
    },
    "tags": []
   },
   "source": [
    "# What SQL technique would you use to obtain distinct conversation events from a database?"
   ]
  },
  {
   "cell_type": "code",
   "execution_count": 8,
   "id": "055200aa",
   "metadata": {
    "execution": {
     "iopub.execute_input": "2024-02-28T23:14:03.505904Z",
     "iopub.status.busy": "2024-02-28T23:14:03.505486Z",
     "iopub.status.idle": "2024-02-28T23:14:03.510309Z",
     "shell.execute_reply": "2024-02-28T23:14:03.509159Z"
    },
    "papermill": {
     "duration": 0.021192,
     "end_time": "2024-02-28T23:14:03.512578",
     "exception": false,
     "start_time": "2024-02-28T23:14:03.491386",
     "status": "completed"
    },
    "tags": []
   },
   "outputs": [],
   "source": [
    "# SELECT DISTINCT conversation_id, event_type\n",
    "# FROM conversation_events;"
   ]
  },
  {
   "cell_type": "markdown",
   "id": "50a800d6",
   "metadata": {
    "papermill": {
     "duration": 0.012485,
     "end_time": "2024-02-28T23:14:03.537964",
     "exception": false,
     "start_time": "2024-02-28T23:14:03.525479",
     "status": "completed"
    },
    "tags": []
   },
   "source": [
    "# How would you write a Python script to produce the Fibonacci series?"
   ]
  },
  {
   "cell_type": "code",
   "execution_count": 9,
   "id": "5b28c146",
   "metadata": {
    "execution": {
     "iopub.execute_input": "2024-02-28T23:14:03.567960Z",
     "iopub.status.busy": "2024-02-28T23:14:03.566508Z",
     "iopub.status.idle": "2024-02-28T23:14:03.577100Z",
     "shell.execute_reply": "2024-02-28T23:14:03.574816Z"
    },
    "papermill": {
     "duration": 0.028877,
     "end_time": "2024-02-28T23:14:03.579727",
     "exception": false,
     "start_time": "2024-02-28T23:14:03.550850",
     "status": "completed"
    },
    "tags": []
   },
   "outputs": [
    {
     "name": "stdout",
     "output_type": "stream",
     "text": [
      "[0, 1, 1, 2, 3, 5, 8, 13, 21, 34]\n"
     ]
    }
   ],
   "source": [
    "def fibonacci(n):\n",
    "    fib_sequence = [0, 1]\n",
    "    while len(fib_sequence) < n:\n",
    "        fib_sequence.append(fib_sequence[-1] + fib_sequence[-2])\n",
    "    return fib_sequence\n",
    "\n",
    "# Print the first 10 terms of the Fibonacci series\n",
    "print(fibonacci(10))"
   ]
  },
  {
   "cell_type": "markdown",
   "id": "6f98293c",
   "metadata": {
    "papermill": {
     "duration": 0.012702,
     "end_time": "2024-02-28T23:14:03.605684",
     "exception": false,
     "start_time": "2024-02-28T23:14:03.592982",
     "status": "completed"
    },
    "tags": []
   },
   "source": [
    "# Can you write a Python function that yields a Bernoulli-distributed matrix and scales each element by the sum of its respective column?"
   ]
  },
  {
   "cell_type": "code",
   "execution_count": 10,
   "id": "73448454",
   "metadata": {
    "execution": {
     "iopub.execute_input": "2024-02-28T23:14:03.634310Z",
     "iopub.status.busy": "2024-02-28T23:14:03.633419Z",
     "iopub.status.idle": "2024-02-28T23:14:03.652020Z",
     "shell.execute_reply": "2024-02-28T23:14:03.650779Z"
    },
    "papermill": {
     "duration": 0.03587,
     "end_time": "2024-02-28T23:14:03.654644",
     "exception": false,
     "start_time": "2024-02-28T23:14:03.618774",
     "status": "completed"
    },
    "tags": []
   },
   "outputs": [
    {
     "name": "stderr",
     "output_type": "stream",
     "text": [
      "/tmp/ipykernel_18/1505227064.py:12: RuntimeWarning: invalid value encountered in divide\n",
      "  scaled_matrix = matrix / col_sums\n"
     ]
    },
    {
     "data": {
      "text/plain": [
       "array([[0.5, nan, 0. ],\n",
       "       [0.5, nan, 1. ],\n",
       "       [0. , nan, 0. ]])"
      ]
     },
     "execution_count": 10,
     "metadata": {},
     "output_type": "execute_result"
    }
   ],
   "source": [
    "def generate_and_scale_matrix(n_rows, n_cols, p=0.5):\n",
    "    # Generate a Bernoulli-distributed matrix\n",
    "    matrix = np.random.binomial(1, p, size=(n_rows, n_cols))\n",
    "    \n",
    "    # Calculate the column sums\n",
    "    col_sums = matrix.sum(axis=0)\n",
    "    \n",
    "    # To avoid division by zero, replace zero sums with a small number\n",
    "    col_sums[col_sums == 0] = 1e-10\n",
    "    \n",
    "    # Scale each element by the sum of its respective column\n",
    "    scaled_matrix = matrix / col_sums\n",
    "    \n",
    "    return scaled_matrix\n",
    "\n",
    "generate_and_scale_matrix(3,3)"
   ]
  },
  {
   "cell_type": "markdown",
   "id": "48c5f1f9",
   "metadata": {
    "papermill": {
     "duration": 0.016519,
     "end_time": "2024-02-28T23:14:03.688056",
     "exception": false,
     "start_time": "2024-02-28T23:14:03.671537",
     "status": "completed"
    },
    "tags": []
   },
   "source": [
    "# Outline the development of a shuffle() function that employs roll() to ensure equal probability of permutations."
   ]
  },
  {
   "cell_type": "code",
   "execution_count": 11,
   "id": "9cb8af3a",
   "metadata": {
    "execution": {
     "iopub.execute_input": "2024-02-28T23:14:03.724991Z",
     "iopub.status.busy": "2024-02-28T23:14:03.724591Z",
     "iopub.status.idle": "2024-02-28T23:14:03.739099Z",
     "shell.execute_reply": "2024-02-28T23:14:03.737815Z"
    },
    "papermill": {
     "duration": 0.033895,
     "end_time": "2024-02-28T23:14:03.741545",
     "exception": false,
     "start_time": "2024-02-28T23:14:03.707650",
     "status": "completed"
    },
    "tags": []
   },
   "outputs": [
    {
     "data": {
      "text/plain": [
       "['10 of Clubs',\n",
       " '7 of Spades',\n",
       " '5 of Hearts',\n",
       " '5 of Diamonds',\n",
       " 'Jack of Diamonds',\n",
       " 'Ace of Spades',\n",
       " '4 of Hearts',\n",
       " '10 of Hearts',\n",
       " '10 of Diamonds',\n",
       " '3 of Clubs',\n",
       " '2 of Hearts',\n",
       " '6 of Diamonds',\n",
       " 'Ace of Diamonds',\n",
       " '7 of Clubs',\n",
       " '9 of Diamonds',\n",
       " '6 of Hearts',\n",
       " '10 of Spades',\n",
       " '5 of Clubs',\n",
       " '8 of Spades',\n",
       " 'King of Clubs',\n",
       " '4 of Diamonds',\n",
       " '8 of Clubs',\n",
       " '9 of Clubs',\n",
       " '8 of Diamonds',\n",
       " '2 of Clubs',\n",
       " '8 of Hearts',\n",
       " '2 of Diamonds',\n",
       " 'King of Diamonds',\n",
       " 'Ace of Clubs',\n",
       " '5 of Spades',\n",
       " '6 of Clubs',\n",
       " '9 of Spades',\n",
       " 'Queen of Spades',\n",
       " 'Ace of Hearts',\n",
       " '4 of Clubs',\n",
       " 'Queen of Clubs',\n",
       " 'Queen of Hearts',\n",
       " '4 of Spades',\n",
       " '6 of Spades',\n",
       " '7 of Diamonds',\n",
       " 'Jack of Hearts',\n",
       " '9 of Hearts',\n",
       " 'King of Spades',\n",
       " '2 of Spades',\n",
       " '3 of Hearts',\n",
       " '7 of Hearts',\n",
       " 'Queen of Diamonds',\n",
       " 'Jack of Clubs',\n",
       " 'King of Hearts',\n",
       " '3 of Diamonds',\n",
       " 'Jack of Spades',\n",
       " '3 of Spades']"
      ]
     },
     "execution_count": 11,
     "metadata": {},
     "output_type": "execute_result"
    }
   ],
   "source": [
    "import random\n",
    "\n",
    "def shuffle(deck):\n",
    "    # Go through each card in the deck\n",
    "    for i in range(len(deck)):\n",
    "        # Choose a random other card in the deck\n",
    "        j = random.randint(i, len(deck) - 1) # this and following line produces roll()\n",
    "        # Swap them\n",
    "        deck[i], deck[j] = deck[j], deck[i]\n",
    "    return deck\n",
    "\n",
    "deck = ['Ace of Spades', '2 of Spades', '3 of Spades', '4 of Spades', '5 of Spades', '6 of Spades', '7 of Spades', '8 of Spades', '9 of Spades', '10 of Spades', 'Jack of Spades', 'Queen of Spades', 'King of Spades',\n",
    "        'Ace of Hearts', '2 of Hearts', '3 of Hearts', '4 of Hearts', '5 of Hearts', '6 of Hearts', '7 of Hearts', '8 of Hearts', '9 of Hearts', '10 of Hearts', 'Jack of Hearts', 'Queen of Hearts', 'King of Hearts',\n",
    "        'Ace of Diamonds', '2 of Diamonds', '3 of Diamonds', '4 of Diamonds', '5 of Diamonds', '6 of Diamonds', '7 of Diamonds', '8 of Diamonds', '9 of Diamonds', '10 of Diamonds', 'Jack of Diamonds', 'Queen of Diamonds', 'King of Diamonds',\n",
    "        'Ace of Clubs', '2 of Clubs', '3 of Clubs', '4 of Clubs', '5 of Clubs', '6 of Clubs', '7 of Clubs', '8 of Clubs', '9 of Clubs', '10 of Clubs', 'Jack of Clubs', 'Queen of Clubs', 'King of Clubs']\n",
    "\n",
    "shuffle(deck)"
   ]
  },
  {
   "cell_type": "markdown",
   "id": "01eec13c",
   "metadata": {
    "papermill": {
     "duration": 0.013062,
     "end_time": "2024-02-28T23:14:03.768227",
     "exception": false,
     "start_time": "2024-02-28T23:14:03.755165",
     "status": "completed"
    },
    "tags": []
   },
   "source": [
    "# Have you ever encountered a coin that you suspected to be biased? If so, what gave it away?"
   ]
  },
  {
   "cell_type": "markdown",
   "id": "319474f9",
   "metadata": {
    "papermill": {
     "duration": 0.013053,
     "end_time": "2024-02-28T23:14:03.794785",
     "exception": false,
     "start_time": "2024-02-28T23:14:03.781732",
     "status": "completed"
    },
    "tags": []
   },
   "source": [
    "A coin might be suspected of being biased if it consistently lands on one side more often than the other over a large number of flips (streaks). This could be due to its weight distribution, the way it’s flipped, or other factors. For example, if you <span style=\"color:#FF0000\">flipped a coin 100 times<span> and it landed on heads <span style=\"color:#FF0000\">80 times<span>, you might suspect that the coin is biased towards heads.\n",
    "\n",
    "However, it’s important to remember that randomness can sometimes produce results that seem non-random. Even <span style=\"color:#FF0000\">a fair coin could, by chance, land on heads 80 times out of 100<span>. So, to be confident that a coin is biased, you would need to see a significant deviation from the expected 50/50 split of heads and tails over a large number of flips.\n",
    "\n",
    "Statistical tests, such as the <span style=\"color:#FF0000\">Chi-Square test<span>, can be used to determine if the difference between the observed results and the expected results is statistically significant. <span style=\"color:#FF0000\">If the test shows that the difference is statistically significant, it would give away that the coin is likely biased<span>."
   ]
  },
  {
   "cell_type": "markdown",
   "id": "7c686204",
   "metadata": {
    "papermill": {
     "duration": 0.013412,
     "end_time": "2024-02-28T23:14:03.822973",
     "exception": false,
     "start_time": "2024-02-28T23:14:03.809561",
     "status": "completed"
    },
    "tags": []
   },
   "source": [
    "# Assuming you have a container holding 4 red balls and 2 blue balls, what are the chances of selecting one red ball and one blue ball consecutively without returning the first pick?"
   ]
  },
  {
   "cell_type": "markdown",
   "id": "0c3bb0b0",
   "metadata": {
    "papermill": {
     "duration": 0.013227,
     "end_time": "2024-02-28T23:14:03.849705",
     "exception": false,
     "start_time": "2024-02-28T23:14:03.836478",
     "status": "completed"
    },
    "tags": []
   },
   "source": [
    "First, let’s find the total number of balls. \n",
    "\n",
    "We have 4 red balls and 2 blue balls, so that’s 6 balls in total.\n",
    "If we want to pick one red ball first, there are 4 red balls out of 6 total balls. So the probability of picking a red ball first is 4 out of 6, or \n",
    "\n",
    "$\\frac{4}{6}$ = $\\frac{2}{3}$\n",
    ".\n",
    "\n",
    "After we’ve picked a red ball, we don’t put it back in the container. So now there are only 5 balls left in the container.\n",
    "\n",
    "Next, we want to pick a blue ball. There are 2 blue balls out of the 5 remaining balls. So the probability of picking a blue ball next is 2 out of 5, or \n",
    "\n",
    "$\\frac{2}{5}$\n",
    "​\n",
    ".\n",
    "To find the probability of both events happening in order (picking a red ball first and then a blue ball), we multiply the probabilities together:\n",
    "\n",
    "$\\frac{2}{3}$ x $\\frac{2}{5}$ = $\\frac{4}{15}$\n",
    "​\n",
    "\n",
    "So the chances of picking one red ball and then one blue ball consecutively without returning the first pick is \n",
    "\n",
    "$\\frac{4}{15}$​"
   ]
  },
  {
   "cell_type": "markdown",
   "id": "9b37cf8b",
   "metadata": {
    "papermill": {
     "duration": 0.013549,
     "end_time": "2024-02-28T23:14:03.876564",
     "exception": false,
     "start_time": "2024-02-28T23:14:03.863015",
     "status": "completed"
    },
    "tags": []
   },
   "source": [
    "(Most likely will not be a plausible question given role, but including just in case)\n",
    "\n",
    "# Can you demonstrate how dynamic programming can be used to find an array's longest increasing sequence?"
   ]
  },
  {
   "cell_type": "code",
   "execution_count": 12,
   "id": "2564334b",
   "metadata": {
    "execution": {
     "iopub.execute_input": "2024-02-28T23:14:03.905619Z",
     "iopub.status.busy": "2024-02-28T23:14:03.905240Z",
     "iopub.status.idle": "2024-02-28T23:14:03.913938Z",
     "shell.execute_reply": "2024-02-28T23:14:03.913061Z"
    },
    "papermill": {
     "duration": 0.025767,
     "end_time": "2024-02-28T23:14:03.916316",
     "exception": false,
     "start_time": "2024-02-28T23:14:03.890549",
     "status": "completed"
    },
    "tags": []
   },
   "outputs": [
    {
     "name": "stdout",
     "output_type": "stream",
     "text": [
      "Length of the longest increasing subsequence is 5\n"
     ]
    }
   ],
   "source": [
    "def longest_increasing_subsequence(arr):\n",
    "    n = len(arr)\n",
    "\n",
    "    # Initialize the list with 1, because a single character itself is a subsequence of length 1\n",
    "    lis = [1] * n\n",
    "\n",
    "    # Compute optimized LIS values in a bottom-up manner\n",
    "    for i in range (1, n):\n",
    "        for j in range(0, i):\n",
    "            if arr[i] > arr[j] and lis[i] < lis[j] + 1:\n",
    "                lis[i] = lis[j]+1\n",
    "\n",
    "    # Initialize maximum to 0 to get the maximum of all LIS\n",
    "    maximum = 0\n",
    "\n",
    "    # Pick maximum of all LIS values\n",
    "    for i in range(len(lis)):\n",
    "        maximum = max(maximum, lis[i])\n",
    "\n",
    "    return maximum\n",
    "\n",
    "# Test the function\n",
    "arr = [10, 22, 9, 33, 21, 50, 41, 60]\n",
    "print(\"Length of the longest increasing subsequence is\", longest_increasing_subsequence(arr))"
   ]
  },
  {
   "cell_type": "markdown",
   "id": "18e2eabc",
   "metadata": {
    "papermill": {
     "duration": 0.01353,
     "end_time": "2024-02-28T23:14:03.943758",
     "exception": false,
     "start_time": "2024-02-28T23:14:03.930228",
     "status": "completed"
    },
    "tags": []
   },
   "source": [
    "# Can you walk me through the process of conducting an A/B test to compare the effectiveness of two product campaigns, with a goal of detecting a 3% improvement in performance?"
   ]
  },
  {
   "cell_type": "markdown",
   "id": "c8d91872",
   "metadata": {
    "execution": {
     "iopub.execute_input": "2024-02-28T19:51:25.220216Z",
     "iopub.status.busy": "2024-02-28T19:51:25.219880Z",
     "iopub.status.idle": "2024-02-28T19:51:25.284151Z",
     "shell.execute_reply": "2024-02-28T19:51:25.282465Z",
     "shell.execute_reply.started": "2024-02-28T19:51:25.220190Z"
    },
    "papermill": {
     "duration": 0.01397,
     "end_time": "2024-02-28T23:14:03.972001",
     "exception": false,
     "start_time": "2024-02-28T23:14:03.958031",
     "status": "completed"
    },
    "tags": []
   },
   "source": [
    "Refer to:\n",
    "1. DS Interview A/B Testing Question in INTERVIEW PREP\n",
    "2. A/B Testing Practicaly \n",
    "* Customize hypothesis statements\n",
    "* and MDE of 3%\n",
    "* CUPED to reduce variance, etc needed?"
   ]
  },
  {
   "cell_type": "markdown",
   "id": "916e04ff",
   "metadata": {
    "papermill": {
     "duration": 0.013916,
     "end_time": "2024-02-28T23:14:03.999747",
     "exception": false,
     "start_time": "2024-02-28T23:14:03.985831",
     "status": "completed"
    },
    "tags": []
   },
   "source": [
    "(Most likely will not be asked this, but still including)\n",
    "\n",
    "# Can you demonstrate an algorithm to combine two sorted arrays into one that remains sorted?"
   ]
  },
  {
   "cell_type": "code",
   "execution_count": 13,
   "id": "ff107fbd",
   "metadata": {
    "execution": {
     "iopub.execute_input": "2024-02-28T23:14:04.029555Z",
     "iopub.status.busy": "2024-02-28T23:14:04.029173Z",
     "iopub.status.idle": "2024-02-28T23:14:04.037971Z",
     "shell.execute_reply": "2024-02-28T23:14:04.036654Z"
    },
    "papermill": {
     "duration": 0.026729,
     "end_time": "2024-02-28T23:14:04.040606",
     "exception": false,
     "start_time": "2024-02-28T23:14:04.013877",
     "status": "completed"
    },
    "tags": []
   },
   "outputs": [
    {
     "name": "stdout",
     "output_type": "stream",
     "text": [
      "[1, 2, 3, 4, 5, 6, 7, 8]\n"
     ]
    }
   ],
   "source": [
    "def merge_sorted_lists(list1, list2):\n",
    "    # Initialize an empty list to store the sorted elements\n",
    "    sorted_list = []\n",
    "    \n",
    "    # While both lists have elements\n",
    "    while list1 and list2:\n",
    "        # If the first element of list1 is smaller\n",
    "        if list1[0] < list2[0]:\n",
    "            # Append it to the sorted list and remove it from list1\n",
    "            sorted_list.append(list1.pop(0))\n",
    "        else:\n",
    "            # Otherwise, append the first element of list2 to the sorted list and remove it from list2\n",
    "            sorted_list.append(list2.pop(0))\n",
    "    \n",
    "    # If there are remaining elements in either list, add them to the sorted list\n",
    "    sorted_list += list1\n",
    "    sorted_list += list2\n",
    "    \n",
    "    return sorted_list\n",
    "\n",
    "list1 = [1, 3, 5, 7]\n",
    "list2 = [2, 4, 6, 8]\n",
    "merged_list = merge_sorted_lists(list1, list2)\n",
    "print(merged_list)  # Output: [1, 2, 3, 4, 5, 6, 7, 8]"
   ]
  },
  {
   "cell_type": "markdown",
   "id": "6fef7098",
   "metadata": {
    "papermill": {
     "duration": 0.013663,
     "end_time": "2024-02-28T23:14:04.068426",
     "exception": false,
     "start_time": "2024-02-28T23:14:04.054763",
     "status": "completed"
    },
    "tags": []
   },
   "source": [
    "(Might not be asked, but still including)\n",
    "\n",
    "# Could you architect a Python class that functions as an iterator for sequences?"
   ]
  },
  {
   "cell_type": "code",
   "execution_count": 14,
   "id": "bd8c0593",
   "metadata": {
    "execution": {
     "iopub.execute_input": "2024-02-28T23:14:04.098433Z",
     "iopub.status.busy": "2024-02-28T23:14:04.098052Z",
     "iopub.status.idle": "2024-02-28T23:14:04.106984Z",
     "shell.execute_reply": "2024-02-28T23:14:04.105621Z"
    },
    "papermill": {
     "duration": 0.026908,
     "end_time": "2024-02-28T23:14:04.109567",
     "exception": false,
     "start_time": "2024-02-28T23:14:04.082659",
     "status": "completed"
    },
    "tags": []
   },
   "outputs": [
    {
     "name": "stdout",
     "output_type": "stream",
     "text": [
      "1\n",
      "2\n",
      "3\n",
      "4\n",
      "5\n"
     ]
    }
   ],
   "source": [
    "class SequenceIterator:\n",
    "    def __init__(self, sequence):\n",
    "        # The sequence to iterate over\n",
    "        self.sequence = sequence\n",
    "        # The current index of the sequence\n",
    "        self.index = 0\n",
    "\n",
    "    def __iter__(self):\n",
    "        # The __iter__ method returns the iterator object itself\n",
    "        return self\n",
    "\n",
    "    def __next__(self):\n",
    "        # The __next__ method returns the next value from the sequence\n",
    "        if self.index < len(self.sequence):\n",
    "            result = self.sequence[self.index]\n",
    "            self.index += 1\n",
    "            return result\n",
    "        else:\n",
    "            # Once all items have been returned, raise the StopIteration exception\n",
    "            raise StopIteration\n",
    "\n",
    "seq_iter = SequenceIterator([1, 2, 3, 4, 5])\n",
    "for item in seq_iter:\n",
    "    print(item)  # Output: 1, 2, 3, 4, 5 (on separate lines)"
   ]
  },
  {
   "cell_type": "markdown",
   "id": "7bb07e18",
   "metadata": {
    "papermill": {
     "duration": 0.013881,
     "end_time": "2024-02-28T23:14:04.137876",
     "exception": false,
     "start_time": "2024-02-28T23:14:04.123995",
     "status": "completed"
    },
    "tags": []
   },
   "source": [
    "# What would be your advice for a product team if usage metrics show a decline leading up to a new product launch?"
   ]
  },
  {
   "cell_type": "markdown",
   "id": "1bc5ffea",
   "metadata": {
    "execution": {
     "iopub.execute_input": "2024-02-28T22:53:08.903636Z",
     "iopub.status.busy": "2024-02-28T22:53:08.903215Z",
     "iopub.status.idle": "2024-02-28T22:53:08.941863Z",
     "shell.execute_reply": "2024-02-28T22:53:08.940105Z",
     "shell.execute_reply.started": "2024-02-28T22:53:08.903498Z"
    },
    "papermill": {
     "duration": 0.01348,
     "end_time": "2024-02-28T23:14:04.165322",
     "exception": false,
     "start_time": "2024-02-28T23:14:04.151842",
     "status": "completed"
    },
    "tags": []
   },
   "source": [
    "1. Ask some clarifying questions.\n",
    "* This is right after a full experiment run?\n",
    "* Competitor launched something?\n",
    "* Some change in local/gov't laws?\n",
    "\n",
    "\n",
    "* If key and guardrail metrics drop significantly and continuously then consider taking a step back and re-eval experiment for benefit of users and prod!\n",
    "\n",
    "* If there are SURPRISES(not stat sig pos result/stat sig neg result), delve deeper to understand why\n",
    "**  New/old users, channels, geographic regions assuming these were not used as invariant metrics\n",
    "* Usually, not having stat sig results due to INSUFFICIENT  STAT POWER\n",
    "*  Try other metrics with less variance\n",
    "** CUPED -  uses pre-experiment data to control for natural variation in an experiment’s north star metric. By removing natural variation, we can run statistical tests that require a smaller sample size. CUPED can be added to virtually any A/B testing framework; it’s computationally efficient and fairly straightforward to code.\n",
    "\n",
    "\n",
    "* Validity Checks-Did the experiment run soundly without errors or bias?\n",
    "\t* Flawed experiment design?\n",
    "\t* Instrumentation Effect- Guardrail metrics e.g. Latency time - bugs/glitches\n",
    "\t* External Factors- Holidays, Competition Launched something important, economic disruptions - COVID\n",
    "\t* Selection Bias - underlying dist between ctl and treatment before running test are homogenous--> run A/A test\n",
    "\t* Sample Ratio Mismatch- to ensure ratio between two user groups is sound (50/50 and not 49.51)-> Chi-Square Goodness of Fit Test \n",
    "\t* Novelty Effect- change to website, reaction to exposure to something new. Look at it by user segment; underlying diff in success metric in terms of new vs recurring users. If there is delta then presence of novelty effect--> run experiment in novelty group then run experiment again in recurring user group\n",
    "\n",
    "\n",
    "As a product data scientist, my advice would be to approach this situation systematically and objectively. Here are the steps I would recommend:\n",
    "\n",
    "1. **Understand the Metrics**: First, it's important to understand what the metrics are telling us. Is the decline across all user segments or specific to certain ones? Are there any patterns or trends that could explain this decline?\n",
    "\n",
    "2. **Investigate the Cause**: Once we have a better understanding of the metrics, the next step is to investigate potential causes. This could involve looking at user feedback, conducting user interviews, or analyzing product usage data.\n",
    "\n",
    "3. **Evaluate the New Feature**: It's also important to evaluate the new feature itself. Is it functioning as expected? Are there any bugs or issues that could be causing users to leave?\n",
    "\n",
    "4. **Conduct (another) A/B Testing**: If possible, conduct A/B testing to compare the performance of the new feature against the old one. This can provide valuable insights into whether the new feature is contributing to the decline in usage.\n",
    "\n",
    "5. **Develop a Plan**: Based on the findings from the above steps, develop a plan to address the issue. This could involve making changes to the new feature, improving user education and communication, or adjusting the product launch strategy.\n",
    "\n",
    "6. **Monitor and Iterate**: After implementing the plan, continue to monitor the usage metrics and iterate on the strategy as needed. Remember, product development is a continuous process of learning and improving.\n",
    "\n",
    "It's important to remember that a decline in usage metrics is not necessarily a bad thing. It could be a sign that users are not finding value in the current product, which is valuable information for the product team. The key is to understand why the decline is happening and use that information to make informed decisions about the product launch. Good luck! 😊"
   ]
  },
  {
   "cell_type": "markdown",
   "id": "854b465a",
   "metadata": {
    "papermill": {
     "duration": 0.013573,
     "end_time": "2024-02-28T23:14:04.192862",
     "exception": false,
     "start_time": "2024-02-28T23:14:04.179289",
     "status": "completed"
    },
    "tags": []
   },
   "source": [
    "# Can you share a probability distribution that deviates from the regular normal distribution? Also, can you give us some illustrations of an actual world situation where this distribution is applicable?"
   ]
  },
  {
   "cell_type": "markdown",
   "id": "3dd75ae2",
   "metadata": {
    "papermill": {
     "duration": 0.014099,
     "end_time": "2024-02-28T23:14:04.220889",
     "exception": false,
     "start_time": "2024-02-28T23:14:04.206790",
     "status": "completed"
    },
    "tags": []
   },
   "source": [
    "* MWU\n",
    "* common metrics- avg likes/user, GMV from e-commerce work I did (huge right tail)"
   ]
  },
  {
   "cell_type": "code",
   "execution_count": null,
   "id": "af8eaae6",
   "metadata": {
    "papermill": {
     "duration": 0.013656,
     "end_time": "2024-02-28T23:14:04.249234",
     "exception": false,
     "start_time": "2024-02-28T23:14:04.235578",
     "status": "completed"
    },
    "tags": []
   },
   "outputs": [],
   "source": []
  }
 ],
 "metadata": {
  "kaggle": {
   "accelerator": "none",
   "dataSources": [],
   "dockerImageVersionId": 30664,
   "isGpuEnabled": false,
   "isInternetEnabled": true,
   "language": "python",
   "sourceType": "notebook"
  },
  "kernelspec": {
   "display_name": "Python 3",
   "language": "python",
   "name": "python3"
  },
  "language_info": {
   "codemirror_mode": {
    "name": "ipython",
    "version": 3
   },
   "file_extension": ".py",
   "mimetype": "text/x-python",
   "name": "python",
   "nbconvert_exporter": "python",
   "pygments_lexer": "ipython3",
   "version": "3.10.13"
  },
  "papermill": {
   "default_parameters": {},
   "duration": 30.788856,
   "end_time": "2024-02-28T23:14:05.385716",
   "environment_variables": {},
   "exception": null,
   "input_path": "__notebook__.ipynb",
   "output_path": "__notebook__.ipynb",
   "parameters": {},
   "start_time": "2024-02-28T23:13:34.596860",
   "version": "2.5.0"
  }
 },
 "nbformat": 4,
 "nbformat_minor": 5
}
