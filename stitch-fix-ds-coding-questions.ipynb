{
 "cells": [
  {
   "cell_type": "markdown",
   "id": "3f428fec",
   "metadata": {
    "papermill": {
     "duration": 0.005434,
     "end_time": "2024-02-28T05:18:11.487661",
     "exception": false,
     "start_time": "2024-02-28T05:18:11.482227",
     "status": "completed"
    },
    "tags": []
   },
   "source": [
    "# Make sure to practice in Codility"
   ]
  },
  {
   "cell_type": "code",
   "execution_count": 1,
   "id": "48e7cbc5",
   "metadata": {
    "_cell_guid": "b1076dfc-b9ad-4769-8c92-a6c4dae69d19",
    "_uuid": "8f2839f25d086af736a60e9eeb907d3b93b6e0e5",
    "execution": {
     "iopub.execute_input": "2024-02-28T05:18:11.501114Z",
     "iopub.status.busy": "2024-02-28T05:18:11.500319Z",
     "iopub.status.idle": "2024-02-28T05:18:32.989086Z",
     "shell.execute_reply": "2024-02-28T05:18:32.987793Z"
    },
    "papermill": {
     "duration": 21.498966,
     "end_time": "2024-02-28T05:18:32.992318",
     "exception": false,
     "start_time": "2024-02-28T05:18:11.493352",
     "status": "completed"
    },
    "tags": []
   },
   "outputs": [],
   "source": [
    "!pip install duckdb jupysql --quiet"
   ]
  },
  {
   "cell_type": "code",
   "execution_count": 2,
   "id": "034b2e24",
   "metadata": {
    "execution": {
     "iopub.execute_input": "2024-02-28T05:18:33.004407Z",
     "iopub.status.busy": "2024-02-28T05:18:33.003913Z",
     "iopub.status.idle": "2024-02-28T05:18:37.096800Z",
     "shell.execute_reply": "2024-02-28T05:18:37.095838Z"
    },
    "papermill": {
     "duration": 4.102234,
     "end_time": "2024-02-28T05:18:37.099479",
     "exception": false,
     "start_time": "2024-02-28T05:18:32.997245",
     "status": "completed"
    },
    "tags": []
   },
   "outputs": [
    {
     "name": "stdout",
     "output_type": "stream",
     "text": [
      "Deploy Streamlit apps for free on Ploomber Cloud! Learn more: https://ploomber.io/s/signup\n"
     ]
    }
   ],
   "source": [
    "import numpy as np\n",
    "import pandas as pd\n",
    "from scipy import stats\n",
    "import scipy.stats\n",
    "import matplotlib.pyplot as plt\n",
    "import seaborn as sns\n",
    "\n",
    "import duckdb\n",
    "%load_ext sql\n",
    "conn = duckdb.connect()\n",
    "%sql conn --alias duckdb"
   ]
  },
  {
   "cell_type": "markdown",
   "id": "0137e08c",
   "metadata": {
    "papermill": {
     "duration": 0.004381,
     "end_time": "2024-02-28T05:18:37.108946",
     "exception": false,
     "start_time": "2024-02-28T05:18:37.104565",
     "status": "completed"
    },
    "tags": []
   },
   "source": [
    "# What is the Python code for calculating the confidence intervals for a mean?"
   ]
  },
  {
   "cell_type": "code",
   "execution_count": 3,
   "id": "99fe4421",
   "metadata": {
    "execution": {
     "iopub.execute_input": "2024-02-28T05:18:37.121774Z",
     "iopub.status.busy": "2024-02-28T05:18:37.119873Z",
     "iopub.status.idle": "2024-02-28T05:18:37.134397Z",
     "shell.execute_reply": "2024-02-28T05:18:37.133518Z"
    },
    "papermill": {
     "duration": 0.023282,
     "end_time": "2024-02-28T05:18:37.136878",
     "exception": false,
     "start_time": "2024-02-28T05:18:37.113596",
     "status": "completed"
    },
    "tags": []
   },
   "outputs": [
    {
     "name": "stdout",
     "output_type": "stream",
     "text": [
      "The confidence interval is: (3.3341494103866087, 7.665850589613392)\n"
     ]
    }
   ],
   "source": [
    "#ChatGPT 4.0 Turbo:\n",
    "\n",
    "# Let's assume you have some data in a Python list\n",
    "data = [1, 2, 3, 4, 5, 6, 7, 8, 9, 10]\n",
    "\n",
    "# Calculate the mean and standard error\n",
    "mean = np.mean(data)\n",
    "standard_error = scipy.stats.sem(data)\n",
    "\n",
    "# Define the confidence level to be 95%\n",
    "confidence_level = 0.95\n",
    "\n",
    "# Calculate the confidence interval\n",
    "confidence_interval = scipy.stats.t.interval(confidence_level, len(data)-1, loc=mean, scale=standard_error)\n",
    "\n",
    "print(f\"The confidence interval is: {confidence_interval}\")"
   ]
  },
  {
   "cell_type": "code",
   "execution_count": 4,
   "id": "dab0feaf",
   "metadata": {
    "execution": {
     "iopub.execute_input": "2024-02-28T05:18:37.148318Z",
     "iopub.status.busy": "2024-02-28T05:18:37.147872Z",
     "iopub.status.idle": "2024-02-28T05:18:37.410407Z",
     "shell.execute_reply": "2024-02-28T05:18:37.409199Z"
    },
    "papermill": {
     "duration": 0.271235,
     "end_time": "2024-02-28T05:18:37.412944",
     "exception": false,
     "start_time": "2024-02-28T05:18:37.141709",
     "status": "completed"
    },
    "tags": []
   },
   "outputs": [
    {
     "data": {
      "image/png": "[encoded data removed]",
      "text/plain": [
       "<Figure size 640x480 with 1 Axes>"
      ]
     },
     "metadata": {},
     "output_type": "display_data"
    }
   ],
   "source": [
    "# Plot the CI intervals\n",
    "\n",
    "# Create a figure and a subplot\n",
    "fig, ax = plt.subplots()\n",
    "\n",
    "# Plot the mean as a red line\n",
    "ax.axhline(mean, color='red')\n",
    "\n",
    "# Plot the confidence interval as a blue band\n",
    "ax.fill_between(range(len(data)), confidence_interval[0], confidence_interval[1], color='blue', alpha=0.2)\n",
    "\n",
    "# Plot the data points\n",
    "ax.plot(data, 'ko')\n",
    "\n",
    "# Show the plot\n",
    "plt.show()"
   ]
  },
  {
   "cell_type": "markdown",
   "id": "2153daeb",
   "metadata": {
    "papermill": {
     "duration": 0.004661,
     "end_time": "2024-02-28T05:18:37.423032",
     "exception": false,
     "start_time": "2024-02-28T05:18:37.418371",
     "status": "completed"
    },
    "tags": []
   },
   "source": [
    "# How can you generate a dataset of 1000 normally distributed points with mean=x and variance=y, provide summary statistics, and plot the density?\n",
    "\n",
    "Origiinal Q: In R, how can you generate a dataset of 1000 normally distributed points with mean=x and variance=y, provide summary statistics, and plot the density? Also, replicate these steps in a Python script within Codility's editor."
   ]
  },
  {
   "cell_type": "code",
   "execution_count": 5,
   "id": "0d864203",
   "metadata": {
    "execution": {
     "iopub.execute_input": "2024-02-28T05:18:37.435751Z",
     "iopub.status.busy": "2024-02-28T05:18:37.434330Z",
     "iopub.status.idle": "2024-02-28T05:18:37.961994Z",
     "shell.execute_reply": "2024-02-28T05:18:37.960862Z"
    },
    "papermill": {
     "duration": 0.536952,
     "end_time": "2024-02-28T05:18:37.964867",
     "exception": false,
     "start_time": "2024-02-28T05:18:37.427915",
     "status": "completed"
    },
    "tags": []
   },
   "outputs": [
    {
     "name": "stdout",
     "output_type": "stream",
     "text": [
      "              Data\n",
      "count  1000.000000\n",
      "mean      0.006742\n",
      "std       1.016811\n",
      "min      -3.120736\n",
      "25%      -0.672603\n",
      "50%      -0.004339\n",
      "75%       0.693037\n",
      "max       3.286904\n"
     ]
    },
    {
     "name": "stderr",
     "output_type": "stream",
     "text": [
      "/opt/conda/lib/python3.10/site-packages/seaborn/_oldcore.py:1119: FutureWarning: use_inf_as_na option is deprecated and will be removed in a future version. Convert inf values to NaN before operating instead.\n",
      "  with pd.option_context('mode.use_inf_as_na', True):\n",
      "/opt/conda/lib/python3.10/site-packages/seaborn/_oldcore.py:1075: FutureWarning: When grouping with a length-1 list-like, you will need to pass a length-1 tuple to get_group in a future version of pandas. Pass `(name,)` instead of `name` to silence this warning.\n",
      "  data_subset = grouped_data.get_group(pd_key)\n",
      "/opt/conda/lib/python3.10/site-packages/seaborn/_oldcore.py:1075: FutureWarning: When grouping with a length-1 list-like, you will need to pass a length-1 tuple to get_group in a future version of pandas. Pass `(name,)` instead of `name` to silence this warning.\n",
      "  data_subset = grouped_data.get_group(pd_key)\n",
      "/opt/conda/lib/python3.10/site-packages/seaborn/_oldcore.py:1075: FutureWarning: When grouping with a length-1 list-like, you will need to pass a length-1 tuple to get_group in a future version of pandas. Pass `(name,)` instead of `name` to silence this warning.\n",
      "  data_subset = grouped_data.get_group(pd_key)\n"
     ]
    },
    {
     "data": {
      "image/png": "[encoded data removed]",
      "text/plain": [
       "<Figure size 1000x600 with 1 Axes>"
      ]
     },
     "metadata": {},
     "output_type": "display_data"
    }
   ],
   "source": [
    "# Completing above in Python\n",
    "import numpy as np\n",
    "import pandas as pd\n",
    "import matplotlib.pyplot as plt\n",
    "import seaborn as sns\n",
    "\n",
    "# Set the mean and variance\n",
    "mean = 0  # replace with your value\n",
    "variance = 1  # replace with your value\n",
    "std_dev = np.sqrt(variance)  # standard deviation is the square root of the variance\n",
    "\n",
    "# Generate the dataset\n",
    "data = np.random.normal(loc=mean, scale=std_dev, size=1000)\n",
    "\n",
    "# Convert to pandas DataFrame for easier handling\n",
    "df = pd.DataFrame(data, columns=['Data'])\n",
    "\n",
    "# Print summary statistics\n",
    "print(df.describe())\n",
    "\n",
    "# Plot the density\n",
    "plt.figure(figsize=(10, 6))\n",
    "sns.histplot(df, kde=True)\n",
    "plt.title('Density Plot')\n",
    "plt.xlabel('Data')\n",
    "plt.ylabel('Density')\n",
    "plt.show()"
   ]
  },
  {
   "cell_type": "markdown",
   "id": "ff3e8a47",
   "metadata": {
    "papermill": {
     "duration": 0.005747,
     "end_time": "2024-02-28T05:18:37.976518",
     "exception": false,
     "start_time": "2024-02-28T05:18:37.970771",
     "status": "completed"
    },
    "tags": []
   },
   "source": [
    "# Explain the concept of percentiles in statistics, and how you would go about finding the nth percentile of a dataset? Can you write a code for finding the nth percentile of a dataset."
   ]
  },
  {
   "cell_type": "markdown",
   "id": "170f66c5",
   "metadata": {
    "papermill": {
     "duration": 0.005573,
     "end_time": "2024-02-28T05:18:37.987996",
     "exception": false,
     "start_time": "2024-02-28T05:18:37.982423",
     "status": "completed"
    },
    "tags": []
   },
   "source": [
    "In statistics, a percentile is a measure used to indicate the value below which a given percentage of observations in a group of observations falls. For example, the 20th percentile is the value (or score) below which 20% of the observations may be found.\n",
    "\n",
    "Percentiles are often used in academics to compare scores across different tests or subjects. They are also used in various fields such as finance, health, and more, to provide a relative standard of measurement.\n",
    "\n",
    "To find the nth percentile of a dataset, you would follow these steps:\n",
    "\n",
    "1. Sort the data in ascending order.\n",
    "2. Calculate the rank ® using the formula R = P/100 * (N + 1), where P is the desired percentile and N is the number of data points.\n",
    "3. \n",
    " * If R is an integer, the Pth percentile is the number at position R in the sorted list.\n",
    " * If R is not an integer, round it up and down to the nearest integers and take the average of the numbers at these two positions in the sorted list.\n",
    " \n",
    "In Python, you can use the numpy.percentile function to calculate percentiles. Here’s an example:"
   ]
  },
  {
   "cell_type": "code",
   "execution_count": 6,
   "id": "afe6133c",
   "metadata": {
    "execution": {
     "iopub.execute_input": "2024-02-28T05:18:38.002954Z",
     "iopub.status.busy": "2024-02-28T05:18:38.001597Z",
     "iopub.status.idle": "2024-02-28T05:18:38.011927Z",
     "shell.execute_reply": "2024-02-28T05:18:38.010781Z"
    },
    "papermill": {
     "duration": 0.020813,
     "end_time": "2024-02-28T05:18:38.014751",
     "exception": false,
     "start_time": "2024-02-28T05:18:37.993938",
     "status": "completed"
    },
    "tags": []
   },
   "outputs": [
    {
     "name": "stdout",
     "output_type": "stream",
     "text": [
      "The 25th percentile is 3.25\n"
     ]
    }
   ],
   "source": [
    "import numpy as np\n",
    "\n",
    "# Assuming data is your dataset\n",
    "data = np.array([1, 2, 3, 4, 5, 6, 7, 8, 9, 10])\n",
    "\n",
    "# Calculate the 25th percentile\n",
    "p = 25\n",
    "percentile = np.percentile(data, p)\n",
    "\n",
    "print(f\"The {p}th percentile is {percentile}\")"
   ]
  },
  {
   "cell_type": "code",
   "execution_count": null,
   "id": "9b23c701",
   "metadata": {
    "papermill": {
     "duration": 0.00589,
     "end_time": "2024-02-28T05:18:38.026817",
     "exception": false,
     "start_time": "2024-02-28T05:18:38.020927",
     "status": "completed"
    },
    "tags": []
   },
   "outputs": [],
   "source": []
  }
 ],
 "metadata": {
  "kaggle": {
   "accelerator": "none",
   "dataSources": [],
   "dockerImageVersionId": 30664,
   "isGpuEnabled": false,
   "isInternetEnabled": true,
   "language": "python",
   "sourceType": "notebook"
  },
  "kernelspec": {
   "display_name": "Python 3",
   "language": "python",
   "name": "python3"
  },
  "language_info": {
   "codemirror_mode": {
    "name": "ipython",
    "version": 3
   },
   "file_extension": ".py",
   "mimetype": "text/x-python",
   "name": "python",
   "nbconvert_exporter": "python",
   "pygments_lexer": "ipython3",
   "version": "3.10.13"
  },
  "papermill": {
   "default_parameters": {},
   "duration": 31.483805,
   "end_time": "2024-02-28T05:18:39.257342",
   "environment_variables": {},
   "exception": null,
   "input_path": "__notebook__.ipynb",
   "output_path": "__notebook__.ipynb",
   "parameters": {},
   "start_time": "2024-02-28T05:18:07.773537",
   "version": "2.5.0"
  }
 },
 "nbformat": 4,
 "nbformat_minor": 5
}
