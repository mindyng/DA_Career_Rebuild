{
 "cells": [
  {
   "cell_type": "markdown",
   "id": "746aaef1",
   "metadata": {
    "papermill": {
     "duration": 0.015316,
     "end_time": "2024-03-12T19:47:24.137693",
     "exception": false,
     "start_time": "2024-03-12T19:47:24.122377",
     "status": "completed"
    },
    "tags": []
   },
   "source": [
    "# Make sure to practice in Codility"
   ]
  },
  {
   "cell_type": "code",
   "execution_count": 1,
   "id": "7e934503",
   "metadata": {
    "_cell_guid": "b1076dfc-b9ad-4769-8c92-a6c4dae69d19",
    "_uuid": "8f2839f25d086af736a60e9eeb907d3b93b6e0e5",
    "execution": {
     "iopub.execute_input": "2024-03-12T19:47:24.169921Z",
     "iopub.status.busy": "2024-03-12T19:47:24.169209Z",
     "iopub.status.idle": "2024-03-12T19:47:38.112352Z",
     "shell.execute_reply": "2024-03-12T19:47:38.111189Z"
    },
    "papermill": {
     "duration": 13.962822,
     "end_time": "2024-03-12T19:47:38.114921",
     "exception": false,
     "start_time": "2024-03-12T19:47:24.152099",
     "status": "completed"
    },
    "tags": []
   },
   "outputs": [],
   "source": [
    "!pip install duckdb jupysql --quiet"
   ]
  },
  {
   "cell_type": "code",
   "execution_count": 2,
   "id": "c0b0a8f1",
   "metadata": {
    "execution": {
     "iopub.execute_input": "2024-03-12T19:47:38.145522Z",
     "iopub.status.busy": "2024-03-12T19:47:38.145178Z",
     "iopub.status.idle": "2024-03-12T19:47:41.366269Z",
     "shell.execute_reply": "2024-03-12T19:47:41.365379Z"
    },
    "papermill": {
     "duration": 3.238626,
     "end_time": "2024-03-12T19:47:41.368471",
     "exception": false,
     "start_time": "2024-03-12T19:47:38.129845",
     "status": "completed"
    },
    "tags": []
   },
   "outputs": [
    {
     "name": "stdout",
     "output_type": "stream",
     "text": [
      "Deploy Panel apps for free on Ploomber Cloud! Learn more: https://ploomber.io/s/signup\n"
     ]
    }
   ],
   "source": [
    "import numpy as np\n",
    "import pandas as pd\n",
    "from scipy import stats\n",
    "import scipy.stats\n",
    "import matplotlib.pyplot as plt\n",
    "import seaborn as sns\n",
    "\n",
    "import duckdb\n",
    "%load_ext sql\n",
    "conn = duckdb.connect()\n",
    "%sql conn --alias duckdb"
   ]
  },
  {
   "cell_type": "markdown",
   "id": "19bf9c6e",
   "metadata": {
    "papermill": {
     "duration": 0.014182,
     "end_time": "2024-03-12T19:47:41.397907",
     "exception": false,
     "start_time": "2024-03-12T19:47:41.383725",
     "status": "completed"
    },
    "tags": []
   },
   "source": [
    "Different statistical tests, their assumptions, and applications:\n",
    "\n",
    "1. **Correlation Test**:\n",
    "   - **Research Question**: Are two variables (n = 2) correlated (associated)?\n",
    "   - **Test Assumptions**:\n",
    "     - Data should be continuous.\n",
    "     - Linear relationship between variables.\n",
    "   - **Application**: Assessing the strength and direction of association between two continuous variables.\n",
    "\n",
    "2. **Correlation Matrix**:\n",
    "   - **Research Question**: Are multiple variables (n > 2) correlated?\n",
    "   - **Test Assumptions**: Same as correlation test.\n",
    "   - **Application**: Understanding relationships among multiple variables.\n",
    "\n",
    "3. **Student’s t-Test** (Parametric):\n",
    "   - **Research Question**: Do two groups (n = 2) of samples differ from each other?\n",
    "   - **Test Assumptions**:\n",
    "     - Data should be continuous.\n",
    "     - Normally distributed.\n",
    "     - Equal variances.\n",
    "   - **Application**: Comparing means between two independent groups.\n",
    "\n",
    "4. **Wilcoxon Rank Test** (Non-parametric):\n",
    "   - **Research Question**: Similar to t-test but for non-normal data.\n",
    "   - **Test Assumptions**: No specific distribution assumption.\n",
    "   - **Application**: Comparing means between two groups when assumptions for t-test are violated.\n",
    "\n",
    "5. **ANOVA Test** (Parametric):\n",
    "   - **Research Question**: Do means of more than two groups differ?\n",
    "   - **Test Assumptions**:\n",
    "     - Data should be continuous.\n",
    "     - Normally distributed.\n",
    "     - Equal variances.\n",
    "   - **Application**: Comparing means across multiple groups.\n",
    "\n",
    "6. **Kruskal-Wallis Rank Sum Test** (Non-parametric):\n",
    "   - **Research Question**: Similar to ANOVA but for non-normal data.\n",
    "   - **Test Assumptions**: No specific distribution assumption.\n",
    "   - **Application**: Comparing means across multiple groups when assumptions for ANOVA are violated.\n",
    "\n",
    "7. **F-Test** (Parametric):\n",
    "   - **Research Question**: Comparing variances of two groups.\n",
    "   - **Test Assumptions**:\n",
    "     - Data should be continuous.\n",
    "     - Normally distributed.\n",
    "   - **Application**: Assessing whether variances are equal between two groups.\n",
    "\n",
    "8. **Bartlett’s Test** (Parametric), **Levene’s Test** (Parametric), and **Fligner-Killeen Test** (Non-parametric):\n",
    "   - **Research Question**: Comparing variances of more than two groups.\n",
    "   - **Test Assumptions**: Similar to F-test.\n",
    "   - **Application**: Evaluating variance equality across multiple groups.\n",
    "\n",
    "Remember that these assumptions should be taken seriously to draw reliable interpretations and conclusions from your research. If assumptions are violated, consider using non-parametric tests instead. Always assess normality and equality of variances before applying parametric tests."
   ]
  },
  {
   "cell_type": "markdown",
   "id": "649cf96c",
   "metadata": {
    "papermill": {
     "duration": 0.013521,
     "end_time": "2024-03-12T19:47:41.425131",
     "exception": false,
     "start_time": "2024-03-12T19:47:41.411610",
     "status": "completed"
    },
    "tags": []
   },
   "source": [
    "**standard error** in statistics:\n",
    "\n",
    "1. **Definition**:\n",
    "   - The **standard error (SE)** is a measure of how much the **sample mean** differs from the **population mean**.\n",
    "   - It quantifies the variability between the sample mean and the true population mean.\n",
    "   - Essentially, it tells us how much the sample mean would vary if we were to repeat the study using new samples from the same population.\n",
    "\n",
    "2. **Why Standard Error Matters**:\n",
    "   - In statistical analysis, we often work with **sample data** to make inferences about a larger **population**.\n",
    "   - Standard error helps us estimate how well our sample data represents the entire population.\n",
    "   - Even with **probability sampling**, where elements are randomly selected, some **sampling error** remains. The sample won't perfectly match the population in terms of measures like means and standard deviations.\n",
    "   - By calculating the standard error, we can assess how representative our sample is and draw valid conclusions.\n",
    "\n",
    "3. **Standard Error vs. Standard Deviation**:\n",
    "   - **Standard deviation** describes variability within a single sample.\n",
    "   - **Standard error** estimates variability across multiple samples from the same population.\n",
    "   - While standard deviation is a descriptive statistic calculated from sample data, standard error is an inferential statistic that can only be estimated (unless the true population parameter is known).\n",
    "\n",
    "4. **Formula for Standard Error**:\n",
    "   - For the **sample mean**, the standard error is often denoted as **SEM** (standard error of the mean).\n",
    "   - The formula for SEM is:\n",
    "     \\[ \\text{SEM} = \\frac{\\text{standard deviation}}{\\sqrt{n}} \\]\n",
    "     where:\n",
    "     - \\(\\text{standard deviation}\\) is the sample's standard deviation.\n",
    "     - \\(n\\) is the sample size.\n",
    "\n",
    "5. **Reporting the Standard Error**:\n",
    "   - When reporting results, it's common to include the **mean** along with its **standard error**.\n",
    "   - For example: \"The average weight of apples is 150 grams (SE = 5 grams).\"\n",
    "\n",
    "Remember, a **high standard error** indicates that sample means are widely spread around the population mean, suggesting that the sample may not closely represent the population. Conversely, a **low standard error** indicates that sample means are closely distributed around the population mean, implying that the sample is representative of the population¹²³⁴. 📊🔍.\n",
    "\n",
    "Source: Conversation with Bing, 3/12/2024\n",
    "(1) What Is Standard Error? | How to Calculate (Guide with Examples) - Scribbr. https://www.scribbr.com/statistics/standard-error/.\n",
    "(2) Standard Error (SE) Definition: Standard Deviation in ... - Investopedia. https://www.investopedia.com/terms/s/standard-error.asp.\n",
    "(3) Standard error - Wikipedia. https://en.wikipedia.org/wiki/Standard_error.\n",
    "(4) Standard Error - Overview, Formula, and Importance. https://corporatefinanceinstitute.com/resources/data-science/standard-error/.\n",
    "(5) en.wikipedia.org. https://en.wikipedia.org/wiki/Standard_error."
   ]
  },
  {
   "cell_type": "markdown",
   "id": "6d2aec42",
   "metadata": {
    "papermill": {
     "duration": 0.013799,
     "end_time": "2024-03-12T19:47:41.452675",
     "exception": false,
     "start_time": "2024-03-12T19:47:41.438876",
     "status": "completed"
    },
    "tags": []
   },
   "source": [
    "## Equality of Variances Assumption:\n",
    "Many statistical tests assume that the variances (or standard deviations) of different groups or samples are approximately equal."
   ]
  },
  {
   "cell_type": "markdown",
   "id": "0dea31de",
   "metadata": {
    "papermill": {
     "duration": 0.013187,
     "end_time": "2024-03-12T19:47:41.479384",
     "exception": false,
     "start_time": "2024-03-12T19:47:41.466197",
     "status": "completed"
    },
    "tags": []
   },
   "source": [
    "Certainly! Let's explore the assumptions associated with **Student’s t-test**:\n",
    "\n",
    "1. **Independence**:\n",
    "   - The observations in one sample must be **independent** of the observations in the other sample.\n",
    "   - If the same individuals appear in both samples, it's not valid to draw conclusions about differences between the samples.\n",
    "   - To check this assumption, verify that each observation appears only once in each sample and that the observations were collected using **random sampling**.\n",
    "\n",
    "2. **Normality**:\n",
    "   - Both samples should be **approximately normally distributed**.\n",
    "   - If the sample sizes are small (n < 50), use a **Shapiro-Wilk test** to assess normality.\n",
    "   - For larger sample sizes, visually inspect a **Q-Q plot** to check if data points fall along a straight diagonal line (indicating normal distribution).\n",
    "   - If normality is violated, consider using the **Mann-Whitney U test**, a non-parametric alternative.\n",
    "\n",
    "3. **Homogeneity of Variances**:\n",
    "   - The two samples should have **similar variances** (homogeneity).\n",
    "   - A rule of thumb: If the ratio of the larger variance to the smaller variance is less than 4, assume approximately equal variances.\n",
    "   - If variances differ significantly, consider robust alternatives or use the **Welch's t-test**.\n",
    "\n",
    "Remember that violating these assumptions may affect the validity of your t-test results. Choose appropriate tests based on your data characteristics. 📊🔍"
   ]
  },
  {
   "cell_type": "markdown",
   "id": "a5272394",
   "metadata": {
    "papermill": {
     "duration": 0.01335,
     "end_time": "2024-03-12T19:47:41.506206",
     "exception": false,
     "start_time": "2024-03-12T19:47:41.492856",
     "status": "completed"
    },
    "tags": []
   },
   "source": [
    "___"
   ]
  },
  {
   "cell_type": "markdown",
   "id": "2cd5f22b",
   "metadata": {
    "papermill": {
     "duration": 0.01349,
     "end_time": "2024-03-12T19:47:41.533613",
     "exception": false,
     "start_time": "2024-03-12T19:47:41.520123",
     "status": "completed"
    },
    "tags": []
   },
   "source": [
    "# What is the Python code for calculating the confidence intervals for a mean?"
   ]
  },
  {
   "cell_type": "code",
   "execution_count": 3,
   "id": "68a7e646",
   "metadata": {
    "execution": {
     "iopub.execute_input": "2024-03-12T19:47:41.563256Z",
     "iopub.status.busy": "2024-03-12T19:47:41.562450Z",
     "iopub.status.idle": "2024-03-12T19:47:41.572630Z",
     "shell.execute_reply": "2024-03-12T19:47:41.571699Z"
    },
    "papermill": {
     "duration": 0.0272,
     "end_time": "2024-03-12T19:47:41.574414",
     "exception": false,
     "start_time": "2024-03-12T19:47:41.547214",
     "status": "completed"
    },
    "tags": []
   },
   "outputs": [
    {
     "name": "stdout",
     "output_type": "stream",
     "text": [
      "The confidence interval is: (3.3341494103866087, 7.665850589613392)\n"
     ]
    }
   ],
   "source": [
    "#ChatGPT 4.0 Turbo:\n",
    "\n",
    "# Let's assume you have some data in a Python list\n",
    "data = [1, 2, 3, 4, 5, 6, 7, 8, 9, 10]\n",
    "\n",
    "# Calculate the mean and standard error\n",
    "mean = np.mean(data)\n",
    "standard_error = scipy.stats.sem(data)\n",
    "\n",
    "# Define the confidence level to be 95%\n",
    "confidence_level = 0.95\n",
    "\n",
    "# Calculate the confidence interval\n",
    "confidence_interval = scipy.stats.t.interval(confidence_level, len(data)-1, loc=mean, scale=standard_error)\n",
    "\n",
    "print(f\"The confidence interval is: {confidence_interval}\")"
   ]
  },
  {
   "cell_type": "code",
   "execution_count": 4,
   "id": "448c255d",
   "metadata": {
    "execution": {
     "iopub.execute_input": "2024-03-12T19:47:41.603471Z",
     "iopub.status.busy": "2024-03-12T19:47:41.603181Z",
     "iopub.status.idle": "2024-03-12T19:47:41.770023Z",
     "shell.execute_reply": "2024-03-12T19:47:41.769354Z"
    },
    "papermill": {
     "duration": 0.183216,
     "end_time": "2024-03-12T19:47:41.771873",
     "exception": false,
     "start_time": "2024-03-12T19:47:41.588657",
     "status": "completed"
    },
    "tags": []
   },
   "outputs": [
    {
     "data": {
      "image/png": "[encoded data removed]",
      "text/plain": [
       "<Figure size 640x480 with 1 Axes>"
      ]
     },
     "metadata": {},
     "output_type": "display_data"
    }
   ],
   "source": [
    "# Plot the CI intervals\n",
    "\n",
    "# Create a figure and a subplot\n",
    "fig, ax = plt.subplots()\n",
    "\n",
    "# Plot the mean as a red line\n",
    "ax.axhline(mean, color='red')\n",
    "\n",
    "# Plot the confidence interval as a blue band\n",
    "ax.fill_between(range(len(data)), confidence_interval[0], confidence_interval[1], color='blue', alpha=0.2)\n",
    "\n",
    "# Plot the data points\n",
    "ax.plot(data, 'ko')\n",
    "\n",
    "# Show the plot\n",
    "plt.show()"
   ]
  },
  {
   "cell_type": "markdown",
   "id": "5977ca23",
   "metadata": {
    "papermill": {
     "duration": 0.013771,
     "end_time": "2024-03-12T19:47:41.801085",
     "exception": false,
     "start_time": "2024-03-12T19:47:41.787314",
     "status": "completed"
    },
    "tags": []
   },
   "source": [
    "# How can you generate a dataset of 1000 normally distributed points with mean=x and variance=y, provide summary statistics, and plot the density?\n",
    "\n",
    "Original Q: In R, how can you generate a dataset of 1000 normally distributed points with mean=x and variance=y, provide summary statistics, and plot the density? Also, replicate these steps in a Python script within Codility's editor."
   ]
  },
  {
   "cell_type": "code",
   "execution_count": 5,
   "id": "778c1b3c",
   "metadata": {
    "execution": {
     "iopub.execute_input": "2024-03-12T19:47:41.834770Z",
     "iopub.status.busy": "2024-03-12T19:47:41.833710Z",
     "iopub.status.idle": "2024-03-12T19:47:42.186897Z",
     "shell.execute_reply": "2024-03-12T19:47:42.185960Z"
    },
    "papermill": {
     "duration": 0.373716,
     "end_time": "2024-03-12T19:47:42.188496",
     "exception": false,
     "start_time": "2024-03-12T19:47:41.814780",
     "status": "completed"
    },
    "tags": []
   },
   "outputs": [
    {
     "name": "stdout",
     "output_type": "stream",
     "text": [
      "              Data\n",
      "count  1000.000000\n",
      "mean      0.038937\n",
      "std       1.007716\n",
      "min      -3.591367\n",
      "25%      -0.601531\n",
      "50%       0.038258\n",
      "75%       0.715928\n",
      "max       3.503060\n"
     ]
    },
    {
     "name": "stderr",
     "output_type": "stream",
     "text": [
      "/opt/conda/lib/python3.10/site-packages/seaborn/_oldcore.py:1119: FutureWarning: use_inf_as_na option is deprecated and will be removed in a future version. Convert inf values to NaN before operating instead.\n",
      "  with pd.option_context('mode.use_inf_as_na', True):\n",
      "/opt/conda/lib/python3.10/site-packages/seaborn/_oldcore.py:1075: FutureWarning: When grouping with a length-1 list-like, you will need to pass a length-1 tuple to get_group in a future version of pandas. Pass `(name,)` instead of `name` to silence this warning.\n",
      "  data_subset = grouped_data.get_group(pd_key)\n",
      "/opt/conda/lib/python3.10/site-packages/seaborn/_oldcore.py:1075: FutureWarning: When grouping with a length-1 list-like, you will need to pass a length-1 tuple to get_group in a future version of pandas. Pass `(name,)` instead of `name` to silence this warning.\n",
      "  data_subset = grouped_data.get_group(pd_key)\n",
      "/opt/conda/lib/python3.10/site-packages/seaborn/_oldcore.py:1075: FutureWarning: When grouping with a length-1 list-like, you will need to pass a length-1 tuple to get_group in a future version of pandas. Pass `(name,)` instead of `name` to silence this warning.\n",
      "  data_subset = grouped_data.get_group(pd_key)\n"
     ]
    },
    {
     "data": {
      "image/png": "[encoded data removed]",
      "text/plain": [
       "<Figure size 1000x600 with 1 Axes>"
      ]
     },
     "metadata": {},
     "output_type": "display_data"
    }
   ],
   "source": [
    "# Completing above in Python\n",
    "import numpy as np\n",
    "import pandas as pd\n",
    "import matplotlib.pyplot as plt\n",
    "import seaborn as sns\n",
    "\n",
    "# Set the mean and variance\n",
    "mean = 0  # replace with your value\n",
    "variance = 1  # replace with your value\n",
    "std_dev = np.sqrt(variance)  # standard deviation is the square root of the variance\n",
    "\n",
    "# Generate the dataset\n",
    "data = np.random.normal(loc=mean, scale=std_dev, size=1000)\n",
    "\n",
    "# Convert to pandas DataFrame for easier handling\n",
    "df = pd.DataFrame(data, columns=['Data'])\n",
    "\n",
    "# Print summary statistics\n",
    "print(df.describe())\n",
    "\n",
    "# Plot the density\n",
    "plt.figure(figsize=(10, 6))\n",
    "sns.histplot(df, kde=True)\n",
    "plt.title('Density Plot')\n",
    "plt.xlabel('Data')\n",
    "plt.ylabel('Density')\n",
    "plt.show()"
   ]
  },
  {
   "cell_type": "markdown",
   "id": "8cac322b",
   "metadata": {
    "papermill": {
     "duration": 0.014527,
     "end_time": "2024-03-12T19:47:42.218844",
     "exception": false,
     "start_time": "2024-03-12T19:47:42.204317",
     "status": "completed"
    },
    "tags": []
   },
   "source": [
    "# Explain the concept of percentiles in statistics, and how you would go about finding the nth percentile of a dataset? Can you write a code for finding the nth percentile of a dataset."
   ]
  },
  {
   "cell_type": "markdown",
   "id": "37ce0aa2",
   "metadata": {
    "papermill": {
     "duration": 0.014558,
     "end_time": "2024-03-12T19:47:42.247943",
     "exception": false,
     "start_time": "2024-03-12T19:47:42.233385",
     "status": "completed"
    },
    "tags": []
   },
   "source": [
    "Simple explanation:\n",
    "\n",
    "Imagine you and your friends just had a race, and the times it took each of you to finish were written down. Now, if these times are arranged from fastest to slowest, the “percentile” is a way of saying what <span style=\"color:#FF0000\"> percentage of the times are less than or equal to a certain time<span>.\n",
    "\n",
    "For example, if your time is at the 50th percentile (also known as the median), that means <span style=\"color:#FF0000\"> you ran faster than or equal to 50% of your friends<span>.\n",
    "\n",
    "Now, let’s say we want to find the nth percentile of a list of numbers (like the race times). Here’s how you can do it with Python code:"
   ]
  },
  {
   "cell_type": "code",
   "execution_count": 6,
   "id": "7de733e8",
   "metadata": {
    "execution": {
     "iopub.execute_input": "2024-03-12T19:47:42.279230Z",
     "iopub.status.busy": "2024-03-12T19:47:42.278269Z",
     "iopub.status.idle": "2024-03-12T19:47:42.286031Z",
     "shell.execute_reply": "2024-03-12T19:47:42.284729Z"
    },
    "papermill": {
     "duration": 0.025785,
     "end_time": "2024-03-12T19:47:42.288165",
     "exception": false,
     "start_time": "2024-03-12T19:47:42.262380",
     "status": "completed"
    },
    "tags": []
   },
   "outputs": [
    {
     "name": "stdout",
     "output_type": "stream",
     "text": [
      "The 50th percentile is 6.0\n"
     ]
    }
   ],
   "source": [
    "import numpy as np\n",
    "\n",
    "# Let's say these are the race times\n",
    "times = [5, 8, 4, 7, 6, 3, 7, 8, 5, 6]\n",
    "\n",
    "# And we want to find the 50th percentile (replace 50 with your desired percentile)\n",
    "percentile = 50\n",
    "\n",
    "# Use the numpy.percentile function to find the nth percentile\n",
    "nth_percentile = np.percentile(times, percentile)\n",
    "\n",
    "print(f\"The {percentile}th percentile is {nth_percentile}\")"
   ]
  },
  {
   "cell_type": "markdown",
   "id": "8a2f48b8",
   "metadata": {
    "papermill": {
     "duration": 0.015287,
     "end_time": "2024-03-12T19:47:42.321843",
     "exception": false,
     "start_time": "2024-03-12T19:47:42.306556",
     "status": "completed"
    },
    "tags": []
   },
   "source": [
    "Technical explanation:\n",
    "\n",
    "In statistics, a percentile is a measure used to indicate the value below which a given percentage of observations in a group of observations falls. For example, the 20th percentile is the value (or score) below which 20% of the observations may be found.\n",
    "\n",
    "Percentiles are often used in academics to compare scores across different tests or subjects. They are also used in various fields such as finance, health, and more, to provide a relative standard of measurement.\n",
    "\n",
    "To find the nth percentile of a dataset, you would follow these steps:\n",
    "\n",
    "1. Sort the data in ascending order.\n",
    "2. Calculate the rank ® using the formula R = P/100 * (N + 1), where P is the desired percentile and N is the number of data points.\n",
    "3. \n",
    " * If R is an integer, the Pth percentile is the number at position R in the sorted list.\n",
    " * If R is not an integer, round it up and down to the nearest integers and take the average of the numbers at these two positions in the sorted list.\n",
    " \n",
    "In Python, you can use the numpy.percentile function to calculate percentiles. Here’s an example:"
   ]
  },
  {
   "cell_type": "code",
   "execution_count": 7,
   "id": "f674fce3",
   "metadata": {
    "execution": {
     "iopub.execute_input": "2024-03-12T19:47:42.354183Z",
     "iopub.status.busy": "2024-03-12T19:47:42.353618Z",
     "iopub.status.idle": "2024-03-12T19:47:42.360585Z",
     "shell.execute_reply": "2024-03-12T19:47:42.359531Z"
    },
    "papermill": {
     "duration": 0.02614,
     "end_time": "2024-03-12T19:47:42.363193",
     "exception": false,
     "start_time": "2024-03-12T19:47:42.337053",
     "status": "completed"
    },
    "tags": []
   },
   "outputs": [
    {
     "name": "stdout",
     "output_type": "stream",
     "text": [
      "The 25th percentile is 3.25\n"
     ]
    }
   ],
   "source": [
    "import numpy as np\n",
    "\n",
    "# Assuming data is your dataset\n",
    "data = np.array([1, 2, 3, 4, 5, 6, 7, 8, 9, 10])\n",
    "\n",
    "# Calculate the 25th percentile\n",
    "p = 25\n",
    "percentile = np.percentile(data, p)\n",
    "\n",
    "print(f\"The {p}th percentile is {percentile}\")"
   ]
  },
  {
   "cell_type": "markdown",
   "id": "2bab1db1",
   "metadata": {
    "papermill": {
     "duration": 0.073963,
     "end_time": "2024-03-12T19:47:42.453677",
     "exception": false,
     "start_time": "2024-03-12T19:47:42.379714",
     "status": "completed"
    },
    "tags": []
   },
   "source": [
    "# What is the maximum likelihood of getting k heads when you tossed coin n times? Explain the math behind it."
   ]
  },
  {
   "cell_type": "markdown",
   "id": "4aca07c5",
   "metadata": {
    "papermill": {
     "duration": 0.01438,
     "end_time": "2024-03-12T19:47:42.483107",
     "exception": false,
     "start_time": "2024-03-12T19:47:42.468727",
     "status": "completed"
    },
    "tags": []
   },
   "source": [
    "Simple explanation:\n",
    "\n",
    "Imagine you have a fair coin (which means it’s just as likely to land on heads as it is to land on tails), and you flip it n times. Let’s say you get k heads. Now, you’re wondering: <span style=\"color:#FF0000\"> if I did this many times, how often would I get k heads? That’s what “maximum likelihood” is all about! <span>\n",
    "\n",
    "Here’s a simple way to think about it:\n",
    "\n",
    "Each time you flip the coin, there’s a 50% chance it lands on heads, and a 50% chance it lands on tails. That’s because it’s a fair coin.\n",
    "\n",
    "If you flip the coin n times, there are many different outcomes possible. For example, if n=3, you could get HHT, HTH, THH, TTH, THT, HTT, HHH, or TTT (where H represents heads and T represents tails).\n",
    "\n",
    "Out of all these outcomes, some of them have exactly k heads. The “maximum likelihood” is the <span style=\"color:#FF0000\"> most common outcome among these<span>.\n",
    "    \n",
    "In math terms, we use something called the binomial distribution to calculate this. But don’t worry about that for now - the important thing is that the maximum likelihood tells us the <span style=\"color:#FF0000\"> most common outcome if we repeat an experiment many times<span>.\n",
    "\n",
    "Technical explanation:\n",
    "\n",
    "In statistics, the concept of maximum likelihood estimation (MLE) is used to estimate the parameters of a statistical model. In the context of tossing a coin n times and getting k heads, we can use MLE to estimate the probability of getting a head (p).\n",
    "\n",
    "The likelihood of getting k heads in n tosses follows a Binomial distribution. The probability mass function of the Binomial distribution is given by:\n",
    "\n",
    "$$\n",
    "P(X=k) = C(n, k) \\cdot p^k \\cdot (1-p)^{n-k}\n",
    "$$\n",
    "\n",
    "where:\n",
    "- $P(X=k)$ is the probability of getting exactly k heads in n tosses,\n",
    "- $C(n, k)$ is the binomial coefficient, which is the number of ways to choose k heads from n tosses,\n",
    "- $p$ is the probability of getting a head in a single toss,\n",
    "- $n$ is the number of tosses,\n",
    "- $k$ is the number of heads.\n",
    "\n",
    "The MLE for p (probability of getting a head) is simply the sample mean, i.e., the number of heads divided by the number of tosses. So if you tossed a coin n times and observed k heads, your MLE for p would be $\\hat{p} = \\frac{k}{n}$.\n",
    "\n",
    "This is because the likelihood function $L(p; X=k)$ is maximized when $p = \\frac{k}{n}$. You can prove this by taking the derivative of the likelihood function with respect to p, setting it equal to zero, and solving for p. This gives you the value of p that maximizes the likelihood of observing the data given the model, which is the definition of MLE. \n",
    "\n",
    "So, in summary, the maximum likelihood of getting k heads when you tossed a coin n times is achieved when the probability of getting a head is estimated to be the ratio of the number of heads to the total number of tosses. This is a fundamental concept in statistics and is used in many areas of data science."
   ]
  },
  {
   "cell_type": "markdown",
   "id": "92206024",
   "metadata": {
    "papermill": {
     "duration": 0.014395,
     "end_time": "2024-03-12T19:47:42.512133",
     "exception": false,
     "start_time": "2024-03-12T19:47:42.497738",
     "status": "completed"
    },
    "tags": []
   },
   "source": [
    "# What SQL technique would you use to obtain distinct conversation events from a database?"
   ]
  },
  {
   "cell_type": "code",
   "execution_count": 8,
   "id": "4f38f2cd",
   "metadata": {
    "execution": {
     "iopub.execute_input": "2024-03-12T19:47:42.543493Z",
     "iopub.status.busy": "2024-03-12T19:47:42.543076Z",
     "iopub.status.idle": "2024-03-12T19:47:42.548013Z",
     "shell.execute_reply": "2024-03-12T19:47:42.546805Z"
    },
    "papermill": {
     "duration": 0.023264,
     "end_time": "2024-03-12T19:47:42.549949",
     "exception": false,
     "start_time": "2024-03-12T19:47:42.526685",
     "status": "completed"
    },
    "tags": []
   },
   "outputs": [],
   "source": [
    "# SELECT DISTINCT conversation_id, event_type\n",
    "# FROM conversation_events;"
   ]
  },
  {
   "cell_type": "markdown",
   "id": "a8c1f6a7",
   "metadata": {
    "papermill": {
     "duration": 0.015343,
     "end_time": "2024-03-12T19:47:42.583069",
     "exception": false,
     "start_time": "2024-03-12T19:47:42.567726",
     "status": "completed"
    },
    "tags": []
   },
   "source": [
    "# How would you write a Python script to produce the Fibonacci series?"
   ]
  },
  {
   "cell_type": "code",
   "execution_count": 9,
   "id": "8ab1f2c2",
   "metadata": {
    "execution": {
     "iopub.execute_input": "2024-03-12T19:47:42.616417Z",
     "iopub.status.busy": "2024-03-12T19:47:42.615251Z",
     "iopub.status.idle": "2024-03-12T19:47:42.621808Z",
     "shell.execute_reply": "2024-03-12T19:47:42.620737Z"
    },
    "papermill": {
     "duration": 0.025432,
     "end_time": "2024-03-12T19:47:42.623790",
     "exception": false,
     "start_time": "2024-03-12T19:47:42.598358",
     "status": "completed"
    },
    "tags": []
   },
   "outputs": [
    {
     "name": "stdout",
     "output_type": "stream",
     "text": [
      "[0, 1, 1, 2, 3, 5, 8, 13, 21, 34]\n"
     ]
    }
   ],
   "source": [
    "def fibonacci(n):\n",
    "    fib_sequence = [0, 1]\n",
    "    while len(fib_sequence) < n:\n",
    "        fib_sequence.append(fib_sequence[-1] + fib_sequence[-2])\n",
    "    return fib_sequence\n",
    "\n",
    "# Print the first 10 terms of the Fibonacci series\n",
    "print(fibonacci(10))"
   ]
  },
  {
   "cell_type": "markdown",
   "id": "f84716b9",
   "metadata": {
    "papermill": {
     "duration": 0.014642,
     "end_time": "2024-03-12T19:47:42.655222",
     "exception": false,
     "start_time": "2024-03-12T19:47:42.640580",
     "status": "completed"
    },
    "tags": []
   },
   "source": [
    "# Can you write a Python function that yields a Bernoulli-distributed matrix and scales each element by the sum of its respective column?"
   ]
  },
  {
   "cell_type": "code",
   "execution_count": 10,
   "id": "ee47a4c7",
   "metadata": {
    "execution": {
     "iopub.execute_input": "2024-03-12T19:47:42.689468Z",
     "iopub.status.busy": "2024-03-12T19:47:42.688918Z",
     "iopub.status.idle": "2024-03-12T19:47:42.698703Z",
     "shell.execute_reply": "2024-03-12T19:47:42.697753Z"
    },
    "papermill": {
     "duration": 0.030351,
     "end_time": "2024-03-12T19:47:42.700270",
     "exception": false,
     "start_time": "2024-03-12T19:47:42.669919",
     "status": "completed"
    },
    "tags": []
   },
   "outputs": [
    {
     "name": "stderr",
     "output_type": "stream",
     "text": [
      "/tmp/ipykernel_18/1505227064.py:12: RuntimeWarning: invalid value encountered in divide\n",
      "  scaled_matrix = matrix / col_sums\n"
     ]
    },
    {
     "data": {
      "text/plain": [
       "array([[0.33333333,        nan, 0.        ],\n",
       "       [0.33333333,        nan, 1.        ],\n",
       "       [0.33333333,        nan, 0.        ]])"
      ]
     },
     "execution_count": 10,
     "metadata": {},
     "output_type": "execute_result"
    }
   ],
   "source": [
    "def generate_and_scale_matrix(n_rows, n_cols, p=0.5):\n",
    "    # Generate a Bernoulli-distributed matrix\n",
    "    matrix = np.random.binomial(1, p, size=(n_rows, n_cols))\n",
    "    \n",
    "    # Calculate the column sums\n",
    "    col_sums = matrix.sum(axis=0)\n",
    "    \n",
    "    # To avoid division by zero, replace zero sums with a small number\n",
    "    col_sums[col_sums == 0] = 1e-10\n",
    "    \n",
    "    # Scale each element by the sum of its respective column\n",
    "    scaled_matrix = matrix / col_sums\n",
    "    \n",
    "    return scaled_matrix\n",
    "\n",
    "generate_and_scale_matrix(3,3)"
   ]
  },
  {
   "cell_type": "markdown",
   "id": "2f571f22",
   "metadata": {
    "papermill": {
     "duration": 0.014608,
     "end_time": "2024-03-12T19:47:42.731314",
     "exception": false,
     "start_time": "2024-03-12T19:47:42.716706",
     "status": "completed"
    },
    "tags": []
   },
   "source": [
    "# Outline the development of a shuffle() function that employs roll() to ensure equal probability of permutations."
   ]
  },
  {
   "cell_type": "code",
   "execution_count": 11,
   "id": "1f5420e7",
   "metadata": {
    "execution": {
     "iopub.execute_input": "2024-03-12T19:47:42.763228Z",
     "iopub.status.busy": "2024-03-12T19:47:42.762877Z",
     "iopub.status.idle": "2024-03-12T19:47:42.771785Z",
     "shell.execute_reply": "2024-03-12T19:47:42.771073Z"
    },
    "papermill": {
     "duration": 0.026582,
     "end_time": "2024-03-12T19:47:42.773182",
     "exception": false,
     "start_time": "2024-03-12T19:47:42.746600",
     "status": "completed"
    },
    "tags": []
   },
   "outputs": [
    {
     "data": {
      "text/plain": [
       "['4 of Clubs',\n",
       " '7 of Clubs',\n",
       " '2 of Diamonds',\n",
       " '3 of Diamonds',\n",
       " 'Ace of Diamonds',\n",
       " 'King of Clubs',\n",
       " '2 of Spades',\n",
       " '9 of Clubs',\n",
       " 'King of Spades',\n",
       " '4 of Spades',\n",
       " 'Queen of Hearts',\n",
       " '6 of Clubs',\n",
       " '5 of Diamonds',\n",
       " 'Ace of Spades',\n",
       " '7 of Hearts',\n",
       " '10 of Spades',\n",
       " 'Jack of Spades',\n",
       " '9 of Spades',\n",
       " 'King of Diamonds',\n",
       " '8 of Spades',\n",
       " '10 of Diamonds',\n",
       " '7 of Diamonds',\n",
       " '8 of Hearts',\n",
       " '9 of Diamonds',\n",
       " '7 of Spades',\n",
       " '9 of Hearts',\n",
       " 'Jack of Clubs',\n",
       " '3 of Spades',\n",
       " '5 of Clubs',\n",
       " 'Jack of Hearts',\n",
       " '2 of Hearts',\n",
       " 'Jack of Diamonds',\n",
       " 'Ace of Clubs',\n",
       " '6 of Diamonds',\n",
       " 'Queen of Spades',\n",
       " '8 of Clubs',\n",
       " '3 of Clubs',\n",
       " '5 of Spades',\n",
       " '3 of Hearts',\n",
       " '10 of Hearts',\n",
       " '10 of Clubs',\n",
       " '2 of Clubs',\n",
       " '4 of Hearts',\n",
       " 'Queen of Diamonds',\n",
       " '6 of Spades',\n",
       " 'Ace of Hearts',\n",
       " 'Queen of Clubs',\n",
       " '8 of Diamonds',\n",
       " '6 of Hearts',\n",
       " '5 of Hearts',\n",
       " '4 of Diamonds',\n",
       " 'King of Hearts']"
      ]
     },
     "execution_count": 11,
     "metadata": {},
     "output_type": "execute_result"
    }
   ],
   "source": [
    "import random\n",
    "\n",
    "def shuffle(deck):\n",
    "    # Go through each card in the deck\n",
    "    for i in range(len(deck)):\n",
    "        # Choose a random other card in the deck\n",
    "        j = random.randint(i, len(deck) - 1) # this and following line produces roll()\n",
    "        # Swap them\n",
    "        deck[i], deck[j] = deck[j], deck[i]\n",
    "    return deck\n",
    "\n",
    "deck = ['Ace of Spades', '2 of Spades', '3 of Spades', '4 of Spades', '5 of Spades', '6 of Spades', '7 of Spades', '8 of Spades', '9 of Spades', '10 of Spades', 'Jack of Spades', 'Queen of Spades', 'King of Spades',\n",
    "        'Ace of Hearts', '2 of Hearts', '3 of Hearts', '4 of Hearts', '5 of Hearts', '6 of Hearts', '7 of Hearts', '8 of Hearts', '9 of Hearts', '10 of Hearts', 'Jack of Hearts', 'Queen of Hearts', 'King of Hearts',\n",
    "        'Ace of Diamonds', '2 of Diamonds', '3 of Diamonds', '4 of Diamonds', '5 of Diamonds', '6 of Diamonds', '7 of Diamonds', '8 of Diamonds', '9 of Diamonds', '10 of Diamonds', 'Jack of Diamonds', 'Queen of Diamonds', 'King of Diamonds',\n",
    "        'Ace of Clubs', '2 of Clubs', '3 of Clubs', '4 of Clubs', '5 of Clubs', '6 of Clubs', '7 of Clubs', '8 of Clubs', '9 of Clubs', '10 of Clubs', 'Jack of Clubs', 'Queen of Clubs', 'King of Clubs']\n",
    "\n",
    "shuffle(deck)"
   ]
  },
  {
   "cell_type": "markdown",
   "id": "d15eb42e",
   "metadata": {
    "papermill": {
     "duration": 0.014773,
     "end_time": "2024-03-12T19:47:42.803407",
     "exception": false,
     "start_time": "2024-03-12T19:47:42.788634",
     "status": "completed"
    },
    "tags": []
   },
   "source": [
    "# Have you ever encountered a coin that you suspected to be biased? If so, what gave it away?"
   ]
  },
  {
   "cell_type": "markdown",
   "id": "bdab2a90",
   "metadata": {
    "papermill": {
     "duration": 0.014706,
     "end_time": "2024-03-12T19:47:42.832974",
     "exception": false,
     "start_time": "2024-03-12T19:47:42.818268",
     "status": "completed"
    },
    "tags": []
   },
   "source": [
    "A coin might be suspected of being biased if it consistently lands on one side more often than the other over a large number of flips (streaks). This could be due to its weight distribution, the way it’s flipped, or other factors. For example, if you <span style=\"color:#FF0000\"> flipped a coin 100 times<span> and it landed on heads <span style=\"color:#FF0000\">80 times<span>, you might suspect that the coin is biased towards heads.\n",
    "\n",
    "However, it’s important to remember that randomness can sometimes produce results that seem non-random. Even <span style=\"color:#FF0000\">a fair coin could, by chance, land on heads 80 times out of 100<span>. So, to be confident that a coin is biased, you would need to see a significant deviation from the expected 50/50 split of heads and tails over a large number of flips.\n",
    "\n",
    "Statistical tests, such as the <span style=\"color:#FF0000\">Chi-Square test<span>, can be used to determine if the difference between the observed results and the expected results is statistically significant. <span style=\"color:#FF0000\">If the test shows that the difference is statistically significant, it would give away that the coin is likely biased<span>."
   ]
  },
  {
   "cell_type": "markdown",
   "id": "0ae3f71e",
   "metadata": {
    "papermill": {
     "duration": 0.014648,
     "end_time": "2024-03-12T19:47:42.862713",
     "exception": false,
     "start_time": "2024-03-12T19:47:42.848065",
     "status": "completed"
    },
    "tags": []
   },
   "source": [
    "# Assuming you have a container holding 4 red balls and 2 blue balls, what are the chances of selecting one red ball and one blue ball consecutively without returning the first pick?"
   ]
  },
  {
   "cell_type": "markdown",
   "id": "d6efd859",
   "metadata": {
    "papermill": {
     "duration": 0.015371,
     "end_time": "2024-03-12T19:47:42.892947",
     "exception": false,
     "start_time": "2024-03-12T19:47:42.877576",
     "status": "completed"
    },
    "tags": []
   },
   "source": [
    "First, let’s find the total number of balls. \n",
    "\n",
    "We have 4 red balls and 2 blue balls, so that’s 6 balls in total.\n",
    "If we want to pick one red ball first, there are 4 red balls out of 6 total balls. So the probability of picking a red ball first is 4 out of 6, or \n",
    "\n",
    "$\\frac{4}{6}$ = $\\frac{2}{3}$\n",
    ".\n",
    "\n",
    "After we’ve picked a red ball, we don’t put it back in the container. So now there are only 5 balls left in the container.\n",
    "\n",
    "Next, we want to pick a blue ball. There are 2 blue balls out of the 5 remaining balls. So the probability of picking a blue ball next is 2 out of 5, or \n",
    "\n",
    "$\\frac{2}{5}$\n",
    "​\n",
    ".\n",
    "To find the probability of both events happening in order (picking a red ball first and then a blue ball), we multiply the probabilities together:\n",
    "\n",
    "$\\frac{2}{3}$ x $\\frac{2}{5}$ = $\\frac{4}{15}$\n",
    "​\n",
    "\n",
    "So the chances of picking one red ball and then one blue ball consecutively without returning the first pick is \n",
    "\n",
    "$\\frac{4}{15}$​"
   ]
  },
  {
   "cell_type": "markdown",
   "id": "81ecb1e8",
   "metadata": {
    "papermill": {
     "duration": 0.014754,
     "end_time": "2024-03-12T19:47:42.922678",
     "exception": false,
     "start_time": "2024-03-12T19:47:42.907924",
     "status": "completed"
    },
    "tags": []
   },
   "source": [
    "(Most likely will not be a plausible question given role, but including just in case)\n",
    "\n",
    "# Can you demonstrate how dynamic programming can be used to find an array's longest increasing sequence?"
   ]
  },
  {
   "cell_type": "code",
   "execution_count": 12,
   "id": "6fac1822",
   "metadata": {
    "execution": {
     "iopub.execute_input": "2024-03-12T19:47:42.954704Z",
     "iopub.status.busy": "2024-03-12T19:47:42.954238Z",
     "iopub.status.idle": "2024-03-12T19:47:42.962242Z",
     "shell.execute_reply": "2024-03-12T19:47:42.960872Z"
    },
    "papermill": {
     "duration": 0.027046,
     "end_time": "2024-03-12T19:47:42.964747",
     "exception": false,
     "start_time": "2024-03-12T19:47:42.937701",
     "status": "completed"
    },
    "tags": []
   },
   "outputs": [
    {
     "name": "stdout",
     "output_type": "stream",
     "text": [
      "Length of the longest increasing subsequence is 5\n"
     ]
    }
   ],
   "source": [
    "def longest_increasing_subsequence(arr):\n",
    "    n = len(arr)\n",
    "\n",
    "    # Initialize the list with 1, because a single character itself is a subsequence of length 1\n",
    "    lis = [1] * n\n",
    "\n",
    "    # Compute optimized LIS values in a bottom-up manner\n",
    "    for i in range (1, n):\n",
    "        for j in range(0, i):\n",
    "            if arr[i] > arr[j] and lis[i] < lis[j] + 1:\n",
    "                lis[i] = lis[j]+1\n",
    "\n",
    "    # Initialize maximum to 0 to get the maximum of all LIS\n",
    "    maximum = 0\n",
    "\n",
    "    # Pick maximum of all LIS values\n",
    "    for i in range(len(lis)):\n",
    "        maximum = max(maximum, lis[i])\n",
    "\n",
    "    return maximum\n",
    "\n",
    "# Test the function\n",
    "arr = [10, 22, 9, 33, 21, 50, 41, 60]\n",
    "print(\"Length of the longest increasing subsequence is\", longest_increasing_subsequence(arr))"
   ]
  },
  {
   "cell_type": "markdown",
   "id": "40fa4d60",
   "metadata": {
    "papermill": {
     "duration": 0.01616,
     "end_time": "2024-03-12T19:47:42.999441",
     "exception": false,
     "start_time": "2024-03-12T19:47:42.983281",
     "status": "completed"
    },
    "tags": []
   },
   "source": [
    "# Can you walk me through the process of conducting an A/B test to compare the effectiveness of two product campaigns, with a goal of detecting a 3% improvement in performance?"
   ]
  },
  {
   "cell_type": "markdown",
   "id": "78fac8ca",
   "metadata": {
    "execution": {
     "iopub.execute_input": "2024-02-28T19:51:25.220216Z",
     "iopub.status.busy": "2024-02-28T19:51:25.219880Z",
     "iopub.status.idle": "2024-02-28T19:51:25.284151Z",
     "shell.execute_reply": "2024-02-28T19:51:25.282465Z",
     "shell.execute_reply.started": "2024-02-28T19:51:25.220190Z"
    },
    "papermill": {
     "duration": 0.016432,
     "end_time": "2024-03-12T19:47:43.032476",
     "exception": false,
     "start_time": "2024-03-12T19:47:43.016044",
     "status": "completed"
    },
    "tags": []
   },
   "source": [
    "Refer to:\n",
    "1. DS Interview A/B Testing Question in INTERVIEW PREP\n",
    "2. A/B Testing Practicaly \n",
    "* Customize hypothesis statements\n",
    "* and MDE of 3%\n",
    "* CUPED to reduce variance, etc needed?"
   ]
  },
  {
   "cell_type": "markdown",
   "id": "5cdce500",
   "metadata": {
    "papermill": {
     "duration": 0.017109,
     "end_time": "2024-03-12T19:47:43.066518",
     "exception": false,
     "start_time": "2024-03-12T19:47:43.049409",
     "status": "completed"
    },
    "tags": []
   },
   "source": [
    "(Most likely will not be asked this, but still including)\n",
    "\n",
    "# Can you demonstrate an algorithm to combine two sorted arrays into one that remains sorted?"
   ]
  },
  {
   "cell_type": "code",
   "execution_count": 13,
   "id": "86f2b80d",
   "metadata": {
    "execution": {
     "iopub.execute_input": "2024-03-12T19:47:43.103408Z",
     "iopub.status.busy": "2024-03-12T19:47:43.102311Z",
     "iopub.status.idle": "2024-03-12T19:47:43.109674Z",
     "shell.execute_reply": "2024-03-12T19:47:43.108848Z"
    },
    "papermill": {
     "duration": 0.027805,
     "end_time": "2024-03-12T19:47:43.111614",
     "exception": false,
     "start_time": "2024-03-12T19:47:43.083809",
     "status": "completed"
    },
    "tags": []
   },
   "outputs": [
    {
     "name": "stdout",
     "output_type": "stream",
     "text": [
      "[1, 2, 3, 4, 5, 6, 7, 8]\n"
     ]
    }
   ],
   "source": [
    "def merge_sorted_lists(list1, list2):\n",
    "    # Initialize an empty list to store the sorted elements\n",
    "    sorted_list = []\n",
    "    \n",
    "    # While both lists have elements\n",
    "    while list1 and list2:\n",
    "        # If the first element of list1 is smaller\n",
    "        if list1[0] < list2[0]:\n",
    "            # Append it to the sorted list and remove it from list1\n",
    "            sorted_list.append(list1.pop(0))\n",
    "        else:\n",
    "            # Otherwise, append the first element of list2 to the sorted list and remove it from list2\n",
    "            sorted_list.append(list2.pop(0))\n",
    "    \n",
    "    # If there are remaining elements in either list, add them to the sorted list\n",
    "    sorted_list += list1\n",
    "    sorted_list += list2\n",
    "    \n",
    "    return sorted_list\n",
    "\n",
    "list1 = [1, 3, 5, 7]\n",
    "list2 = [2, 4, 6, 8]\n",
    "merged_list = merge_sorted_lists(list1, list2)\n",
    "print(merged_list)  # Output: [1, 2, 3, 4, 5, 6, 7, 8]"
   ]
  },
  {
   "cell_type": "markdown",
   "id": "5744ebca",
   "metadata": {
    "papermill": {
     "duration": 0.016237,
     "end_time": "2024-03-12T19:47:43.144477",
     "exception": false,
     "start_time": "2024-03-12T19:47:43.128240",
     "status": "completed"
    },
    "tags": []
   },
   "source": [
    "(Might not be asked, but still including)\n",
    "\n",
    "# Could you architect a Python class that functions as an iterator for sequences?"
   ]
  },
  {
   "cell_type": "code",
   "execution_count": 14,
   "id": "93acbf94",
   "metadata": {
    "execution": {
     "iopub.execute_input": "2024-03-12T19:47:43.178249Z",
     "iopub.status.busy": "2024-03-12T19:47:43.177689Z",
     "iopub.status.idle": "2024-03-12T19:47:43.185177Z",
     "shell.execute_reply": "2024-03-12T19:47:43.183734Z"
    },
    "papermill": {
     "duration": 0.026824,
     "end_time": "2024-03-12T19:47:43.187141",
     "exception": false,
     "start_time": "2024-03-12T19:47:43.160317",
     "status": "completed"
    },
    "tags": []
   },
   "outputs": [
    {
     "name": "stdout",
     "output_type": "stream",
     "text": [
      "1\n",
      "2\n",
      "3\n",
      "4\n",
      "5\n"
     ]
    }
   ],
   "source": [
    "class SequenceIterator:\n",
    "    def __init__(self, sequence):\n",
    "        # The sequence to iterate over\n",
    "        self.sequence = sequence\n",
    "        # The current index of the sequence\n",
    "        self.index = 0\n",
    "\n",
    "    def __iter__(self):\n",
    "        # The __iter__ method returns the iterator object itself\n",
    "        return self\n",
    "\n",
    "    def __next__(self):\n",
    "        # The __next__ method returns the next value from the sequence\n",
    "        if self.index < len(self.sequence):\n",
    "            result = self.sequence[self.index]\n",
    "            self.index += 1\n",
    "            return result\n",
    "        else:\n",
    "            # Once all items have been returned, raise the StopIteration exception\n",
    "            raise StopIteration\n",
    "\n",
    "seq_iter = SequenceIterator([1, 2, 3, 4, 5])\n",
    "for item in seq_iter:\n",
    "    print(item)  # Output: 1, 2, 3, 4, 5 (on separate lines)"
   ]
  },
  {
   "cell_type": "markdown",
   "id": "ad7997f3",
   "metadata": {
    "papermill": {
     "duration": 0.015537,
     "end_time": "2024-03-12T19:47:43.219830",
     "exception": false,
     "start_time": "2024-03-12T19:47:43.204293",
     "status": "completed"
    },
    "tags": []
   },
   "source": [
    "# What would be your advice for a product team if usage metrics show a decline leading up to a new product launch?"
   ]
  },
  {
   "cell_type": "markdown",
   "id": "69881fe6",
   "metadata": {
    "execution": {
     "iopub.execute_input": "2024-02-28T22:53:08.903636Z",
     "iopub.status.busy": "2024-02-28T22:53:08.903215Z",
     "iopub.status.idle": "2024-02-28T22:53:08.941863Z",
     "shell.execute_reply": "2024-02-28T22:53:08.940105Z",
     "shell.execute_reply.started": "2024-02-28T22:53:08.903498Z"
    },
    "papermill": {
     "duration": 0.015873,
     "end_time": "2024-03-12T19:47:43.251549",
     "exception": false,
     "start_time": "2024-03-12T19:47:43.235676",
     "status": "completed"
    },
    "tags": []
   },
   "source": [
    "1. Ask some clarifying questions.\n",
    "* This is right after a full experiment run?\n",
    "* Competitor launched something?\n",
    "* Some change in local/gov't laws?\n",
    "\n",
    "\n",
    "* If key and guardrail metrics drop significantly and continuously then consider taking a step back and re-eval experiment for benefit of users and prod!\n",
    "\n",
    "* If there are SURPRISES(not stat sig pos result/stat sig neg result), delve deeper to understand why\n",
    "**  New/old users, channels, geographic regions assuming these were not used as invariant metrics\n",
    "* Usually, not having stat sig results due to INSUFFICIENT  STAT POWER\n",
    "*  Try other metrics with less variance\n",
    "** CUPED -  uses pre-experiment data to control for natural variation in an experiment’s north star metric. By removing natural variation, we can run statistical tests that require a smaller sample size. CUPED can be added to virtually any A/B testing framework; it’s computationally efficient and fairly straightforward to code.\n",
    "\n",
    "\n",
    "* Validity Checks-Did the experiment run soundly without errors or bias?\n",
    "\t* Flawed experiment design?\n",
    "\t* Instrumentation Effect- Guardrail metrics e.g. Latency time - bugs/glitches\n",
    "\t* External Factors- Holidays, Competition Launched something important, economic disruptions - COVID\n",
    "\t* Selection Bias - underlying dist between ctl and treatment before running test are homogenous--> run A/A test\n",
    "\t* Sample Ratio Mismatch- to ensure ratio between two user groups is sound (50/50 and not 49.51)-> Chi-Square Goodness of Fit Test \n",
    "\t* Novelty Effect- change to website, reaction to exposure to something new. Look at it by user segment; underlying diff in success metric in terms of new vs recurring users. If there is delta then presence of novelty effect--> run experiment in novelty group then run experiment again in recurring user group\n",
    "\n",
    "\n",
    "As a product data scientist, my advice would be to approach this situation systematically and objectively. Here are the steps I would recommend:\n",
    "\n",
    "1. **Understand the Metrics**: First, it's important to understand what the metrics are telling us. Is the decline across all user segments or specific to certain ones? Are there any patterns or trends that could explain this decline?\n",
    "\n",
    "2. **Investigate the Cause**: Once we have a better understanding of the metrics, the next step is to investigate potential causes. This could involve looking at user feedback, conducting user interviews, or analyzing product usage data.\n",
    "\n",
    "3. **Evaluate the New Feature**: It's also important to evaluate the new feature itself. Is it functioning as expected? Are there any bugs or issues that could be causing users to leave?\n",
    "\n",
    "4. **Conduct (another) A/B Testing**: If possible, conduct A/B testing to compare the performance of the new feature against the old one. This can provide valuable insights into whether the new feature is contributing to the decline in usage.\n",
    "\n",
    "5. **Develop a Plan**: Based on the findings from the above steps, develop a plan to address the issue. This could involve making changes to the new feature, improving user education and communication, or adjusting the product launch strategy.\n",
    "\n",
    "6. **Monitor and Iterate**: After implementing the plan, continue to monitor the usage metrics and iterate on the strategy as needed. Remember, product development is a continuous process of learning and improving.\n",
    "\n",
    "It's important to remember that a decline in usage metrics is not necessarily a bad thing. It could be a sign that users are not finding value in the current product, which is valuable information for the product team. The key is to understand why the decline is happening and use that information to make informed decisions about the product launch. Good luck! 😊"
   ]
  },
  {
   "cell_type": "markdown",
   "id": "0ba17538",
   "metadata": {
    "papermill": {
     "duration": 0.015935,
     "end_time": "2024-03-12T19:47:43.283994",
     "exception": false,
     "start_time": "2024-03-12T19:47:43.268059",
     "status": "completed"
    },
    "tags": []
   },
   "source": [
    "# Can you share a probability distribution that deviates from the regular normal distribution? Also, can you give us some illustrations of an actual world situation where this distribution is applicable?"
   ]
  },
  {
   "cell_type": "markdown",
   "id": "319a127c",
   "metadata": {
    "papermill": {
     "duration": 0.015964,
     "end_time": "2024-03-12T19:47:43.316007",
     "exception": false,
     "start_time": "2024-03-12T19:47:43.300043",
     "status": "completed"
    },
    "tags": []
   },
   "source": [
    "Sure, one example of a probability distribution that deviates from the normal distribution is the **Exponential Distribution**. \n",
    "\n",
    "The exponential distribution is often used to model the time between events in a Poisson point process, which is a process in which events occur continuously and independently at a constant average rate. It has a parameter λ called rate parameter, and its equation is:\n",
    "\n",
    "$$\n",
    "f(x|\\lambda) = \n",
    "\\begin{cases} \n",
    "\\lambda e^{-\\lambda x} & \\text{for } x \\geq 0, \\\\\n",
    "0 & \\text{for } x < 0.\n",
    "\\end{cases}\n",
    "$$\n",
    "\n",
    "Unlike the normal distribution, the exponential distribution is not symmetric and has a skew to the right, or positive skew. This makes it suitable for modeling phenomena where large values (outliers) are less likely than smaller ones, such as the <span style=\"color:#FF0000\">life span of an electronic device or the time between phone calls at a call center<span>.\n",
    "\n",
    "Remember, choosing the right distribution to model a phenomenon depends on the characteristics of the data and the nature of the phenomenon itself. It's always a good idea to understand the underlying assumptions and implications of the distribution you choose. 😊"
   ]
  },
  {
   "cell_type": "markdown",
   "id": "5692f640",
   "metadata": {
    "papermill": {
     "duration": 0.015604,
     "end_time": "2024-03-12T19:47:43.348381",
     "exception": false,
     "start_time": "2024-03-12T19:47:43.332777",
     "status": "completed"
    },
    "tags": []
   },
   "source": [
    "# Could you develop an algorithm to emulate rolling an X-sided dice with distinct probabilities for each side?"
   ]
  },
  {
   "cell_type": "code",
   "execution_count": 15,
   "id": "6ab01829",
   "metadata": {
    "execution": {
     "iopub.execute_input": "2024-03-12T19:47:43.383019Z",
     "iopub.status.busy": "2024-03-12T19:47:43.381654Z",
     "iopub.status.idle": "2024-03-12T19:47:43.389657Z",
     "shell.execute_reply": "2024-03-12T19:47:43.388620Z"
    },
    "papermill": {
     "duration": 0.027314,
     "end_time": "2024-03-12T19:47:43.391312",
     "exception": false,
     "start_time": "2024-03-12T19:47:43.363998",
     "status": "completed"
    },
    "tags": []
   },
   "outputs": [
    {
     "name": "stdout",
     "output_type": "stream",
     "text": [
      "You rolled a 6!\n"
     ]
    }
   ],
   "source": [
    "def roll_dice(n_sides, probabilities):\n",
    "    # Check if the probabilities sum up to 1\n",
    "    if round(sum(probabilities),2) != 1:\n",
    "        raise ValueError(\"Probabilities must sum up to 1.\")\n",
    "    \n",
    "    # Check if the number of probabilities matches the number of sides\n",
    "    if len(probabilities) != n_sides:\n",
    "        raise ValueError(\"Number of probabilities must match the number of sides.\")\n",
    "    \n",
    "    # Create a list of sides\n",
    "    sides = list(range(1, n_sides + 1))\n",
    "    \n",
    "    # Use numpy's random.choice to roll the dice\n",
    "    roll = np.random.choice(sides, p=probabilities)\n",
    "    \n",
    "    return roll\n",
    "\n",
    "n_sides = 6\n",
    "probabilities = [0.1, 0.2, 0.2, 0.2, 0.2, 0.1]\n",
    "roll = roll_dice(n_sides, probabilities)\n",
    "print(f\"You rolled a {roll}!\")"
   ]
  },
  {
   "cell_type": "markdown",
   "id": "36568897",
   "metadata": {
    "papermill": {
     "duration": 0.015773,
     "end_time": "2024-03-12T19:47:43.424063",
     "exception": false,
     "start_time": "2024-03-12T19:47:43.408290",
     "status": "completed"
    },
    "tags": []
   },
   "source": [
    "# Can you provide a succinct explanation for the term embedding?"
   ]
  },
  {
   "cell_type": "markdown",
   "id": "bc4dc53e",
   "metadata": {
    "papermill": {
     "duration": 0.016092,
     "end_time": "2024-03-12T19:47:43.456272",
     "exception": false,
     "start_time": "2024-03-12T19:47:43.440180",
     "status": "completed"
    },
    "tags": []
   },
   "source": [
    "In the context of machine learning, an embedding is\n",
    "* a learned representation for some set of items (like words, users, or products) where that representation is a vector in a continuous vector space. \n",
    "* The key idea is that similar items will have similar vectors, meaning they will be close together in the vector space. \n",
    "* This allows us to capture complex relationships between items, and use these vectors as input to machine learning models. \n",
    "* For example, in natural language processing, word embeddings are used to capture semantic meaning of words based on their context in a corpus of text."
   ]
  },
  {
   "cell_type": "markdown",
   "id": "551a550d",
   "metadata": {
    "papermill": {
     "duration": 0.01678,
     "end_time": "2024-03-12T19:47:43.490356",
     "exception": false,
     "start_time": "2024-03-12T19:47:43.473576",
     "status": "completed"
    },
    "tags": []
   },
   "source": [
    "# How would you demystify the concept of P-value for a team member who isn't tech-savvy?"
   ]
  },
  {
   "cell_type": "markdown",
   "id": "366cdb5f",
   "metadata": {
    "papermill": {
     "duration": 0.016097,
     "end_time": "2024-03-12T19:47:43.523498",
     "exception": false,
     "start_time": "2024-03-12T19:47:43.507401",
     "status": "completed"
    },
    "tags": []
   },
   "source": [
    "* not surprising results mean high value\n",
    "* surprising results mean low value \n",
    "\n",
    "Imagine you and your friend are playing a game of guessing the number of candies in a jar. Your friend guesses that there are 50 candies, but you think there are more. To prove your point, you both start counting the candies.\n",
    "\n",
    "The p-value is like a tool that helps you decide who is right. If you count the candies and find exactly 50, the p-value will be high, which means your friend was probably right. But if you find a lot more than 50 candies, the p-value will be low, which means you were probably right.\n",
    "\n",
    "So, in simple terms, a p-value is a measure of how surprised we should be by the result we see (like the number of candies in the jar). A low p-value means the result is surprising (and you were probably right), while a high p-value means the result is not surprising (and your friend was probably right).\n",
    "\n",
    "This one may help, but did not help me understand the concept better:\n",
    "\n",
    "Imagine you’re flipping a coin. Normally, you’d expect to get heads about 50% of the time, and tails about 50% of the time. But let’s say you flip the coin 100 times, and you get 75 heads. You might start to wonder if the coin is actually fair.\n",
    "\n",
    "This is where the p-value comes in. The p-value is a way of quantifying your skepticism. It’s the probability that you would see the result you have (or something more extreme) if the coin were actually fair.\n",
    "\n",
    "So, in this case, a low p-value (typically below 0.05) would mean that getting 75 heads in 100 flips is highly unlikely if the coin is fair. This might lead you to conclude that the coin is probably not fair.\n",
    "\n",
    "On the other hand, a high p-value would mean that getting 75 heads in 100 flips isn’t that surprising, and could easily happen by chance even if the coin is fair.\n",
    "\n",
    "In summary, the p-value is a tool we use in statistics to help us decide whether the results we see in an experiment are surprising enough that we should reject our initial assumptions (like the assumption that the coin is fair)"
   ]
  },
  {
   "cell_type": "markdown",
   "id": "d93d26a3",
   "metadata": {
    "papermill": {
     "duration": 0.016051,
     "end_time": "2024-03-12T19:47:43.555965",
     "exception": false,
     "start_time": "2024-03-12T19:47:43.539914",
     "status": "completed"
    },
    "tags": []
   },
   "source": [
    "# Can you simplify the explanation of regression for someone without a stats background?"
   ]
  },
  {
   "cell_type": "markdown",
   "id": "b3c4194b",
   "metadata": {
    "papermill": {
     "duration": 0.016691,
     "end_time": "2024-03-12T19:47:43.589210",
     "exception": false,
     "start_time": "2024-03-12T19:47:43.572519",
     "status": "completed"
    },
    "tags": []
   },
   "source": [
    "Imagine you’re a lemonade stand owner and you notice that the number of lemonades you sell seems to depend on the temperature. On hot days, you sell more lemonades, and on cooler days, you sell fewer. You want to understand this relationship better, so you can predict how many lemonades you might sell on any given day, based on the temperature.\n",
    "\n",
    "This is where regression comes in. Regression is a way of finding a relationship between different things. In this case, you’re looking for a relationship between the temperature (which we call the “independent variable”) and the number of lemonades you sell (the “dependent variable”).\n",
    "\n",
    "When you perform a regression analysis, you’re essentially trying to find the best line that fits your data. This line is like a formula that you can use to predict the number of lemonades you’ll sell based on the temperature.\n",
    "\n",
    "So, in simple terms, regression is a tool that helps us understand the relationships between things and make predictions based on those relationships."
   ]
  },
  {
   "cell_type": "markdown",
   "id": "1281d645",
   "metadata": {
    "papermill": {
     "duration": 0.016924,
     "end_time": "2024-03-12T19:47:43.623935",
     "exception": false,
     "start_time": "2024-03-12T19:47:43.607011",
     "status": "completed"
    },
    "tags": []
   },
   "source": [
    "# What is the significance of the Wilk-Shapiro measure in detecting whether a dataset is normally distributed or not?"
   ]
  },
  {
   "cell_type": "markdown",
   "id": "4dd8e15f",
   "metadata": {
    "papermill": {
     "duration": 0.017189,
     "end_time": "2024-03-12T19:47:43.657961",
     "exception": false,
     "start_time": "2024-03-12T19:47:43.640772",
     "status": "completed"
    },
    "tags": []
   },
   "source": [
    "by knowing if distribution is normal or not, able to rule out statistical tests that would work (if normal then t-test) or not  (right skewed then bootstrap/MWU)to test for statistical significance between 2 distributions from an A/B test"
   ]
  },
  {
   "cell_type": "markdown",
   "id": "8bd664c2",
   "metadata": {
    "papermill": {
     "duration": 0.018262,
     "end_time": "2024-03-12T19:47:43.693817",
     "exception": false,
     "start_time": "2024-03-12T19:47:43.675555",
     "status": "completed"
    },
    "tags": []
   },
   "source": [
    "The Shapiro-Wilk test, also known as the Wilk-Shapiro measure, is a statistical test that checks if a dataset is normally distributed. The test works by comparing your data to a normal distribution, and calculates a p-value.\n",
    "\n",
    "The p-value is a probability that measures the evidence against the null hypothesis. The null hypothesis for the Shapiro-Wilk test is that the data is normally distributed.\n",
    "\n",
    "- If the p-value is **less than 0.05** (a commonly used threshold), we reject the null hypothesis and conclude that the data is **not normally distributed**¹²⁴.\n",
    "- If the p-value is **greater than 0.05**, we do not reject the null hypothesis and conclude that the data **is normally distributed**³.\n",
    "\n",
    "So, the Shapiro-Wilk test helps us understand whether our data follows a normal distribution or not, which is a common assumption in many statistical tests and models¹⁵. It's important to note that like most statistical significance tests, if the sample size is sufficiently large this test may detect even trivial departures from the null hypothesis¹. Therefore, additional investigation of the effect size is typically advisable¹. \n",
    "\n",
    "Source: Conversation with Bing, 2/29/2024\n",
    "(1) Shapiro–Wilk test - Wikipedia. https://en.wikipedia.org/wiki/Shapiro%E2%80%93Wilk_test.\n",
    "(2) SPSS Shapiro-Wilk Test - The Ultimate Guide - SPSS Tutorials. https://www.spss-tutorials.com/spss-shapiro-wilk-test-for-normality/.\n",
    "(3) How to Perform a Shapiro-Wilk Test in SPSS - Statology. https://www.statology.org/shapiro-wilk-test-spss/.\n",
    "(4) Testing for Normality using SPSS Statistics - Laerd. https://statistics.laerd.com/spss-tutorials/testing-for-normality-using-spss-statistics.php.\n",
    "(5) An Introduction to the Shapiro-Wilk Test for Normality. https://builtin.com/data-science/shapiro-wilk-test.\n",
    "\n",
    "This actually answers the question of its significance with some parts noted as possibly not correct:\n",
    "\n",
    "The **Shapiro-Wilk test**, developed by Samuel Sanford Shapiro and Martin Wilk in 1965, is a statistical test used to assess whether a dataset follows a **normal distribution**. Let's delve into its significance, particularly in the context of **A/B testing**.\n",
    "\n",
    "1. **Testing Normality**:\n",
    "   - The null hypothesis of the Shapiro-Wilk test states that the sample data comes from a normally distributed population.\n",
    "   - If the **p-value** resulting from the test is **less than the chosen significance level (alpha)**, we reject the null hypothesis. This implies that the data is **not normally distributed**.\n",
    "   - Conversely, if the p-value is greater than alpha, we fail to reject the null hypothesis, suggesting that the data may come from a normally distributed population¹.\n",
    "\n",
    "2. **A/B Testing Context**:\n",
    "   - In A/B testing, we compare two versions (A and B) of a treatment (e.g., website design, marketing strategy, or product feature) to determine which one performs better.\n",
    "   - **Assumptions** play a crucial role in A/B testing. One common assumption is that the **outcome variable** (e.g., conversion rate, revenue) follows a normal distribution.\n",
    "   - If our data violates this assumption (i.e., it's not normally distributed), it can impact the validity of our statistical tests (e.g., t-tests, ANOVA) and confidence intervals.\n",
    "   - Here's where the Shapiro-Wilk test comes in:\n",
    "     - **Before A/B Testing**: We can use the test to check whether the data collected from both versions (A and B) follows a normal distribution.\n",
    "     - If both datasets pass the normality test, we can proceed with parametric tests confidently.\n",
    "     - If either dataset fails the test, we might consider using non-parametric tests or transforming the data.\n",
    "     - **During A/B Testing**: If we observe significant differences between A and B, we need to assess whether these differences are practically meaningful.\n",
    "     - The Shapiro-Wilk test helps us understand whether any observed effects are due to the treatment or simply due to deviations from normality.\n",
    "     - If the data is non-normal, we should (first determine the proper non-normal stat test to determine if there is a stat sig and then) also examine effect sizes and consider additional diagnostic plots (e.g., Q-Q plots) to interpret the results¹².\n",
    "\n",
    "3. **Effect Size Consideration**:\n",
    "   - While statistical significance (p-values) is essential, it's equally crucial to evaluate **effect sizes**.\n",
    "   - Even if the Shapiro-Wilk test detects a statistically significant departure from normality, the practical impact may be negligible. (actually, practical impact should be considered after: choosing appropriate non-normal data stat test and seeing if there is a stat sig)\n",
    "   - Therefore, alongside p-values, consider effect sizes (such as Cohen's d or other relevant measures) to assess the practical significance of any deviations from normality¹.\n",
    "\n",
    "In summary, the Shapiro-Wilk test helps ensure the validity of A/B testing by assessing whether the data adheres to the normal distribution assumption. \n",
    "\n",
    "However, always complement statistical significance with practical relevance when interpreting results in real-world scenarios.\n",
    "\n",
    "Source: Conversation with Bing, 2/29/2024\n",
    "(1) Shapiro–Wilk test - Wikipedia. https://en.wikipedia.org/wiki/Shapiro%E2%80%93Wilk_test.\n",
    "(2) An Introduction to the Shapiro-Wilk Test for Normality. https://builtin.com/data-science/shapiro-wilk-test.\n",
    "(3) Testing for Normality – WTF Statistics. https://wtfstatistics.com/index.php/66-2/single-variable-analysis/70-2/.\n",
    "(4) R. Dudley THE SHAPIRO–WILK TEST FOR NORMALITY - MIT Mathematics. https://math.mit.edu/~rmd/46512/shapiro.pdf.\n",
    "(5) SPSS Shapiro-Wilk Test - The Ultimate Guide - SPSS Tutorials. https://www.spss-tutorials.com/spss-shapiro-wilk-test-for-normality/."
   ]
  },
  {
   "cell_type": "markdown",
   "id": "b2a4189b",
   "metadata": {
    "papermill": {
     "duration": 0.016922,
     "end_time": "2024-03-12T19:47:43.727841",
     "exception": false,
     "start_time": "2024-03-12T19:47:43.710919",
     "status": "completed"
    },
    "tags": []
   },
   "source": [
    "(Parametric Tests)\n",
    "Certainly! In **A/B testing**, we often use **statistical tests** to compare two groups (A and B) and determine whether any observed differences are statistically significant. Parametric tests assume certain properties about the data distribution, and they can provide powerful insights when these assumptions are met. Here are some widely used parametric tests for A/B testing:\n",
    "\n",
    "1. **Paired and Unpaired t-Tests**:\n",
    "   - **Paired t-test**: Compares means of paired samples (e.g., before and after measurements).\n",
    "   - **Unpaired (Independent) t-test**: Compares means of two independent groups (e.g., control vs. treatment).\n",
    "   - Assumptions: Normally distributed data, equal variances (for unpaired t-test).\n",
    "\n",
    "2. **Analysis of Variance (ANOVA)**:\n",
    "   - Used when comparing means across three or more groups.\n",
    "   - Assumptions: Normally distributed data, equal variances.\n",
    "\n",
    "3. **Pearson’s Product-Moment Correlation**:\n",
    "   - Measures linear association between two continuous variables.\n",
    "   - Assumptions: Normally distributed data, linear relationship.\n",
    "\n",
    "4. **Multiple Regression**:\n",
    "   - Examines relationships between a dependent variable and multiple independent variables.\n",
    "   - Assumptions: Linearity, normality, homoscedasticity (equal variance).\n",
    "\n",
    "Remember that parametric tests have stricter assumptions, including normality. However, they can yield robust results even with slightly nonnormal data, especially if sample sizes are adequate¹²³. Always consider the context and choose the appropriate test based on your data characteristics! 📊🔍.\n",
    "\n",
    "Source: Conversation with Bing, 2/29/2024\n",
    "(1) Nonparametric Tests vs. Parametric Tests - Statistics By Jim. https://statisticsbyjim.com/hypothesis-testing/nonparametric-parametric-tests/.\n",
    "(2) Parametric Tests: 4 Widely Used Tests to Discover Difference or .... https://simplyeducate.me/2020/09/19/parametric-tests/.\n",
    "(3) Choosing the Right Statistical Test | Types & Examples - Scribbr. https://www.scribbr.com/statistics/statistical-tests/.\n",
    "(4) Parametric Statistics, Tests and Data - Statistics How To. https://www.statisticshowto.com/parametric-statistics/.\n",
    "(5) Getty Images. https://www.gettyimages.com/detail/illustration/isometric-flat-vector-concept-of-ab-testing-royalty-free-illustration/1076637176."
   ]
  },
  {
   "cell_type": "markdown",
   "id": "049081fb",
   "metadata": {
    "papermill": {
     "duration": 0.016971,
     "end_time": "2024-03-12T19:47:43.762709",
     "exception": false,
     "start_time": "2024-03-12T19:47:43.745738",
     "status": "completed"
    },
    "tags": []
   },
   "source": [
    "(Non-parametric test)\n",
    "\n",
    "Certainly! In **A/B testing**, we often use both **parametric** and **non-parametric** statistical tests to compare two groups (A and B) and determine whether any observed differences are statistically significant. Non-parametric tests, also known as **distribution-free tests**, have advantages when our data doesn't meet the assumptions of normality. Let's explore some common non-parametric tests used in A/B testing:\n",
    "\n",
    "1. **Mann-Whitney U Test (Wilcoxon Rank-Sum Test)**:\n",
    "   - **Purpose**: Compares the **medians** of two independent groups (A and B).\n",
    "   - **Assumptions**: Does not assume normality or equal variances.\n",
    "   - Useful when the data is skewed or has outliers.\n",
    "   - Often used as an alternative to the independent t-test.\n",
    "   - **Example**: Comparing conversion rates between two website versions.\n",
    "\n",
    "2. **Wilcoxon Signed-Rank Test**:\n",
    "   - **Purpose**: Compares the **medians** of paired samples (e.g., before and after measurements).\n",
    "   - **Assumptions**: Does not assume normality.\n",
    "   - Useful for paired data when the distribution is not normal.\n",
    "   - **Example**: Assessing the impact of a new feature on user engagement.\n",
    "\n",
    "3. **Kruskal-Wallis Test**:\n",
    "   - **Purpose**: Compares the **medians** across three or more independent groups.\n",
    "   - **Assumptions**: Does not assume normality or equal variances.\n",
    "   - Useful when comparing multiple treatments or variations.\n",
    "   - **Example**: Evaluating different pricing strategies in an A/B/C test.\n",
    "\n",
    "4. **Friedman Test**:\n",
    "   - **Purpose**: Non-parametric version of one-way ANOVA for repeated measures.\n",
    "   - Compares the **medians** of related groups (e.g., multiple measurements over time).\n",
    "   - **Assumptions**: Does not assume normality.\n",
    "   - **Example**: Analyzing user satisfaction ratings across different app versions.\n",
    "\n",
    "Remember that non-parametric tests are robust to deviations from normality, making them valuable when our data violates parametric assumptions. However, always choose the appropriate test based on your specific context and data characteristics! 📊🔍¹²³.\n",
    "\n",
    "Source: Conversation with Bing, 2/29/2024\n",
    "(1) Nonparametric Tests vs. Parametric Tests - Statistics By Jim. https://statisticsbyjim.com/hypothesis-testing/nonparametric-parametric-tests/.\n",
    "(2) Interview Query | Non-parametric Tests - Statistics & AB Testing. https://www.interviewquery.com/learning-paths/statistics-and-ab-testing/hypothesis-testing/non-parametric-tests.\n",
    "(3) A/B Testing – Nonparametric tests – Data? Science?. https://www.ericfarng.com/ab-testing/ab-testing-nonparametric-tests/.\n",
    "(4) Nonparametric statistics - Wikipedia. https://en.wikipedia.org/wiki/Nonparametric_statistics."
   ]
  },
  {
   "cell_type": "markdown",
   "id": "668c9783",
   "metadata": {
    "papermill": {
     "duration": 0.01641,
     "end_time": "2024-03-12T19:47:43.795447",
     "exception": false,
     "start_time": "2024-03-12T19:47:43.779037",
     "status": "completed"
    },
    "tags": []
   },
   "source": [
    "(Maybe this will be asked since relates to normalizing data to use appropriate stat test to test for stat sig)\n",
    "\n",
    "# What approaches do you take when working with a dataset that has imbalanced distributions?"
   ]
  },
  {
   "cell_type": "markdown",
   "id": "08d4bab1",
   "metadata": {
    "papermill": {
     "duration": 0.01534,
     "end_time": "2024-03-12T19:47:43.827100",
     "exception": false,
     "start_time": "2024-03-12T19:47:43.811760",
     "status": "completed"
    },
    "tags": []
   },
   "source": [
    "Handling **imbalanced datasets** is crucial for fair model performance in machine learning. When one class has significantly more observations than the other, it can lead to biased models and poor performance on the minority class. Here are several techniques to address this issue:\n",
    "\n",
    "1. **Resampling Techniques**:\n",
    "   - **Oversampling**: Create new instances of the minority class to balance the data. Techniques include:\n",
    "     - **Random Oversampling**: Duplicate minority class samples randomly.\n",
    "     - **SMOTE (Synthetic Minority Over-sampling Technique)**: Generate synthetic examples by interpolating between existing minority class examples.\n",
    "     - **ADASYN (Adaptive Synthetic Sampling)**: Similar to SMOTE but adapts to the data distribution.\n",
    "   - **Undersampling**: Reduce the size of the majority class to match the minority class. Techniques include:\n",
    "     - **Random Undersampling**: Randomly remove instances from the majority class.\n",
    "     - **NearMiss**: Select instances from the majority class that are closest to minority class samples.\n",
    "     - **Tomek Links**: Identify pairs of instances (one from each class) that are close to each other and remove the majority class instance.\n",
    "   - **Data Augmentation**: Create additional data points by modifying existing data (e.g., rotations, translations, flips).\n",
    "   - **Ensemble Techniques**: Combine multiple models (e.g., bagging, boosting, stacking) to improve performance.\n",
    "\n",
    "2. **Feature Selection**:\n",
    "   - Choose relevant features that contribute to class separation.\n",
    "   - Eliminate irrelevant or redundant features.\n",
    "\n",
    "3. **Algorithmic Adjustments**:\n",
    "   - Use specialized algorithms designed for imbalanced data:\n",
    "     - **Cost-sensitive Learning**: Assign different misclassification costs to different classes.\n",
    "     - **Anomaly Detection Algorithms**: Detect rare events (e.g., fraud detection).\n",
    "\n",
    "4. **Evaluation Metrics**:\n",
    "   - Avoid using accuracy as the sole metric. Instead, consider:\n",
    "     - **Precision**, **Recall**, **F1-score**: Focus on performance for the minority class.\n",
    "     - **Area Under the Receiver Operating Characteristic Curve (AUC-ROC)**: Measures overall model performance.\n",
    "\n",
    "Remember that the choice of technique depends on the specific problem and dataset. Experiment with different approaches to find the best solution for handling imbalanced data! 📊🤝⁹ [^10^] ¹¹..\n",
    "\n",
    "Source: Conversation with Bing, 2/29/2024\n",
    "(1) Handling imbalanced data: 7 innovative techniques for successful .... https://datasciencedojo.com/blog/techniques-to-handle-imbalanced-data/.\n",
    "(2) Handling Imbalanced Data for Classification - GeeksforGeeks. https://www.geeksforgeeks.org/handling-imbalanced-data-for-classification/.\n",
    "(3) The 5 Most Useful Techniques to Handle Imbalanced Datasets. https://www.kdnuggets.com/2020/01/5-most-useful-techniques-handle-imbalanced-datasets.html.\n",
    "(4) Imbalanced Data | Machine Learning | Google for Developers. https://developers.google.com/machine-learning/data-prep/construct/sampling-splitting/imbalanced-data.\n",
    "(5) 8 Tactics to Combat Imbalanced Classes in Your Machine Learning Dataset. https://machinelearningmastery.com/tactics-to-combat-imbalanced-classes-in-your-machine-learning-dataset/.\n",
    "(6) Sampling Approaches for Imbalanced Data Classification Problem in .... https://link.springer.com/chapter/10.1007/978-3-030-29407-6_17.\n",
    "(7) What is imbalanced data in Machine Learning?. https://ydata.ai/resources/a-comprehensive-guide-to-tackle-imbalanced-data-for-machine-learning.\n",
    "(8) Techniques for Handling Imbalanced Datasets in Machine Learning. https://medium.com/@philipokoampah/techniques-for-handling-imbalanced-datasets-in-machine-learning-7e560907af30.\n",
    "(9) 4.7. How to Handle imbalanced Dataset | Data Pre-Processing | Machine Learning Course. https://www.youtube.com/watch?v=tUNAuf8JdEE.\n",
    "(10) 5 ways to work with imbalanced data | Imbalanced dataset machine learning | Imbalanced data. https://www.youtube.com/watch?v=JisESsmQDS8.\n",
    "(11) Tutorial 45-Handling imbalanced Dataset using python- Part 1. https://www.youtube.com/watch?v=YMPMZmlH5Bo."
   ]
  },
  {
   "cell_type": "markdown",
   "id": "3632b9d2",
   "metadata": {
    "papermill": {
     "duration": 0.015711,
     "end_time": "2024-03-12T19:47:43.858865",
     "exception": false,
     "start_time": "2024-03-12T19:47:43.843154",
     "status": "completed"
    },
    "tags": []
   },
   "source": [
    "# Can you demystify Markov Chains for a general audience?"
   ]
  },
  {
   "cell_type": "markdown",
   "id": "2ad03e39",
   "metadata": {
    "execution": {
     "iopub.execute_input": "2024-02-29T20:54:34.619998Z",
     "iopub.status.busy": "2024-02-29T20:54:34.618639Z",
     "iopub.status.idle": "2024-02-29T20:54:34.645874Z",
     "shell.execute_reply": "2024-02-29T20:54:34.644006Z",
     "shell.execute_reply.started": "2024-02-29T20:54:34.619952Z"
    },
    "papermill": {
     "duration": 0.016695,
     "end_time": "2024-03-12T19:47:43.891601",
     "exception": false,
     "start_time": "2024-03-12T19:47:43.874906",
     "status": "completed"
    },
    "tags": []
   },
   "source": [
    "Certainly! Let's demystify **Markov Chains** in a way that's easy to understand.\n",
    "\n",
    "1. **What Is a Markov Chain?**\n",
    "   - Imagine you're playing a game where you move from one state to another. Each state represents a situation or condition.\n",
    "   - A **Markov Chain** is like that game. It's a mathematical model that describes how things transition from one state to another over time.\n",
    "   - The cool part? The future states only depend on the current state, not on how you got there. It's like having a short memory—only the present matters!\n",
    "\n",
    "2. **Example: Weather Forecasting**\n",
    "   - Suppose we want to predict tomorrow's weather. We can create a Markov Chain with states like \"Sunny,\" \"Cloudy,\" and \"Rainy.\"\n",
    "   - If today is sunny, the chance of tomorrow being sunny might be high. But if it's rainy today, tomorrow could be cloudy or rainy.\n",
    "   - We use probabilities to move between states. For example, there's a 70% chance of staying sunny and a 30% chance of switching to cloudy.\n",
    "\n",
    "3. **Transition Matrix**\n",
    "   - Think of a **transition matrix** as a cheat sheet for our game. It tells us the probabilities of moving between states.\n",
    "   - In our weather example, the matrix might look like this:\n",
    "     ```\n",
    "     | Sunny   Cloudy   Rainy |\n",
    "     |------------------------|\n",
    "     | 0.7     0.2      0.1   |\n",
    "     | 0.3     0.6      0.1   |\n",
    "     | 0.1     0.3      0.6   |\n",
    "     ```\n",
    "     - Row 1: If it's sunny today, there's a 70% chance of staying sunny, 20% chance of becoming cloudy, and 10% chance of rain.\n",
    "     - Row 2: If it's cloudy, the probabilities are different.\n",
    "     - Row 3: And so on.\n",
    "\n",
    "4. **Applications**\n",
    "   - Markov Chains are everywhere:\n",
    "     - **Google's Autocomplete**: It predicts your next word based on what you've typed so far.\n",
    "     - **Stock Market**: Prices move from one state (up, down, flat) to another.\n",
    "     - **Language Models**: They generate realistic sentences by transitioning between words.\n",
    "     - **Game AI**: NPCs decide their next move based on the game state.\n",
    "\n",
    "5. **Why \"Markov\"?**\n",
    "   - Named after Russian mathematician Andrey Markov.\n",
    "   - He noticed patterns in how vowels appeared in Pushkin's poems. These patterns inspired the concept of Markov Chains.\n",
    "\n",
    "In summary, Markov Chains are like a memory game where the future depends only on the present. Whether it's predicting weather, stock prices, or autocomplete suggestions, Markov Chains are our secret weapon! 🎲🔍🌦️⁴⁵.\n",
    "\n",
    "Source: Conversation with Bing, 2/29/2024\n",
    "(1) Markov Chains | Brilliant Math & Science Wiki. https://brilliant.org/wiki/markov-chains/.\n",
    "(2) Markov Chain Explained | Built In. https://builtin.com/machine-learning/markov-chain.\n",
    "(3) Markov Chains Clearly Explained! Part - 1. https://www.youtube.com/watch?v=i3AkTO9HLXo.\n",
    "(4) Markov Chain 01| Introduction and Concept | Transition Probability Matrix with Examples| BeingGourav. https://www.youtube.com/watch?v=1UwUhhS1zdM.\n",
    "(5) Markov Chains - VISUALLY EXPLAINED + History!. https://www.youtube.com/watch?v=CIe869Rce2k.\n",
    "(6) A Brief Introduction to Markov Chains | by Rishabh Anand - Medium. https://medium.com/sigmoid/rl-markov-chains-dbf2f37e8b69."
   ]
  },
  {
   "cell_type": "markdown",
   "id": "24221c4e",
   "metadata": {
    "papermill": {
     "duration": 0.01594,
     "end_time": "2024-03-12T19:47:43.924309",
     "exception": false,
     "start_time": "2024-03-12T19:47:43.908369",
     "status": "completed"
    },
    "tags": []
   },
   "source": [
    "# As an expert on linear regression, can you explain the fundamental assumptions of this modeling technique and why they are necessary for an accurate interpretation of results?"
   ]
  },
  {
   "cell_type": "markdown",
   "id": "2403935c",
   "metadata": {
    "papermill": {
     "duration": 0.016883,
     "end_time": "2024-03-12T19:47:43.958520",
     "exception": false,
     "start_time": "2024-03-12T19:47:43.941637",
     "status": "completed"
    },
    "tags": []
   },
   "source": [
    "Certainly! Let's dive into the fundamental assumptions of **linear regression** and understand why they matter for accurate interpretation of results:\n",
    "\n",
    "1. **Linear Relationship**:\n",
    "   - **Assumption**: There exists a **linear relationship** between the **independent variable** (often denoted as \\(x\\)) and the **dependent variable** (often denoted as \\(y\\)).\n",
    "   - **Importance**: Linear regression assumes that changes in the independent variable lead to proportional changes in the dependent variable. If this assumption is violated, our model may not accurately capture the true relationship.\n",
    "   - **Detection**: We can visually check for linearity by creating a scatter plot of \\(x\\) versus \\(y\\). If the points roughly fall along a straight line, the assumption is met.\n",
    "   - **Action if Violated**: Consider applying nonlinear transformations (e.g., logarithm, square root) or adding additional independent variables to capture nonlinearity.\n",
    "\n",
    "   ![Linear Relationship](https://i.imgur.com/6X5Q0Fp.png)\n",
    "\n",
    "2. **Independence**:\n",
    "   - **Assumption**: The **residuals** (differences between actual and predicted values) are **independent**.\n",
    "   - **Importance**: Independence ensures that our model doesn't suffer from autocorrelation or systematic patterns in the errors.\n",
    "   - **Detection**: Examine a **residual time series plot**. Ideally, most residual autocorrelations should fall within the 95% confidence bands around zero.\n",
    "   - **Action if Violated**: For time series data, consider addressing any patterns in residuals (e.g., seasonality).\n",
    "\n",
    "   ![Residual Time Series Plot](https://i.imgur.com/7rZq3w9.png)\n",
    "\n",
    "3. **Homoscedasticity**:\n",
    "   - **Assumption**: The residuals have **constant variance** at every level of \\(x\\).\n",
    "   - **Importance**: Homoscedasticity ensures that the spread of residuals remains consistent across the range of predictor values.\n",
    "   - **Detection**: Plot residuals against predicted values. Look for a consistent spread (no funnel shape).\n",
    "   - **Action if Violated**: Consider transformations or robust regression techniques.\n",
    "\n",
    "   ![Homoscedasticity](https://i.imgur.com/8LXWj3V.png)\n",
    "\n",
    "4. **Normality**:\n",
    "   - **Assumption**: The residuals of the model are **normally distributed**.\n",
    "   - **Importance**: Normality affects confidence intervals and hypothesis tests.\n",
    "   - **Detection**: Use a normal probability plot (Q-Q plot) of residuals or perform a statistical test (e.g., Shapiro-Wilk test).\n",
    "   - **Action if Violated**: If deviations from normality are minor, linear regression is robust. Otherwise, consider robust regression or transformations.\n",
    "\n",
    "Remember, violating these assumptions can lead to unreliable or misleading results. By ensuring these conditions hold, we enhance the accuracy and reliability of our linear regression model! 📊🔍🔬¹⁴⁵..\n",
    "\n",
    "Source: Conversation with Bing, 3/1/2024\n",
    "(1) The Four Assumptions of Linear Regression - Statology. https://www.statology.org/linear-regression-assumptions/.\n",
    "(2) Ensuring Model Estimation Validity: A Deep Dive into Linear Regression .... https://medium.com/@anas.aberchih1/ensuring-model-estimation-validity-a-deep-dive-into-linear-regression-assumptions-b2e9c07e1a16.\n",
    "(3) Regression Model Assumptions | Introduction to Statistics | JMP. https://www.jmp.com/en_us/statistics-knowledge-portal/what-is-regression/simple-linear-regression-assumptions.html.\n",
    "(4) 6 Assumptions of Linear Regression :Plots and Solutions. https://bing.com/search?q=fundamental+assumptions+of+linear+regression+and+their+importance.\n",
    "(5) What are the key assumptions of linear regression?. https://statmodeling.stat.columbia.edu/2013/08/04/19470/z"
   ]
  },
  {
   "cell_type": "markdown",
   "id": "1f0f7e52",
   "metadata": {
    "execution": {
     "iopub.execute_input": "2024-03-01T18:15:07.220094Z",
     "iopub.status.busy": "2024-03-01T18:15:07.219526Z",
     "iopub.status.idle": "2024-03-01T18:15:07.225173Z",
     "shell.execute_reply": "2024-03-01T18:15:07.223873Z",
     "shell.execute_reply.started": "2024-03-01T18:15:07.220057Z"
    },
    "papermill": {
     "duration": 0.01759,
     "end_time": "2024-03-12T19:47:43.993293",
     "exception": false,
     "start_time": "2024-03-12T19:47:43.975703",
     "status": "completed"
    },
    "tags": []
   },
   "source": [
    "# How can you produce a normal distribution of 1000 data points with a specific mean and variance, compile summary statistics, and visually present the data using a density plot?"
   ]
  },
  {
   "cell_type": "code",
   "execution_count": 16,
   "id": "a47dc2e6",
   "metadata": {
    "execution": {
     "iopub.execute_input": "2024-03-12T19:47:44.031803Z",
     "iopub.status.busy": "2024-03-12T19:47:44.031085Z",
     "iopub.status.idle": "2024-03-12T19:47:44.368477Z",
     "shell.execute_reply": "2024-03-12T19:47:44.367606Z"
    },
    "papermill": {
     "duration": 0.35934,
     "end_time": "2024-03-12T19:47:44.370614",
     "exception": false,
     "start_time": "2024-03-12T19:47:44.011274",
     "status": "completed"
    },
    "tags": []
   },
   "outputs": [
    {
     "name": "stderr",
     "output_type": "stream",
     "text": [
      "/opt/conda/lib/python3.10/site-packages/seaborn/_oldcore.py:1119: FutureWarning: use_inf_as_na option is deprecated and will be removed in a future version. Convert inf values to NaN before operating instead.\n",
      "  with pd.option_context('mode.use_inf_as_na', True):\n"
     ]
    },
    {
     "data": {
      "image/png": "[encoded data removed]",
      "text/plain": [
       "<Figure size 800x600 with 1 Axes>"
      ]
     },
     "metadata": {},
     "output_type": "display_data"
    },
    {
     "name": "stdout",
     "output_type": "stream",
     "text": [
      "Mean: 50.10\n",
      "Standard Deviation: 4.89\n"
     ]
    }
   ],
   "source": [
    "# Certainly! Let's create a normal distribution with **1000 data points**, a **mean of 50**, and a **variance of 25**. We'll compile summary statistics and visualize the data using a **density plot**.\n",
    "\n",
    "# 1. **Generating the Data**:\n",
    "#    - We'll use the **numpy** library to create random samples from a normal distribution with the specified mean and variance.\n",
    "\n",
    "# 2. **Summary Statistics**:\n",
    "#    - We'll calculate the **mean** and **standard deviation** of the generated data.\n",
    "\n",
    "# 3. **Density Plot**:\n",
    "#    - We'll create a density plot (also known as a kernel density estimate) to visualize the distribution.\n",
    "\n",
    "# Let's proceed with the implementation:\n",
    "\n",
    "import numpy as np\n",
    "import matplotlib.pyplot as plt\n",
    "import seaborn as sns\n",
    "from scipy.stats import norm\n",
    "\n",
    "# Set mean and variance\n",
    "mean = 50\n",
    "variance = 25\n",
    "\n",
    "# Generate 1000 data points from a normal distribution\n",
    "np.random.seed(42)  # For reproducibility\n",
    "data = np.random.normal(loc=mean, scale=np.sqrt(variance), size=1000)\n",
    "\n",
    "# Calculate summary statistics\n",
    "data_mean = np.mean(data)\n",
    "data_std = np.std(data)\n",
    "\n",
    "# Create a density plot\n",
    "sns.set_style(\"whitegrid\")\n",
    "plt.figure(figsize=(8, 6))\n",
    "sns.kdeplot(data, fill=True, color=\"skyblue\", label=\"Density\")\n",
    "plt.axvline(x=data_mean, color=\"red\", linestyle=\"--\", label=f\"Mean = {data_mean:.2f}\")\n",
    "plt.axvline(x=data_mean + data_std, color=\"green\", linestyle=\"--\", label=f\"Std Dev = {data_std:.2f}\")\n",
    "plt.axvline(x=data_mean - data_std, color=\"green\", linestyle=\"--\")\n",
    "plt.title(\"Normal Distribution with Mean and Variance\")\n",
    "plt.xlabel(\"Value\")\n",
    "plt.ylabel(\"Density\")\n",
    "plt.legend()\n",
    "plt.show()\n",
    "\n",
    "# Print summary statistics\n",
    "print(f\"Mean: {data_mean:.2f}\")\n",
    "print(f\"Standard Deviation: {data_std:.2f}\")\n",
    "\n",
    "#Summary Statistics:\n",
    "#- **Mean**: 50.10\n",
    "#- **Standard Deviation**: 4.89\n",
    "\n",
    "#Feel free to adjust the mean and variance values to explore different distributions! 📊🔍🌟\n",
    "\n",
    "# Source: Conversation with Bing, 3/1/2024\n",
    "# (1) undefined. https://www.bing.com/images/blob?bcid=Txkr2jIV17wGu.DGrlFx7P12PFYO.....4c."
   ]
  },
  {
   "cell_type": "code",
   "execution_count": 17,
   "id": "d2cdf2ac",
   "metadata": {
    "execution": {
     "iopub.execute_input": "2024-03-12T19:47:44.407435Z",
     "iopub.status.busy": "2024-03-12T19:47:44.406764Z",
     "iopub.status.idle": "2024-03-12T19:47:44.413375Z",
     "shell.execute_reply": "2024-03-12T19:47:44.412390Z"
    },
    "papermill": {
     "duration": 0.026652,
     "end_time": "2024-03-12T19:47:44.415228",
     "exception": false,
     "start_time": "2024-03-12T19:47:44.388576",
     "status": "completed"
    },
    "tags": []
   },
   "outputs": [
    {
     "name": "stdout",
     "output_type": "stream",
     "text": [
      "Mean: 50.10\n",
      "Standard Deviation: 4.89\n",
      "Minimum: 35.42\n",
      "25th Percentile (Q1): 45.20\n",
      "Median (Q2): 50.10\n",
      "75th Percentile (Q3): 54.99\n",
      "Maximum: 64.78\n"
     ]
    }
   ],
   "source": [
    "# Calculate additional summary statistics\n",
    "minimum = data_mean - 3 * data_std  # Assuming normal distribution, 99.7% of data falls within 3 standard deviations\n",
    "q1 = data_mean - data_std\n",
    "median = data_mean\n",
    "q3 = data_mean + data_std\n",
    "maximum = data_mean + 3 * data_std\n",
    "\n",
    "# Print summary statistics\n",
    "print(f\"Mean: {data_mean:.2f}\")\n",
    "print(f\"Standard Deviation: {data_std:.2f}\")\n",
    "print(f\"Minimum: {minimum:.2f}\")\n",
    "print(f\"25th Percentile (Q1): {q1:.2f}\")\n",
    "print(f\"Median (Q2): {median:.2f}\")\n",
    "print(f\"75th Percentile (Q3): {q3:.2f}\")\n",
    "print(f\"Maximum: {maximum:.2f}\")"
   ]
  },
  {
   "cell_type": "markdown",
   "id": "26e40f3a",
   "metadata": {
    "papermill": {
     "duration": 0.016699,
     "end_time": "2024-03-12T19:47:44.449742",
     "exception": false,
     "start_time": "2024-03-12T19:47:44.433043",
     "status": "completed"
    },
    "tags": []
   },
   "source": [
    "# How are window functions in SQL utilized differently compared to aggregation functions and joins?"
   ]
  },
  {
   "cell_type": "markdown",
   "id": "9960c6f7",
   "metadata": {
    "papermill": {
     "duration": 0.016894,
     "end_time": "2024-03-12T19:47:44.483913",
     "exception": false,
     "start_time": "2024-03-12T19:47:44.467019",
     "status": "completed"
    },
    "tags": []
   },
   "source": [
    "Certainly! Let's explore the differences between **window functions**, **aggregate functions**, and **joins** in SQL:\n",
    "\n",
    "1. **Aggregate Functions**:\n",
    "   - **Purpose**: Aggregate functions operate on a set of rows to return a single scalar value. They collapse multiple rows into a summary value.\n",
    "   - **Examples**:\n",
    "     - **SUM()**: Calculates the sum of all values in a set.\n",
    "     - **AVG()**: Computes the average of specified values.\n",
    "     - **COUNT()**: Returns the total number of values.\n",
    "     - **MAX()** and **MIN()**: Retrieve the maximum and minimum values.\n",
    "   - **Usage**: Typically used with the `GROUP BY` clause to calculate aggregate values for groups of rows.\n",
    "\n",
    "2. **Window Functions**:\n",
    "   - **Purpose**: Window functions operate on a set of rows called a **window frame**. They return a single value for each row from the underlying query.\n",
    "   - **Features**:\n",
    "     - Defined using the `OVER()` clause.\n",
    "     - Retain individual rows in the output while augmenting them with additional computed values.\n",
    "     - Useful for creating more complex reports.\n",
    "     - Examples include **RANK()**, **LAG()**, and **LEAD()**.\n",
    "   - **Usage**: Often used for running totals, ranking, and comparing values across rows.\n",
    "\n",
    "3. **Joins**:\n",
    "   - **Purpose**: Joins combine data from multiple tables based on a common column (or columns).\n",
    "   - **Types**:\n",
    "     - **INNER JOIN**: Retrieves rows with matching values in both tables.\n",
    "     - **LEFT JOIN (OUTER JOIN)**: Retrieves all rows from the left table and matching rows from the right table.\n",
    "     - **RIGHT JOIN (OUTER JOIN)**: Similar to LEFT JOIN but includes all rows from the right table.\n",
    "     - **FULL OUTER JOIN**: Retrieves all rows from both tables.\n",
    "   - **Usage**: Used to combine related data from different tables.\n",
    "\n",
    "4. **Comparison**:\n",
    "   - **Aggregates**: Collapse rows into summary values (e.g., total sales, average price).\n",
    "   - **Window Functions**: Compute values for each row while retaining individual rows (e.g., moving averages, row numbers).\n",
    "   - **Joins**: Combine data from multiple tables based on common columns.\n",
    "\n",
    "In summary, aggregate functions summarize data, window functions provide additional context within each row, and joins combine data from different tables. Choose the appropriate technique based on your specific analysis needs! 📊🔗🔍¹²³⁴.\n",
    "\n",
    "Source: Conversation with Bing, 3/1/2024\n",
    "(1) SQL Window Functions vs. SQL Aggregate Functions: Similarities and .... https://learnsql.com/blog/window-functions-vs-aggregate-functions/.\n",
    "(2) What Are Window Functions in SQL? - LearnSQL.com. https://learnsql.com/blog/sql-window-functions/.\n",
    "(3) SQL for the 21st Century: Analytic / Window Functions. https://www.gooddata.com/blog/sql-21st-century-analytic-window-functions/.\n",
    "(4) Understanding Window Functions in SQL - Database.Guide. https://database.guide/understanding-window-functions-in-sql/.\n",
    "(5) SQL window function and joins - Stack Overflow. https://stackoverflow.com/questions/65867586/sql-window-function-and-joins."
   ]
  },
  {
   "cell_type": "markdown",
   "id": "534c77a4",
   "metadata": {
    "papermill": {
     "duration": 0.017302,
     "end_time": "2024-03-12T19:47:44.519009",
     "exception": false,
     "start_time": "2024-03-12T19:47:44.501707",
     "status": "completed"
    },
    "tags": []
   },
   "source": [
    "# How would you determine the likelihood of flipping a fair coin through a series of tests?"
   ]
  },
  {
   "cell_type": "markdown",
   "id": "9f859ca7",
   "metadata": {
    "papermill": {
     "duration": 0.017474,
     "end_time": "2024-03-12T19:47:44.554208",
     "exception": false,
     "start_time": "2024-03-12T19:47:44.536734",
     "status": "completed"
    },
    "tags": []
   },
   "source": [
    "When assessing the likelihood of flipping a **fair coin**, we can use probability theory. Let's break it down:\n",
    "\n",
    "1. **Fair Coin Basics**:\n",
    "   - A fair coin has two sides: **heads (H)** and **tails (T)**.\n",
    "   - When you flip a fair coin, the probability of getting either heads or tails is the same: **50% (or 0.5)**.\n",
    "\n",
    "2. **Single Coin Toss**:\n",
    "   - If you toss a fair coin once, the probability of getting heads (H) or tails (T) is both **0.5**.\n",
    "   - This is because there are only two possible outcomes, and they are equally likely.\n",
    "\n",
    "3. **Multiple Coin Tosses**:\n",
    "   - Suppose you toss the coin **multiple times** (say, \\(n\\) times).\n",
    "   - The probability of getting a specific sequence (e.g., HHT or TTH) depends on the total number of possible outcomes.\n",
    "   - For example, the probability of getting **exactly 2 heads (H)** and 1 tail (T) in 3 coin tosses (HHT or THH) is:\n",
    "     \\[ P(\\text{HHT or THH}) = \\frac{1}{8} \\]\n",
    "\n",
    "4. **General Formula**:\n",
    "   - The probability of a specific outcome in multiple independent coin tosses is calculated by multiplying the probabilities of individual tosses.\n",
    "   - For \\(k\\) heads (H) and \\(n-k\\) tails (T) in \\(n\\) tosses:\n",
    "     \\[ P(\\text{HHT...H or TTT...T}) = \\left(\\frac{1}{2}\\right)^n \\]\n",
    "     where \\(\\left(\\frac{1}{2}\\right)^n\\) represents the probability of each specific sequence.\n",
    "\n",
    "5. **At Least One Heads**:\n",
    "   - To find the probability of getting at least one heads in multiple tosses, subtract the probability of getting all tails from 1:\n",
    "     \\[ P(\\text{at least 1 H}) = 1 - P(\\text{all T}) = 1 - \\left(\\frac{1}{2}\\right)^n \\]\n",
    "\n",
    "6. **Example**:\n",
    "   - If you toss the coin 3 times, the probability of getting at least one heads is:\n",
    "     \\[ P(\\text{at least 1 H}) = 1 - \\left(\\frac{1}{2}\\right)^3 = 1 - \\frac{1}{8} = \\frac{7}{8} \\]\n",
    "\n",
    "In summary, the likelihood of flipping a fair coin depends on the number of tosses and the specific outcome you're interested in. For a fair coin, the probabilities remain balanced! 🪙🔍🌟⁵.\n",
    "\n",
    "Source: Conversation with Bing, 3/1/2024\n",
    "(1) Coin Toss Probability Formula and Examples - Science Notes and Projects. https://sciencenotes.org/coin-toss-probability-formula-and-examples/.\n",
    "(2) maximum likelihood - Testing if a coin is fair - Cross Validated. https://stats.stackexchange.com/questions/5566/testing-if-a-coin-is-fair.\n",
    "(3) Coin Toss Probability Formula: With Definition, Solved Examples. https://testbook.com/maths-formulas/coin-toss-probability-formula.\n",
    "(4) Flipped coins found not to be as fair as thought - Phys.org. https://phys.org/news/2023-10-flipped-coins-fair-thought.pdf.\n",
    "(5) Heads Or Tails? The Fascinating Complexity Behind Flipping A Coin .... https://www.smorescience.com/heads-or-tails-the-fascinating-complexity-behind-flipping-a-coin/.\n",
    "(6) Coin Flip Probability Calculator. https://www.omnicalculator.com/statistics/coin-flip-probability."
   ]
  },
  {
   "cell_type": "markdown",
   "id": "5c879f6c",
   "metadata": {
    "papermill": {
     "duration": 0.017396,
     "end_time": "2024-03-12T19:47:44.589110",
     "exception": false,
     "start_time": "2024-03-12T19:47:44.571714",
     "status": "completed"
    },
    "tags": []
   },
   "source": [
    "# Can you differentiate between panel data and cross sectional data for me?"
   ]
  },
  {
   "cell_type": "markdown",
   "id": "c6ffa829",
   "metadata": {
    "papermill": {
     "duration": 0.018421,
     "end_time": "2024-03-12T19:47:44.625989",
     "exception": false,
     "start_time": "2024-03-12T19:47:44.607568",
     "status": "completed"
    },
    "tags": []
   },
   "source": [
    "Sure, I'd be happy to explain the difference between panel data and cross-sectional data.\n",
    "\n",
    "**Cross-Sectional Data**⁴:\n",
    "- Cross-sectional data refers to data collected by observing many subjects (such as individuals, firms, or countries/regions) at the **same point in time**⁴.\n",
    "- Analysis of cross-sectional data usually consists of comparing the differences among the subjects⁴.\n",
    "- For example, if we want to measure current obesity levels in a population, we could draw a sample of 1,000 people randomly from that population, measure their weight and height, and calculate what percentage of that sample is categorized as obese⁴.\n",
    "\n",
    "**Panel Data**¹³:\n",
    "- Panel data, also known as longitudinal data, contains observations collected on the **same individuals at multiple times**, on the same topics¹.\n",
    "- In pure panel data, we are following the **same units** (e.g., households, countries, or whatever we are collecting data on) over time¹.\n",
    "- For example, we will follow the same set of households for each time period we collect data¹.\n",
    "- Panel data contains more information, more variability, and more efficiency than pure time series data or cross-sectional data³.\n",
    "\n",
    "In summary, the key difference between cross-sectional data and panel data is the **units of observation** over time. Cross-sectional data observes many subjects at a single point in time, while panel data observes the same subjects at multiple points in time.\n",
    "\n",
    "Source: Conversation with Bing, 3/1/2024\n",
    "(1) Cross-sectional data - Wikipedia. https://en.wikipedia.org/wiki/Cross-sectional_data.\n",
    "(2) What is the difference between pooled cross sectional data and panel data?. https://stats.stackexchange.com/questions/45236/what-is-the-difference-between-pooled-cross-sectional-data-and-panel-data.\n",
    "(3) Introduction to the Fundamentals of Panel Data | Aptech. https://www.aptech.com/blog/introduction-to-the-fundamentals-of-panel-data/.\n",
    "(4) How to Distinguish Cross-Section Data, Time Series Data, and Panel Data .... https://kandadata.com/how-to-distinguish-cross-section-data-time-series-data-and-panel-data/.\n",
    "(5) Pooled Cross Sections and Simple Panel Data Methods. https://web.ics.purdue.edu/~bvankamm/Files/360%20Notes/10%20-%20Pooled%20Cross%20Sections%20and%20Simple%20Panel%20Data%20Methods.pdf.\n",
    "(6) undefined. https://kandadata.com."
   ]
  },
  {
   "cell_type": "markdown",
   "id": "5d4e0eb4",
   "metadata": {
    "papermill": {
     "duration": 0.017332,
     "end_time": "2024-03-12T19:47:44.661899",
     "exception": false,
     "start_time": "2024-03-12T19:47:44.644567",
     "status": "completed"
    },
    "tags": []
   },
   "source": [
    "# When you roll a die, you earn the number on the die. What is the reward's expected value?"
   ]
  },
  {
   "cell_type": "markdown",
   "id": "53d903f0",
   "metadata": {
    "papermill": {
     "duration": 0.016689,
     "end_time": "2024-03-12T19:47:44.695450",
     "exception": false,
     "start_time": "2024-03-12T19:47:44.678761",
     "status": "completed"
    },
    "tags": []
   },
   "source": [
    "The expected value of a die roll, where the reward is the number on the die, is **3.5**. This is calculated by averaging all the possible outcomes of a die roll, which are the numbers 1 through 6. \n",
    "\n",
    "Here's the calculation in detail:\n",
    "\n",
    "$$E(X) = \\frac{1}{6}(1 + 2 + 3 + 4 + 5 + 6) = 3.5$$\n",
    "\n",
    "This means that if you were to roll a fair six-sided die a large number of times, the average value of the outcomes would converge to 3.5."
   ]
  },
  {
   "cell_type": "markdown",
   "id": "9d00bd8e",
   "metadata": {
    "papermill": {
     "duration": 0.016243,
     "end_time": "2024-03-12T19:47:44.728227",
     "exception": false,
     "start_time": "2024-03-12T19:47:44.711984",
     "status": "completed"
    },
    "tags": []
   },
   "source": [
    "# In a four-story building, suppose four people enter the elevator; what is the probability that they all exit on different floors?"
   ]
  },
  {
   "cell_type": "markdown",
   "id": "16396ca6",
   "metadata": {
    "papermill": {
     "duration": 0.016173,
     "end_time": "2024-03-12T19:47:44.760664",
     "exception": false,
     "start_time": "2024-03-12T19:47:44.744491",
     "status": "completed"
    },
    "tags": []
   },
   "source": [
    "The probability that four people exit on different floors in a four-story building is **0.09375**.\n",
    "\n",
    "Here's the calculation in detail:\n",
    "\n",
    "The total number of ways for 4 people to exit on 4 floors is $4^4$.\n",
    "\n",
    "The number of ways for 4 people to exit on different floors is $4!$ (the factorial of 4).\n",
    "\n",
    "So, the probability is calculated as the number of ways for 4 people to exit on different floors divided by the total number of ways for 4 people to exit on 4 floors, which is $\\frac{4!}{4^4}$ = 0.09375.\n",
    "\n",
    "This means that if you were to repeat this scenario a large number of times, on average, about 9.375% of the time, all four people would exit on different floors."
   ]
  },
  {
   "cell_type": "markdown",
   "id": "c0f6ab9f",
   "metadata": {
    "papermill": {
     "duration": 0.017566,
     "end_time": "2024-03-12T19:47:44.795381",
     "exception": false,
     "start_time": "2024-03-12T19:47:44.777815",
     "status": "completed"
    },
    "tags": []
   },
   "source": [
    "# What steps do you take to calculate the extent of fake news on Facebook and its impact on users' behavior and attitudes?"
   ]
  },
  {
   "cell_type": "markdown",
   "id": "958542a0",
   "metadata": {
    "papermill": {
     "duration": 0.017524,
     "end_time": "2024-03-12T19:47:44.831320",
     "exception": false,
     "start_time": "2024-03-12T19:47:44.813796",
     "status": "completed"
    },
    "tags": []
   },
   "source": [
    "Calculating the extent of fake news on Facebook and its impact on users' behavior and attitudes involves several steps:\n",
    "\n",
    "1. **Data Collection**: Collect data from Facebook posts, comments, and shares over a specific period. This could involve using Facebook's API or other data scraping tools².\n",
    "\n",
    "2. **Identify Fake News**: Use machine learning algorithms or manual fact-checking to identify which posts are fake news⁴. This could involve checking the credibility of the source, cross-referencing the information with reliable sources, or looking for signs of misinformation².\n",
    "\n",
    "3. **Measure Exposure**: Determine the extent of fake news exposure by counting the number of shares, likes, and comments on the identified fake news posts³.\n",
    "\n",
    "4. **Survey or Experiment**: Conduct surveys or experiments to measure the impact of fake news on users' behavior and attitudes⁶⁷. This could involve asking users about their beliefs, attitudes, and behaviors before and after exposure to fake news.\n",
    "\n",
    "5. **Statistical Analysis**: Use statistical methods to analyze the data and draw conclusions. This could involve regression analysis, t-tests, or other statistical tests to determine if there is a significant relationship between exposure to fake news and changes in behavior or attitudes⁶.\n",
    "\n",
    "6. **Monitor Over Time**: Repeat these steps over time to track changes and trends. This can help measure the effectiveness of efforts to combat fake news⁵.\n",
    "\n",
    "It's important to note that this is a complex issue and these steps may not capture all aspects of the problem. Also, the impact of fake news can vary greatly depending on the individual and the specific context⁷⁸. Therefore, it's crucial to interpret the results with caution and consider other factors that might influence users' behavior and attitudes.\n",
    "\n",
    "Source: Conversation with Bing, 3/1/2024\n",
    "(1) Research note: The scale of Facebook’s problem depends upon how ‘fake .... https://misinforeview.hks.harvard.edu/article/research-note-the-scale-of-facebooks-problem-depends-upon-how-fake-news-is-classified/.\n",
    "(2) How to solve Facebook's fake news problem: experts pitch their ideas. https://www.theguardian.com/technology/2016/nov/29/facebook-fake-news-problem-experts-pitch-ideas-algorithms.\n",
    "(3) Fake news got more engagement than real news on Facebook in 2020, study .... https://www.independent.co.uk/news/world/americas/fake-news-facebook-misinformation-study-b1914650.html.\n",
    "(4) Quantifying the effects of fake news on behavior: Evidence from a study .... https://psycnet.apa.org/fulltext/2021-55332-001.html.\n",
    "(5) Prejudiced Fake News and Consumer Attitudes and Behaviors. https://www.psychologytoday.com/us/blog/everyday-media/202008/prejudiced-fake-news-and-consumer-attitudes-and-behaviors.\n",
    "(6) Effectiveness of Facebook's countermeasures against fake news. https://economics.stanford.edu/news/effectiveness-facebooks-countermeasures-against-fake-news.\n",
    "(7) Impact of fake news on social image perceptions and consumers .... https://www.emerald.com/insight/content/doi/10.1108/JCM-05-2020-3857/full/html.\n",
    "(8) This is how many people are consuming fake news online | World Economic .... https://www.weforum.org/agenda/2022/08/fake-news-information-social-media/.\n",
    "(9) Misinformation in action: Fake news exposure. https://misinforeview.hks.harvard.edu/wp-content/uploads/2020/06/Misinformation-in-action-Ognyanova-et-al-2020.pdf.\n",
    "(10) Misinformation in action: Fake news exposure is linked to lower trust .... https://misinforeview.hks.harvard.edu/article/misinformation-in-action-fake-news-exposure-is-linked-to-lower-trust-in-media-higher-trust-in-government-when-your-side-is-in-power/.\n",
    "(11) undefined. https://doi.org/10.1037/xap0000371."
   ]
  },
  {
   "cell_type": "markdown",
   "id": "4fb95678",
   "metadata": {
    "papermill": {
     "duration": 0.017387,
     "end_time": "2024-03-12T19:47:44.866568",
     "exception": false,
     "start_time": "2024-03-12T19:47:44.849181",
     "status": "completed"
    },
    "tags": []
   },
   "source": [
    "# Write a SQL query to find rows starting with letter 'H'"
   ]
  },
  {
   "cell_type": "code",
   "execution_count": 18,
   "id": "38d9a820",
   "metadata": {
    "execution": {
     "iopub.execute_input": "2024-03-12T19:47:44.902983Z",
     "iopub.status.busy": "2024-03-12T19:47:44.902511Z",
     "iopub.status.idle": "2024-03-12T19:47:44.907221Z",
     "shell.execute_reply": "2024-03-12T19:47:44.906084Z"
    },
    "papermill": {
     "duration": 0.025084,
     "end_time": "2024-03-12T19:47:44.909065",
     "exception": false,
     "start_time": "2024-03-12T19:47:44.883981",
     "status": "completed"
    },
    "tags": []
   },
   "outputs": [],
   "source": [
    "# select *\n",
    "# from table\n",
    "# where column like 'H%'"
   ]
  },
  {
   "cell_type": "markdown",
   "id": "f6ecdc30",
   "metadata": {
    "papermill": {
     "duration": 0.016945,
     "end_time": "2024-03-12T19:47:44.943848",
     "exception": false,
     "start_time": "2024-03-12T19:47:44.926903",
     "status": "completed"
    },
    "tags": []
   },
   "source": [
    "# Under what conditions would you select mean over median as your choice of central tendency measurement?"
   ]
  },
  {
   "cell_type": "markdown",
   "id": "8beb0eab",
   "metadata": {
    "papermill": {
     "duration": 0.016912,
     "end_time": "2024-03-12T19:47:44.977526",
     "exception": false,
     "start_time": "2024-03-12T19:47:44.960614",
     "status": "completed"
    },
    "tags": []
   },
   "source": [
    "The choice between mean and median as a measure of central tendency depends on the characteristics of the data. Here are some conditions under which you might prefer the mean:\n",
    "\n",
    "1. **No Outliers**: The mean is sensitive to extreme values or outliers. If your data does not have outliers, the mean can provide a good measure of central tendency.\n",
    "\n",
    "2. **Symmetrical Distribution**: If your data is symmetrically distributed (i.e., the distribution looks the same to the left and right of the center), the mean is a good choice because it will be equal to the median.\n",
    "\n",
    "3. **Interval or Ratio Scale**: The mean is usually preferred when dealing with data on an interval or ratio scale, which has a true zero point and equal intervals. Examples include height, weight, and age.\n",
    "\n",
    "4. **Need for Further Statistical Analysis**: If you plan to perform additional statistical analysis on your data, the mean is often more useful because it's used in various statistical tests and models.\n",
    "\n",
    "Remember, the choice between mean and median should be based on the nature of your data and the specific requirements of your analysis. It's often helpful to calculate both and compare them to get a more complete understanding of your data. If the mean and median are close, your data is likely symmetric. If they're different, your data may be skewed. In the latter case, the median might be a better measure of central tendency."
   ]
  },
  {
   "cell_type": "markdown",
   "id": "475860c2",
   "metadata": {
    "papermill": {
     "duration": 0.016602,
     "end_time": "2024-03-12T19:47:45.011186",
     "exception": false,
     "start_time": "2024-03-12T19:47:44.994584",
     "status": "completed"
    },
    "tags": []
   },
   "source": [
    "# What does p-value represent in statistical hypothesis testing?"
   ]
  },
  {
   "cell_type": "markdown",
   "id": "3b065a14",
   "metadata": {
    "papermill": {
     "duration": 0.016346,
     "end_time": "2024-03-12T19:47:45.044636",
     "exception": false,
     "start_time": "2024-03-12T19:47:45.028290",
     "status": "completed"
    },
    "tags": []
   },
   "source": [
    "In statistical hypothesis testing, the p-value is a measure of the probability of obtaining the observed data, or data more extreme, given that the null hypothesis is true⁴⁵⁶⁷.\n",
    "\n",
    "Here are some key points about the p-value:\n",
    "\n",
    "1. **Null Hypothesis**: The null hypothesis is a general statement or default position that there is no difference between two measured phenomena⁴. \n",
    "\n",
    "2. **Probability Measure**: The p-value measures how likely your data (or data more extreme) could have occurred under the null hypothesis⁴⁵⁶⁷.\n",
    "\n",
    "3. **Decision Rule**: If the p-value is small (typically ≤ 0.05), it indicates strong evidence against the null hypothesis, so you reject the null hypothesis⁴⁵. A large p-value (> 0.05) indicates weak evidence against the null hypothesis, so you fail to reject the null hypothesis⁵.\n",
    "\n",
    "4. **Not a Measure of Effect Size**: The p-value is not a measure of the size of the effect or the importance of the result⁴.\n",
    "\n",
    "Remember, the p-value is just one piece of the puzzle in statistical analysis. It should be used in conjunction with other metrics and tests to make informed decisions or conclusions.\n",
    "\n",
    "Source: Conversation with Bing, 3/1/2024\n",
    "(1) Understanding P-values | Definition and Examples - Scribbr. https://www.scribbr.com/statistics/p-value/.\n",
    "(2) P-Value in Statistical Hypothesis Tests: What is it?. https://www.statisticshowto.com/probability-and-statistics/statistics-definitions/p-value/.\n",
    "(3) P-Value: What It Is, How to Calculate It, and Why It Matters - Investopedia. https://www.investopedia.com/terms/p/p-value.asp.\n",
    "(4) What Is P-Value in Statistical Hypothesis? | Simplilearn. https://www.simplilearn.com/tutorials/statistics-tutorial/p-value-in-statistics-hypothesis.\n",
    "(5) Hypothesis testing and p-values | Inferential statistics | Probability and Statistics | Khan Academy. https://www.youtube.com/watch?v=-FtlH4svqx4.\n",
    "(6) P-Value Method For Hypothesis Testing. https://www.youtube.com/watch?v=8Aw45HN5lnA.\n",
    "(7) How P-Values Help Us Test Hypotheses: Crash Course Statistics #21. https://www.youtube.com/watch?v=bf3egy7TQ2Q."
   ]
  },
  {
   "cell_type": "markdown",
   "id": "10684cba",
   "metadata": {
    "papermill": {
     "duration": 0.0162,
     "end_time": "2024-03-12T19:47:45.077782",
     "exception": false,
     "start_time": "2024-03-12T19:47:45.061582",
     "status": "completed"
    },
    "tags": []
   },
   "source": [
    "# Can you provide a simple definition of power that a non-technical person would understand?"
   ]
  },
  {
   "cell_type": "markdown",
   "id": "a25b53e2",
   "metadata": {
    "papermill": {
     "duration": 0.01897,
     "end_time": "2024-03-12T19:47:45.113826",
     "exception": false,
     "start_time": "2024-03-12T19:47:45.094856",
     "status": "completed"
    },
    "tags": []
   },
   "source": [
    "(ability to detect actual difference - high is best)\n",
    "\n",
    "Sure, in the context of statistics, \"power\" is like your ability to find a treasure that's actually there. If the power is high, you're very likely to find the treasure if it exists. If the power is low, you might miss the treasure even though it's there¹²³. In other words, power is the likelihood that a test will detect a difference or effect if one truly exists¹²³.\n",
    "\n",
    "Source: Conversation with Bing, 3/1/2024\n",
    "(1) Statistical Power and Why It Matters | A Simple Introduction - Scribbr. https://www.scribbr.com/statistics/statistical-power/.\n",
    "(2) Statistical Power ~ An Easy Introduction with Examples - BachelorPrint. https://www.bachelorprint.com/statistics/statistical-power/.\n",
    "(3) Statistical Power: What it is, How to Calculate it. https://www.statisticshowto.com/probability-and-statistics/statistics-definitions/statistical-power/."
   ]
  },
  {
   "cell_type": "markdown",
   "id": "efbfa4b5",
   "metadata": {
    "papermill": {
     "duration": 0.017415,
     "end_time": "2024-03-12T19:47:45.150964",
     "exception": false,
     "start_time": "2024-03-12T19:47:45.133549",
     "status": "completed"
    },
    "tags": []
   },
   "source": [
    "# What is a median? How would you go about calculating a median from a dataset too large to store in memory?"
   ]
  },
  {
   "cell_type": "markdown",
   "id": "2bcf2f17",
   "metadata": {
    "papermill": {
     "duration": 0.016636,
     "end_time": "2024-03-12T19:47:45.184388",
     "exception": false,
     "start_time": "2024-03-12T19:47:45.167752",
     "status": "completed"
    },
    "tags": []
   },
   "source": [
    "The **median** is a measure of central tendency that represents the middle value in a dataset when it is ordered⁶⁷⁸⁹. If the dataset has an odd number of observations, the median is the middle number. If the dataset has an even number of observations, the median is the average of the two middle numbers⁶⁹.\n",
    "\n",
    "Calculating the median from a dataset too large to store in memory can be challenging. Here are some strategies:\n",
    "\n",
    "1. **Sampling**: If the dataset is too large, you could take a random sample of the data that is small enough to fit into memory and calculate the median of the sample. This will give you an estimate of the overall median.\n",
    "\n",
    "2. **Binning**: You could divide the range of the data into bins and count the number of data points in each bin. This would allow you to find an approximate median without having to store all the data in memory¹.\n",
    "\n",
    "3. **Online Algorithms**: There are algorithms designed for streaming data, where you process each data point only once. An example is the \"median of medians\" algorithm¹.\n",
    "\n",
    "4. **Distributed Computing**: If the data is stored across multiple machines (like in a Hadoop or Spark cluster), you could use a distributed computing framework to calculate the median.\n",
    "\n",
    "Remember, these methods provide approximations to the median, and their accuracy depends on the nature of your data and the specific method used.\n",
    "\n",
    "Source: Conversation with Bing, 3/1/2024\n",
    "(1) Mean, median, and mode review (article) | Khan Academy. https://www.khanacademy.org/math/statistics-probability/summarizing-quantitative-data/mean-median-basics/a/mean-median-and-mode-review.\n",
    "(2) Median - Wikipedia. https://en.wikipedia.org/wiki/Median.\n",
    "(3) Median: What It Is and How To Calculate It, With Examples - Investopedia. https://www.investopedia.com/terms/m/median.asp.\n",
    "(4) Median in Statistics - Median Formula, How to Find & Solved Examples. https://byjus.com/maths/median/.\n",
    "(5) What is a good algorithm for estimating the median of a huge read-once .... https://stats.stackexchange.com/questions/346/what-is-a-good-algorithm-for-estimating-the-median-of-a-huge-read-once-data-set.\n",
    "(6) How to Find the Median | Definition, Examples & Calculator - Scribbr. https://www.scribbr.com/statistics/median/.\n",
    "(7) Median Formula | How to Calculate? (Mathematical & Excel Formula) - EDUCBA. https://www.educba.com/median-formula/.\n",
    "(8) Median: How to Find it, Definition & Examples. https://www.statisticshowto.com/probability-and-statistics/statistics-definitions/median/.\n",
    "(9) Median - Formula, Meaning, Example | How to Find Median? - Cuemath. https://www.cuemath.com/data/median/."
   ]
  },
  {
   "cell_type": "markdown",
   "id": "fd99205f",
   "metadata": {
    "papermill": {
     "duration": 0.016942,
     "end_time": "2024-03-12T19:47:45.218037",
     "exception": false,
     "start_time": "2024-03-12T19:47:45.201095",
     "status": "completed"
    },
    "tags": []
   },
   "source": [
    "# Can you detail the process to calculate the chance of rightly guessing a randomly drawn card from a deck?"
   ]
  },
  {
   "cell_type": "markdown",
   "id": "695e0208",
   "metadata": {
    "papermill": {
     "duration": 0.016437,
     "end_time": "2024-03-12T19:47:45.251243",
     "exception": false,
     "start_time": "2024-03-12T19:47:45.234806",
     "status": "completed"
    },
    "tags": []
   },
   "source": [
    "Sure, let's break it down:\n",
    "\n",
    "A standard deck of cards has 52 unique cards. If you are guessing a specific card (for example, the Ace of Spades), there is only one such card in the deck.\n",
    "\n",
    "The probability of correctly guessing a specific card is calculated as the number of favorable outcomes (getting the card you guessed) divided by the total number of outcomes (the total number of cards).\n",
    "\n",
    "So, the probability of correctly guessing a specific card from a standard deck is calculated as:\n",
    "\n",
    "$$\\frac{1}{52} \\approx 0.01923$$\n",
    "\n",
    "This means that if you were to guess a specific card before drawing a card from a well-shuffled standard deck, you would be correct about 1.923% of the time."
   ]
  },
  {
   "cell_type": "markdown",
   "id": "977dff97",
   "metadata": {
    "papermill": {
     "duration": 0.016863,
     "end_time": "2024-03-12T19:47:45.285081",
     "exception": false,
     "start_time": "2024-03-12T19:47:45.268218",
     "status": "completed"
    },
    "tags": []
   },
   "source": [
    "# How do you analyze order histories to determine the top 5 highest-selling items?"
   ]
  },
  {
   "cell_type": "markdown",
   "id": "f3a90d35",
   "metadata": {
    "papermill": {
     "duration": 0.017142,
     "end_time": "2024-03-12T19:47:45.320530",
     "exception": false,
     "start_time": "2024-03-12T19:47:45.303388",
     "status": "completed"
    },
    "tags": []
   },
   "source": [
    "Analyzing order histories to determine the top 5 highest-selling items involves several steps:\n",
    "\n",
    "1. **Data Collection**: Gather all the order history data. This data might include information like order ID, customer ID, product ID, quantity, price, and date of purchase.\n",
    "\n",
    "2. **Data Processing**: Clean and preprocess the data. This might involve handling missing values, converting data types, or dealing with outliers.\n",
    "\n",
    "3. **Aggregation**: Aggregate the data by product ID to calculate the total quantity sold for each item.\n",
    "\n",
    "4. **Sorting**: Sort the aggregated data in descending order based on the total quantity sold.\n",
    "\n",
    "5. **Selection**: Select the top 5 items from the sorted list.\n",
    "\n",
    "Here's a simple example of how you might do this in SQL, assuming you have a table named `orders` with columns `product_id` and `quantity`:\n",
    "\n",
    "```sql\n",
    "SELECT product_id, SUM(quantity) as total_quantity\n",
    "FROM orders\n",
    "GROUP BY product_id\n",
    "ORDER BY total_quantity DESC\n",
    "LIMIT 5;\n",
    "```\n",
    "\n",
    "This SQL query groups the orders by product, sums the quantity for each product, sorts the products by the total quantity in descending order, and then selects the top 5. Please replace `orders`, `product_id`, and `quantity` with your actual table and column names.\n",
    "\n",
    "Remember, this is a simplified example. The actual process might be more complex depending on the structure and quality of your data. For large datasets that can't fit into memory, you might need to use big data technologies like Hadoop or Spark. Also, this process will give you the top-selling items in terms of quantity. If you want the top-selling items in terms of revenue, you would need to multiply the quantity by the price."
   ]
  }
 ],
 "metadata": {
  "kaggle": {
   "accelerator": "none",
   "dataSources": [],
   "dockerImageVersionId": 30664,
   "isGpuEnabled": false,
   "isInternetEnabled": true,
   "language": "python",
   "sourceType": "notebook"
  },
  "kernelspec": {
   "display_name": "Python 3",
   "language": "python",
   "name": "python3"
  },
  "language_info": {
   "codemirror_mode": {
    "name": "ipython",
    "version": 3
   },
   "file_extension": ".py",
   "mimetype": "text/x-python",
   "name": "python",
   "nbconvert_exporter": "python",
   "pygments_lexer": "ipython3",
   "version": "3.10.13"
  },
  "papermill": {
   "default_parameters": {},
   "duration": 24.476914,
   "end_time": "2024-03-12T19:47:46.361472",
   "environment_variables": {},
   "exception": null,
   "input_path": "__notebook__.ipynb",
   "output_path": "__notebook__.ipynb",
   "parameters": {},
   "start_time": "2024-03-12T19:47:21.884558",
   "version": "2.5.0"
  }
 },
 "nbformat": 4,
 "nbformat_minor": 5
}
